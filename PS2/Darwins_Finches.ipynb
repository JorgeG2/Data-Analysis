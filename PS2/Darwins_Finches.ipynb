{
 "cells": [
  {
   "cell_type": "code",
   "execution_count": 2,
   "id": "07e7e880-b91c-4dd1-8145-fe6211297b40",
   "metadata": {
    "tags": []
   },
   "outputs": [],
   "source": [
    "import pandas as pd\n",
    "import numpy as np\n",
    "import seaborn as sns\n",
    "import matplotlib.pylab as plt\n",
    "import warnings"
   ]
  },
  {
   "cell_type": "code",
   "execution_count": 3,
   "id": "efb2bfb8-8dbd-49b5-b8cb-1a51f11ce6cf",
   "metadata": {
    "tags": []
   },
   "outputs": [],
   "source": [
    "warnings.filterwarnings(\"ignore\")"
   ]
  },
  {
   "cell_type": "markdown",
   "id": "1cf668cd-f57e-46b1-83f7-15c01159da08",
   "metadata": {},
   "source": [
    "# Import and Prepare Data\n",
    "The finch dataset is stored in a .csv file named \"finchData.csv\". In this activity, you will read the data into a pandas data frame, do a little processing, and extract the data for the scandens and fortis finch species.\n",
    "\n",
    "You can use the read_csv function to read the data from a file into a pandas data frame.\n",
    "\n",
    "df = pd.read_csv(fileName)"
   ]
  },
  {
   "cell_type": "code",
   "execution_count": null,
   "id": "2a515717-1fd4-4980-995d-620709e96e7f",
   "metadata": {
    "tags": []
   },
   "outputs": [],
   "source": [
    "finches = pd.read_csv(\"/Volumes/TOLG/2024_spring/1206_data_sets/finchData.csv\")\n",
    "\n",
    "finches.head()"
   ]
  },
  {
   "cell_type": "code",
   "execution_count": null,
   "id": "122bd9ca-52e1-4227-919a-7abfcc525a07",
   "metadata": {
    "tags": []
   },
   "outputs": [],
   "source": [
    "finches.isna().sum().sort_values()"
   ]
  },
  {
   "cell_type": "code",
   "execution_count": null,
   "id": "148507ec-3ff0-45f2-863e-0a74c0ae5ff8",
   "metadata": {
    "tags": []
   },
   "outputs": [],
   "source": [
    "finches.info()"
   ]
  },
  {
   "cell_type": "code",
   "execution_count": null,
   "id": "7ad350b4-fe9c-47df-9ae2-400d6c1c0440",
   "metadata": {
    "tags": []
   },
   "outputs": [],
   "source": [
    "finches.shape"
   ]
  },
  {
   "cell_type": "code",
   "execution_count": null,
   "id": "a854bd85-49ed-478f-a248-5f9c5ff786c8",
   "metadata": {
    "tags": []
   },
   "outputs": [],
   "source": [
    "finches.shape[1]"
   ]
  },
  {
   "cell_type": "code",
   "execution_count": null,
   "id": "29d32101-d098-42d5-bc2a-cc561aeb2913",
   "metadata": {
    "tags": []
   },
   "outputs": [],
   "source": [
    "finches.size"
   ]
  },
  {
   "cell_type": "code",
   "execution_count": null,
   "id": "b7cd734a-0c58-419f-9cab-1c46a103b2cc",
   "metadata": {
    "tags": []
   },
   "outputs": [],
   "source": [
    "finches.nunique()"
   ]
  },
  {
   "cell_type": "markdown",
   "id": "5c74a378-aa23-4326-980d-9907a213e64d",
   "metadata": {},
   "source": [
    "# Changing Dtypes\n",
    "\n",
    "Convert 'Species' to categorical variable, and and 'Band'and 'Year' to type str."
   ]
  },
  {
   "cell_type": "code",
   "execution_count": null,
   "id": "ae8a86fe-bf81-40ac-9188-9b158f58268f",
   "metadata": {
    "tags": []
   },
   "outputs": [],
   "source": [
    "finches['Species'] = finches['Species'].astype('category')\n",
    "\n",
    "finches['Band'] = finches['Band'].astype('str')\n",
    "\n",
    "finches['Year'] = finches['Year'].astype('category')"
   ]
  },
  {
   "cell_type": "code",
   "execution_count": null,
   "id": "fbd518fd-0589-4ae2-87db-215bcd512abd",
   "metadata": {
    "tags": []
   },
   "outputs": [],
   "source": [
    "finches.info()"
   ]
  },
  {
   "cell_type": "code",
   "execution_count": null,
   "id": "fd9aff2b-464a-4b54-9643-281cac970fb6",
   "metadata": {
    "tags": []
   },
   "outputs": [],
   "source": [
    "finches.describe(include='all').T"
   ]
  },
  {
   "cell_type": "code",
   "execution_count": null,
   "id": "c4841d9d-3a3d-4d65-a092-c9e6eac11481",
   "metadata": {
    "tags": []
   },
   "outputs": [],
   "source": [
    "finches.describe().T"
   ]
  },
  {
   "cell_type": "code",
   "execution_count": null,
   "id": "eb07326e-03d3-44e0-930d-0a1902569653",
   "metadata": {
    "tags": []
   },
   "outputs": [],
   "source": [
    "finches.groupby(\"Species\").size()"
   ]
  },
  {
   "cell_type": "code",
   "execution_count": null,
   "id": "5528b588-af15-4cd9-b2ab-a81aa8a770d7",
   "metadata": {
    "tags": []
   },
   "outputs": [],
   "source": [
    "finches.groupby(\"Year\").size()"
   ]
  },
  {
   "cell_type": "markdown",
   "id": "e53c9216-64d0-41f1-a5d0-87338317b7b0",
   "metadata": {},
   "source": [
    "# Different data extracting methods\n",
    "\n",
    "There are about half as many finches in 2012 than in 1975. Does this occur for both finch species?\n",
    "\n",
    "To investigate, create a separate table for the scandens finch species. You can select data according to a condition using relational operators such as == and the query method of data frames."
   ]
  },
  {
   "cell_type": "code",
   "execution_count": null,
   "id": "811d6d69-51f7-48ab-9e17-12731be92a64",
   "metadata": {
    "tags": []
   },
   "outputs": [],
   "source": [
    "finches['Species'] == 'scandens'"
   ]
  },
  {
   "cell_type": "code",
   "execution_count": null,
   "id": "3568fd0f-9a37-41e6-8383-e12231e04a96",
   "metadata": {
    "tags": []
   },
   "outputs": [],
   "source": [
    "scandens = finches.loc[finches['Species'] == 'scandens']\n",
    "scandens"
   ]
  },
  {
   "cell_type": "code",
   "execution_count": null,
   "id": "1a6f49b1-02c3-442e-824c-3230cad017b5",
   "metadata": {
    "tags": []
   },
   "outputs": [],
   "source": [
    "fortis = finches.loc[finches['Species'] == 'fortis']# df.loc[list of row labels, list of column labels]\n",
    "fortis"
   ]
  },
  {
   "cell_type": "code",
   "execution_count": null,
   "id": "bb064033-ebd9-498c-b70f-8e59aee8258c",
   "metadata": {
    "tags": []
   },
   "outputs": [],
   "source": [
    "scandens.describe().T"
   ]
  },
  {
   "cell_type": "code",
   "execution_count": null,
   "id": "edf2baa7-3087-4954-b414-ddc022408404",
   "metadata": {
    "tags": []
   },
   "outputs": [],
   "source": [
    "scandens.groupby(\"Year\").size()"
   ]
  },
  {
   "cell_type": "code",
   "execution_count": null,
   "id": "d70246ca-113a-41fe-b328-713cc98b5718",
   "metadata": {
    "tags": []
   },
   "outputs": [],
   "source": [
    "fortis = finches.query('Species == \"fortis\"')"
   ]
  },
  {
   "cell_type": "code",
   "execution_count": null,
   "id": "46f22ed7-4e59-4185-8042-6bcd7a8a0bf1",
   "metadata": {
    "tags": []
   },
   "outputs": [],
   "source": [
    "fortis.describe().T"
   ]
  },
  {
   "cell_type": "code",
   "execution_count": null,
   "id": "2df54c64-fe85-45ec-a567-f9aff923afc6",
   "metadata": {
    "tags": []
   },
   "outputs": [],
   "source": [
    "fortis.groupby(\"Year\").size()"
   ]
  },
  {
   "cell_type": "code",
   "execution_count": null,
   "id": "1fb2b2b1-ca65-4ba5-b7b0-e71bcd01bf59",
   "metadata": {
    "tags": []
   },
   "outputs": [],
   "source": [
    "# A scatter plot explores how two variables are related to each other.\n",
    "# You can use seaborn's scatterplot method to create a scatter plot.\n",
    "\n",
    "sns.set(style=\"ticks\")\n",
    "\n",
    "sns.scatterplot(x='BeakLength', y='BeakDepth', data=finches)\n",
    "\n",
    "plt.xlabel('Beak Length')\n",
    "plt.ylabel('Beak Depth')\n",
    "plt.title(\"Scatter Plot\");"
   ]
  },
  {
   "cell_type": "markdown",
   "id": "df7b15e1-5544-4845-96a2-e1489200da52",
   "metadata": {},
   "source": [
    "Notice that there appear to be two \"groups\" in the plot. You can visualize different groups in a scatter plot by assigning each group a different color."
   ]
  },
  {
   "cell_type": "code",
   "execution_count": null,
   "id": "39172120-c293-46bd-bc13-14c5ce94a6bf",
   "metadata": {
    "tags": []
   },
   "outputs": [],
   "source": [
    "sns.set(style=\"ticks\")\n",
    "\n",
    "sns.scatterplot(x='BeakLength', y='BeakDepth', hue='Species', data=finches)\n",
    "\n",
    "plt.xlabel('Beak Length')\n",
    "plt.ylabel('Beak Depth');\n"
   ]
  },
  {
   "cell_type": "code",
   "execution_count": null,
   "id": "3eceffcb-6058-4583-89f1-2210e124fb1d",
   "metadata": {
    "tags": []
   },
   "outputs": [],
   "source": [
    "sns.set(style=\"ticks\")\n",
    "\n",
    "sns.scatterplot(x='BeakLength', y='BeakDepth', hue='Species', style = 'Year', data=finches)\n",
    "\n",
    "plt.xlabel('Beak Length')\n",
    "plt.ylabel('Beak Depth');\n",
    "\n",
    "#plt.legend(loc=\"upper left\");\n"
   ]
  },
  {
   "cell_type": "markdown",
   "id": "d2d33588-6d0a-44f0-aafc-9698e6d0bbd6",
   "metadata": {},
   "source": [
    "# Histogram\n",
    "\n",
    "In the previous activity, you saw the relationship between the finches' beak length and depth measurements in a scatter plot. Let's now look at the distribution of the beak length measurements with a histogram. A histogram provides a quick visual insight into how a data set is distributed. The range of possible values is divided into intervals, or bins, and each bar shows how many observations fall within that interval."
   ]
  },
  {
   "cell_type": "code",
   "execution_count": null,
   "id": "5ddc5819-910d-4a0c-a010-3a70b7862e0e",
   "metadata": {
    "tags": []
   },
   "outputs": [],
   "source": [
    "# Create a histogram of the beak length measurements in data using the seaborn's histplot method\n",
    "\n",
    "# styles to choose from: 'darkgrid', 'whitegrid', 'dark', 'white', 'ticks'\n",
    "\n",
    "sns.set(style=\"ticks\")\n",
    "\n",
    "binwidth = .75\n",
    "\n",
    "lower = min(finches['BeakLength'])\n",
    "upper = max(finches['BeakLength'])\n",
    "\n",
    "bins_finches = np.arange(lower, upper+1, binwidth)\n",
    "\n",
    "sns.histplot(finches[\"BeakLength\"], \n",
    "             bins= bins_finches, \n",
    "             kde=False, \n",
    "             color='skyblue')\n",
    "\n",
    "xtick_labels = [f'{label:.2f}' for label in bins_finches]\n",
    "plt.xticks(bins_finches, xtick_labels)\n",
    "plt.xticks(rotation=30)\n",
    "plt.xlabel(\"Beak Length\")\n",
    "plt.ylabel(\"Frequency\")\n",
    "plt.title(\"Histogram\");"
   ]
  },
  {
   "cell_type": "markdown",
   "id": "b0a92d5e-1c32-46b6-964f-04e278b2b14f",
   "metadata": {},
   "source": [
    "This histogram appears to have two peaks, so we can say this data is bimodal. The data plotted is for the two species. Is that why there are two peaks in the graph?"
   ]
  },
  {
   "cell_type": "markdown",
   "id": "cc03a66c-6e67-4797-9144-bfb4fcf7b0ce",
   "metadata": {},
   "source": [
    "# Creating histograms side by side\n",
    "\n",
    "Create a plot with two histograms in the same axes, one for the scandens beak length measurements and one for the fortis beak length measurements."
   ]
  },
  {
   "cell_type": "code",
   "execution_count": null,
   "id": "3aa72a1d-d832-4597-b431-76c5392a499d",
   "metadata": {
    "tags": []
   },
   "outputs": [],
   "source": [
    "sns.set(style=\"ticks\")\n",
    "\n",
    "binwidth = .75\n",
    "\n",
    "lower = min(finches['BeakLength'])\n",
    "upper = max(finches['BeakLength'])\n",
    "\n",
    "bins_finches = np.arange(lower, upper+1, binwidth)\n",
    "\n",
    "sns.histplot(scandens['BeakLength'], bins=bins_finches, kde=False, label='scandens', color='blue')\n",
    "\n",
    "sns.histplot(fortis['BeakLength'], bins=bins_finches, kde=False, label='fortis', color='orange')\n",
    "\n",
    "xtick_labels = [f'{label:.2f}' for label in bins_finches]\n",
    "plt.xticks(bins_finches, xtick_labels)\n",
    "plt.xticks(rotation=90)\n",
    "plt.xlabel('Beak Length')\n",
    "plt.ylabel('Frequency')\n",
    "plt.title('Histogram of Beak Lengths for scandens and fortis')\n",
    "plt.legend();"
   ]
  },
  {
   "cell_type": "markdown",
   "id": "5d24f3fb-b0c1-48f0-95f7-542509ceb6b8",
   "metadata": {},
   "source": [
    "It's no surprise that beak length measurements are different for the two species. Specifically, they are larger for the scandens species than for the fortis species. The scandens, or cactus finch, primarily feeds on cactus flowers, fruits and seeds, which require a longer beak to reach. In contrast, the fortis, or ground finch, feeds on seeds, which require a shorter but wider beak to break them open."
   ]
  },
  {
   "cell_type": "markdown",
   "id": "d364cf27-8580-453b-809e-cd2ef9b782b8",
   "metadata": {
    "tags": []
   },
   "source": [
    "# Normalizing Data Sets\n",
    "\n",
    "There are more fortis than scandens observations, which makes it seem like the fortis data is more significant than the scandens data. You can remove this bias by normalizing your data so that instead of looking at the total number of observations, you look at the relative number of observations within each bin."
   ]
  },
  {
   "cell_type": "code",
   "execution_count": null,
   "id": "52a95cc6-ff26-4f90-aec0-266243676d0e",
   "metadata": {
    "tags": []
   },
   "outputs": [],
   "source": [
    "binwidth = .75\n",
    "\n",
    "lower = min(finches['BeakLength'])\n",
    "upper = max(finches['BeakLength'])\n",
    "\n",
    "bins_finches = np.arange(lower, upper+1, binwidth)\n",
    "\n",
    "sns.histplot(scandens['BeakLength'], \n",
    "             bins=bins_finches, \n",
    "             kde=False, \n",
    "             label='scandens', \n",
    "             color='blue', \n",
    "             stat='density')\n",
    "\n",
    "sns.histplot(fortis['BeakLength'], \n",
    "             bins=bins_finches, \n",
    "             kde=False, \n",
    "             label='fortis', \n",
    "             color='orange',  \n",
    "             stat='density')\n",
    "\n",
    "xtick_labels = [f'{label:.2f}' for label in bins_finches]\n",
    "plt.xticks(bins_finches, xtick_labels)\n",
    "plt.xticks(rotation=30)\n",
    "plt.xlabel('Beak Length')\n",
    "plt.ylabel('Relative Frequency')\n",
    "plt.title('Histogram of Beak Lengths for scandens and fortis')\n",
    "plt.legend();"
   ]
  },
  {
   "cell_type": "markdown",
   "id": "7d1daba4-3999-4b4c-ac9c-641fa5e59455",
   "metadata": {},
   "source": [
    "# It's clear that the scandens and fortis have different beak lengths.\n",
    "\n",
    "### Question: Is the scandens beak length changed(evolved) between 1975 and 2012? If there is a change, is it statistically significant?\n",
    "\n",
    "Try creating two histograms for the scandens' beak length measurements, one for 1975 and another for 2012."
   ]
  },
  {
   "cell_type": "code",
   "execution_count": null,
   "id": "da80b785-74d4-49d3-82eb-84e18360080d",
   "metadata": {
    "tags": []
   },
   "outputs": [],
   "source": [
    "binwidth = 0.50\n",
    "\n",
    "sc1975 = scandens.query('Year == \"1975\"')['BeakLength']\n",
    "\n",
    "sc2012 = scandens.query('Year == \"2012\"')['BeakLength']\n",
    "\n",
    "bins_sc = np.arange(min(scandens['BeakLength']),max(scandens['BeakLength'])+1, binwidth)\n",
    "\n",
    "xtick_labels = [f'{label:.2f}' for label in bins_sc]\n",
    "\n",
    "plt.xticks(bins_sc, xtick_labels)\n",
    "\n",
    "plt.xticks(rotation=90)\n",
    "\n",
    "sns.histplot(sc1975, bins=bins_sc, kde=False, label ='scandens-1975', color='blue', stat='density')\n",
    "\n",
    "sns.histplot(sc2012, bins=bins_sc, kde=False, label='scandens-2012', color='orange', stat='density')\n",
    "\n",
    "plt.xlabel('Beak Length')\n",
    "plt.ylabel('Relative Frequency')\n",
    "plt.title('BeakLength comparison of scandens in 1975 and scandens in 2012')\n",
    "plt.legend();"
   ]
  },
  {
   "cell_type": "markdown",
   "id": "0e3ae1cb-2efd-402a-be2a-3c9437cc7872",
   "metadata": {},
   "source": [
    "From the histograms of the scandens' beak length measurements, it appears that the length in 1975 is centered on approximately 14.12 mm, whereas the length in 2012 is centered on approximately 13.42 mm. Is this difference statisticaly significant?"
   ]
  },
  {
   "cell_type": "code",
   "execution_count": null,
   "id": "f8fbcc94-9c48-42f4-8224-97dc686113ff",
   "metadata": {
    "tags": []
   },
   "outputs": [],
   "source": [
    "print(f\"Mean beak lengthe of scandens in 1975 = {sc1975.mean()}\\n\")\n",
    "print(f\"Mean beak lengthe of scandens in 2012 = {sc2012.mean()}\")"
   ]
  },
  {
   "cell_type": "markdown",
   "id": "37c80d07-c573-436e-b4c8-fec0cf8f2a2d",
   "metadata": {},
   "source": [
    "# Boxplot\n",
    "\n",
    "Use seaborn to make a boxplot of the finches data set"
   ]
  },
  {
   "cell_type": "code",
   "execution_count": null,
   "id": "2b01934e-119d-44d3-a391-10d1de9fadf0",
   "metadata": {
    "tags": []
   },
   "outputs": [],
   "source": [
    "ax = sns.boxplot(data=finches, \n",
    "                 x='Species', \n",
    "                 y='BeakLength', \n",
    "                 hue='Year')"
   ]
  },
  {
   "cell_type": "code",
   "execution_count": null,
   "id": "e9d4ef01-2835-4d99-b6d5-2ee1ceb006df",
   "metadata": {
    "tags": []
   },
   "outputs": [],
   "source": [
    "g = sns.catplot(data=finches, \n",
    "                kind='box', \n",
    "                x='Species', \n",
    "                y='BeakLength', \n",
    "                hue='Year')"
   ]
  },
  {
   "cell_type": "markdown",
   "id": "e0f42032-c2cc-44fd-8b6e-242d5df09b45",
   "metadata": {},
   "source": [
    "## Making a horizontal/vertical boxplots for all numerical variables with no label(category)\n",
    "\n",
    "orient = \"v\" -- vertical boxplot(default),  \n",
    "\n",
    "orient = \"h\" -- horizontal boxplot"
   ]
  },
  {
   "cell_type": "code",
   "execution_count": null,
   "id": "a719af51-467d-4608-a7bf-bca660b86181",
   "metadata": {
    "tags": []
   },
   "outputs": [],
   "source": [
    "sns.boxplot(np.random.normal(39,2,1000));"
   ]
  },
  {
   "cell_type": "code",
   "execution_count": null,
   "id": "eaefa72b-dca5-48d9-832a-290e500f46eb",
   "metadata": {
    "tags": []
   },
   "outputs": [],
   "source": [
    "sns.boxplot(np.random.normal(39,2,1000), orient=\"h\");"
   ]
  },
  {
   "cell_type": "code",
   "execution_count": null,
   "id": "da3a58f2-b1da-4b4a-a55e-037232ed21ef",
   "metadata": {
    "tags": []
   },
   "outputs": [],
   "source": [
    "n=1000\n",
    "\n",
    "rand_dict = {\"age\":list(np.random.binomial(100, 0.25, n)),\n",
    "             \"weight\":list(np.around(np.random.uniform(low=100 , high=200, size=n),2)),\n",
    "             \"height\":list(np.around(np.random.normal(70, 12.0, size=n),2))}"
   ]
  },
  {
   "cell_type": "code",
   "execution_count": null,
   "id": "7039cf21-bf9f-4718-a185-df1e4c320556",
   "metadata": {
    "tags": []
   },
   "outputs": [],
   "source": [
    "rand_data = pd.DataFrame(rand_dict)\n",
    "rand_data"
   ]
  },
  {
   "cell_type": "code",
   "execution_count": null,
   "id": "f9343b75-f2bd-451b-a8e6-511ed8c9fdef",
   "metadata": {
    "tags": []
   },
   "outputs": [],
   "source": [
    "sns.boxplot(data=rand_data, orient=\"h\");"
   ]
  },
  {
   "cell_type": "code",
   "execution_count": null,
   "id": "46786d64-e058-4101-babb-d498585e48db",
   "metadata": {
    "tags": []
   },
   "outputs": [],
   "source": [
    "sns.boxplot(data=rand_data, orient=\"v\");"
   ]
  },
  {
   "cell_type": "code",
   "execution_count": null,
   "id": "e146b794-f3f6-42d0-9943-709ff6497305",
   "metadata": {
    "tags": []
   },
   "outputs": [],
   "source": [
    "sns.boxplot(data=rand_data[['age', 'height']]);"
   ]
  },
  {
   "cell_type": "code",
   "execution_count": null,
   "id": "1d275d94-0961-4e8a-9f10-d1bab31f7b3f",
   "metadata": {
    "tags": []
   },
   "outputs": [],
   "source": [
    "# You can also specify x=var_name, orient=\"h\" or y=var_name with orient = \"v\"\n",
    "\n",
    "sns.boxplot(data=rand_data, y='weight', orient=\"v\");"
   ]
  },
  {
   "cell_type": "code",
   "execution_count": 4,
   "id": "3f60e990-17eb-4b6f-be30-367f66cbaf82",
   "metadata": {},
   "outputs": [],
   "source": [
    "brexit = pd.read_csv(\"BREXIT.csv\")"
   ]
  },
  {
   "cell_type": "code",
   "execution_count": 5,
   "id": "5dbf6e93-aa47-4726-a158-e5fbfcf1ebaa",
   "metadata": {
    "tags": []
   },
   "outputs": [
    {
     "data": {
      "text/html": [
       "<div>\n",
       "<style scoped>\n",
       "    .dataframe tbody tr th:only-of-type {\n",
       "        vertical-align: middle;\n",
       "    }\n",
       "\n",
       "    .dataframe tbody tr th {\n",
       "        vertical-align: top;\n",
       "    }\n",
       "\n",
       "    .dataframe thead th {\n",
       "        text-align: right;\n",
       "    }\n",
       "</style>\n",
       "<table border=\"1\" class=\"dataframe\">\n",
       "  <thead>\n",
       "    <tr style=\"text-align: right;\">\n",
       "      <th></th>\n",
       "      <th>Unnamed: 0</th>\n",
       "      <th>intended vote</th>\n",
       "      <th>education</th>\n",
       "      <th>age</th>\n",
       "    </tr>\n",
       "  </thead>\n",
       "  <tbody>\n",
       "    <tr>\n",
       "      <th>0</th>\n",
       "      <td>0</td>\n",
       "      <td>leave</td>\n",
       "      <td>3.0</td>\n",
       "      <td>60</td>\n",
       "    </tr>\n",
       "    <tr>\n",
       "      <th>1</th>\n",
       "      <td>1</td>\n",
       "      <td>leave</td>\n",
       "      <td>NaN</td>\n",
       "      <td>56</td>\n",
       "    </tr>\n",
       "    <tr>\n",
       "      <th>2</th>\n",
       "      <td>2</td>\n",
       "      <td>stay</td>\n",
       "      <td>5.0</td>\n",
       "      <td>73</td>\n",
       "    </tr>\n",
       "    <tr>\n",
       "      <th>3</th>\n",
       "      <td>3</td>\n",
       "      <td>leave</td>\n",
       "      <td>4.0</td>\n",
       "      <td>64</td>\n",
       "    </tr>\n",
       "    <tr>\n",
       "      <th>4</th>\n",
       "      <td>4</td>\n",
       "      <td>don't know</td>\n",
       "      <td>2.0</td>\n",
       "      <td>68</td>\n",
       "    </tr>\n",
       "    <tr>\n",
       "      <th>...</th>\n",
       "      <td>...</td>\n",
       "      <td>...</td>\n",
       "      <td>...</td>\n",
       "      <td>...</td>\n",
       "    </tr>\n",
       "    <tr>\n",
       "      <th>30890</th>\n",
       "      <td>30890</td>\n",
       "      <td>stay</td>\n",
       "      <td>4.0</td>\n",
       "      <td>21</td>\n",
       "    </tr>\n",
       "    <tr>\n",
       "      <th>30891</th>\n",
       "      <td>30891</td>\n",
       "      <td>leave</td>\n",
       "      <td>NaN</td>\n",
       "      <td>18</td>\n",
       "    </tr>\n",
       "    <tr>\n",
       "      <th>30892</th>\n",
       "      <td>30892</td>\n",
       "      <td>stay</td>\n",
       "      <td>NaN</td>\n",
       "      <td>61</td>\n",
       "    </tr>\n",
       "    <tr>\n",
       "      <th>30893</th>\n",
       "      <td>30893</td>\n",
       "      <td>stay</td>\n",
       "      <td>3.0</td>\n",
       "      <td>18</td>\n",
       "    </tr>\n",
       "    <tr>\n",
       "      <th>30894</th>\n",
       "      <td>30894</td>\n",
       "      <td>stay</td>\n",
       "      <td>3.0</td>\n",
       "      <td>23</td>\n",
       "    </tr>\n",
       "  </tbody>\n",
       "</table>\n",
       "<p>30895 rows × 4 columns</p>\n",
       "</div>"
      ],
      "text/plain": [
       "       Unnamed: 0 intended vote  education  age\n",
       "0               0         leave        3.0   60\n",
       "1               1         leave        NaN   56\n",
       "2               2          stay        5.0   73\n",
       "3               3         leave        4.0   64\n",
       "4               4    don't know        2.0   68\n",
       "...           ...           ...        ...  ...\n",
       "30890       30890          stay        4.0   21\n",
       "30891       30891         leave        NaN   18\n",
       "30892       30892          stay        NaN   61\n",
       "30893       30893          stay        3.0   18\n",
       "30894       30894          stay        3.0   23\n",
       "\n",
       "[30895 rows x 4 columns]"
      ]
     },
     "execution_count": 5,
     "metadata": {},
     "output_type": "execute_result"
    }
   ],
   "source": [
    "brexit"
   ]
  },
  {
   "cell_type": "code",
   "execution_count": 6,
   "id": "0322b4c9-03b6-478e-a20a-776f0f5e70d5",
   "metadata": {
    "tags": []
   },
   "outputs": [
    {
     "data": {
      "text/plain": [
       "intended vote\n",
       "stay          14352\n",
       "leave         13692\n",
       "don't know     2314\n",
       "won't vote      537\n",
       "Name: count, dtype: int64"
      ]
     },
     "execution_count": 6,
     "metadata": {},
     "output_type": "execute_result"
    }
   ],
   "source": [
    "brexit[\"intended vote\"].value_counts()"
   ]
  },
  {
   "cell_type": "code",
   "execution_count": 7,
   "id": "464e1130-1362-4d34-9a0a-7af20496b577",
   "metadata": {
    "tags": []
   },
   "outputs": [
    {
     "data": {
      "text/plain": [
       "Unnamed: 0          0\n",
       "intended vote       0\n",
       "age                 0\n",
       "education        3425\n",
       "dtype: int64"
      ]
     },
     "execution_count": 7,
     "metadata": {},
     "output_type": "execute_result"
    }
   ],
   "source": [
    "brexit.isna().sum().sort_values()"
   ]
  },
  {
   "cell_type": "code",
   "execution_count": 8,
   "id": "fcc7e120-9435-4654-bccf-5b33229519a5",
   "metadata": {
    "tags": []
   },
   "outputs": [],
   "source": [
    "brexit[\"leave\"] = brexit[\"intended vote\"].replace({\"leave\": 1, \"stay\": 0, \"don\\'t know\": np.nan, \"won\\'t vote\": np.nan})"
   ]
  },
  {
   "cell_type": "code",
   "execution_count": 9,
   "id": "0d71ff28-e07f-4634-b489-026fea11f54a",
   "metadata": {
    "tags": []
   },
   "outputs": [
    {
     "data": {
      "text/html": [
       "<div>\n",
       "<style scoped>\n",
       "    .dataframe tbody tr th:only-of-type {\n",
       "        vertical-align: middle;\n",
       "    }\n",
       "\n",
       "    .dataframe tbody tr th {\n",
       "        vertical-align: top;\n",
       "    }\n",
       "\n",
       "    .dataframe thead th {\n",
       "        text-align: right;\n",
       "    }\n",
       "</style>\n",
       "<table border=\"1\" class=\"dataframe\">\n",
       "  <thead>\n",
       "    <tr style=\"text-align: right;\">\n",
       "      <th></th>\n",
       "      <th>Unnamed: 0</th>\n",
       "      <th>intended vote</th>\n",
       "      <th>education</th>\n",
       "      <th>age</th>\n",
       "      <th>leave</th>\n",
       "    </tr>\n",
       "  </thead>\n",
       "  <tbody>\n",
       "    <tr>\n",
       "      <th>0</th>\n",
       "      <td>0</td>\n",
       "      <td>leave</td>\n",
       "      <td>3.0</td>\n",
       "      <td>60</td>\n",
       "      <td>1.0</td>\n",
       "    </tr>\n",
       "    <tr>\n",
       "      <th>1</th>\n",
       "      <td>1</td>\n",
       "      <td>leave</td>\n",
       "      <td>NaN</td>\n",
       "      <td>56</td>\n",
       "      <td>1.0</td>\n",
       "    </tr>\n",
       "    <tr>\n",
       "      <th>2</th>\n",
       "      <td>2</td>\n",
       "      <td>stay</td>\n",
       "      <td>5.0</td>\n",
       "      <td>73</td>\n",
       "      <td>0.0</td>\n",
       "    </tr>\n",
       "    <tr>\n",
       "      <th>3</th>\n",
       "      <td>3</td>\n",
       "      <td>leave</td>\n",
       "      <td>4.0</td>\n",
       "      <td>64</td>\n",
       "      <td>1.0</td>\n",
       "    </tr>\n",
       "    <tr>\n",
       "      <th>4</th>\n",
       "      <td>4</td>\n",
       "      <td>don't know</td>\n",
       "      <td>2.0</td>\n",
       "      <td>68</td>\n",
       "      <td>NaN</td>\n",
       "    </tr>\n",
       "    <tr>\n",
       "      <th>...</th>\n",
       "      <td>...</td>\n",
       "      <td>...</td>\n",
       "      <td>...</td>\n",
       "      <td>...</td>\n",
       "      <td>...</td>\n",
       "    </tr>\n",
       "    <tr>\n",
       "      <th>30890</th>\n",
       "      <td>30890</td>\n",
       "      <td>stay</td>\n",
       "      <td>4.0</td>\n",
       "      <td>21</td>\n",
       "      <td>0.0</td>\n",
       "    </tr>\n",
       "    <tr>\n",
       "      <th>30891</th>\n",
       "      <td>30891</td>\n",
       "      <td>leave</td>\n",
       "      <td>NaN</td>\n",
       "      <td>18</td>\n",
       "      <td>1.0</td>\n",
       "    </tr>\n",
       "    <tr>\n",
       "      <th>30892</th>\n",
       "      <td>30892</td>\n",
       "      <td>stay</td>\n",
       "      <td>NaN</td>\n",
       "      <td>61</td>\n",
       "      <td>0.0</td>\n",
       "    </tr>\n",
       "    <tr>\n",
       "      <th>30893</th>\n",
       "      <td>30893</td>\n",
       "      <td>stay</td>\n",
       "      <td>3.0</td>\n",
       "      <td>18</td>\n",
       "      <td>0.0</td>\n",
       "    </tr>\n",
       "    <tr>\n",
       "      <th>30894</th>\n",
       "      <td>30894</td>\n",
       "      <td>stay</td>\n",
       "      <td>3.0</td>\n",
       "      <td>23</td>\n",
       "      <td>0.0</td>\n",
       "    </tr>\n",
       "  </tbody>\n",
       "</table>\n",
       "<p>30895 rows × 5 columns</p>\n",
       "</div>"
      ],
      "text/plain": [
       "       Unnamed: 0 intended vote  education  age  leave\n",
       "0               0         leave        3.0   60    1.0\n",
       "1               1         leave        NaN   56    1.0\n",
       "2               2          stay        5.0   73    0.0\n",
       "3               3         leave        4.0   64    1.0\n",
       "4               4    don't know        2.0   68    NaN\n",
       "...           ...           ...        ...  ...    ...\n",
       "30890       30890          stay        4.0   21    0.0\n",
       "30891       30891         leave        NaN   18    1.0\n",
       "30892       30892          stay        NaN   61    0.0\n",
       "30893       30893          stay        3.0   18    0.0\n",
       "30894       30894          stay        3.0   23    0.0\n",
       "\n",
       "[30895 rows x 5 columns]"
      ]
     },
     "execution_count": 9,
     "metadata": {},
     "output_type": "execute_result"
    }
   ],
   "source": [
    "brexit"
   ]
  },
  {
   "cell_type": "code",
   "execution_count": 10,
   "id": "1176dce1-148c-4392-b9cb-a14109a4a07d",
   "metadata": {
    "tags": []
   },
   "outputs": [
    {
     "data": {
      "text/plain": [
       "leave\n",
       "0.0    47.248815\n",
       "1.0    55.254674\n",
       "NaN    46.743949\n",
       "Name: age, dtype: float64"
      ]
     },
     "execution_count": 10,
     "metadata": {},
     "output_type": "execute_result"
    }
   ],
   "source": [
    "brexit.groupby(\"leave\", dropna=False)[\"age\"].mean()"
   ]
  },
  {
   "cell_type": "code",
   "execution_count": 11,
   "id": "18722434-114c-4a37-a709-70268b87e694",
   "metadata": {
    "tags": []
   },
   "outputs": [
    {
     "data": {
      "text/plain": [
       "Unnamed: 0          0\n",
       "intended vote       0\n",
       "age                 0\n",
       "leave            2851\n",
       "education        3425\n",
       "dtype: int64"
      ]
     },
     "execution_count": 11,
     "metadata": {},
     "output_type": "execute_result"
    }
   ],
   "source": [
    "brexit.isna().sum().sort_values()"
   ]
  },
  {
   "cell_type": "code",
   "execution_count": 12,
   "id": "d2a7eec7-ebcd-4381-b042-e00ff1b00439",
   "metadata": {
    "tags": []
   },
   "outputs": [
    {
     "data": {
      "text/html": [
       "<div>\n",
       "<style scoped>\n",
       "    .dataframe tbody tr th:only-of-type {\n",
       "        vertical-align: middle;\n",
       "    }\n",
       "\n",
       "    .dataframe tbody tr th {\n",
       "        vertical-align: top;\n",
       "    }\n",
       "\n",
       "    .dataframe thead th {\n",
       "        text-align: right;\n",
       "    }\n",
       "</style>\n",
       "<table border=\"1\" class=\"dataframe\">\n",
       "  <thead>\n",
       "    <tr style=\"text-align: right;\">\n",
       "      <th>education</th>\n",
       "      <th>1.0</th>\n",
       "      <th>2.0</th>\n",
       "      <th>3.0</th>\n",
       "      <th>4.0</th>\n",
       "      <th>5.0</th>\n",
       "      <th>NaN</th>\n",
       "      <th>All</th>\n",
       "    </tr>\n",
       "    <tr>\n",
       "      <th>leave</th>\n",
       "      <th></th>\n",
       "      <th></th>\n",
       "      <th></th>\n",
       "      <th></th>\n",
       "      <th></th>\n",
       "      <th></th>\n",
       "      <th></th>\n",
       "    </tr>\n",
       "  </thead>\n",
       "  <tbody>\n",
       "    <tr>\n",
       "      <th>0.0</th>\n",
       "      <td>61.020080</td>\n",
       "      <td>53.175269</td>\n",
       "      <td>41.129728</td>\n",
       "      <td>46.902319</td>\n",
       "      <td>46.452055</td>\n",
       "      <td>51.580146</td>\n",
       "      <td>47.248815</td>\n",
       "    </tr>\n",
       "    <tr>\n",
       "      <th>1.0</th>\n",
       "      <td>62.813422</td>\n",
       "      <td>56.915289</td>\n",
       "      <td>51.630168</td>\n",
       "      <td>53.662702</td>\n",
       "      <td>51.562599</td>\n",
       "      <td>56.448891</td>\n",
       "      <td>55.254674</td>\n",
       "    </tr>\n",
       "    <tr>\n",
       "      <th>NaN</th>\n",
       "      <td>57.937173</td>\n",
       "      <td>48.915873</td>\n",
       "      <td>42.343805</td>\n",
       "      <td>45.801724</td>\n",
       "      <td>45.898204</td>\n",
       "      <td>46.579498</td>\n",
       "      <td>NaN</td>\n",
       "    </tr>\n",
       "    <tr>\n",
       "      <th>All</th>\n",
       "      <td>61.921271</td>\n",
       "      <td>54.902958</td>\n",
       "      <td>45.735810</td>\n",
       "      <td>49.214125</td>\n",
       "      <td>47.613872</td>\n",
       "      <td>NaN</td>\n",
       "      <td>50.750251</td>\n",
       "    </tr>\n",
       "  </tbody>\n",
       "</table>\n",
       "</div>"
      ],
      "text/plain": [
       "education        1.0        2.0        3.0        4.0        5.0        NaN  \\\n",
       "leave                                                                         \n",
       "0.0        61.020080  53.175269  41.129728  46.902319  46.452055  51.580146   \n",
       "1.0        62.813422  56.915289  51.630168  53.662702  51.562599  56.448891   \n",
       "NaN        57.937173  48.915873  42.343805  45.801724  45.898204  46.579498   \n",
       "All        61.921271  54.902958  45.735810  49.214125  47.613872        NaN   \n",
       "\n",
       "education        All  \n",
       "leave                 \n",
       "0.0        47.248815  \n",
       "1.0        55.254674  \n",
       "NaN              NaN  \n",
       "All        50.750251  "
      ]
     },
     "execution_count": 12,
     "metadata": {},
     "output_type": "execute_result"
    }
   ],
   "source": [
    "brexit.pivot_table(index=\"leave\", \n",
    "                   columns=\"education\", \n",
    "                   values=\"age\", \n",
    "                   dropna=False,\n",
    "                   aggfunc=\"mean\", \n",
    "                   margins=\"True\")"
   ]
  },
  {
   "cell_type": "code",
   "execution_count": 13,
   "id": "7db7ba22-1782-421f-b573-e2a36998e9a8",
   "metadata": {},
   "outputs": [
    {
     "data": {
      "text/plain": [
       "0.48823277706461277"
      ]
     },
     "execution_count": 13,
     "metadata": {},
     "output_type": "execute_result"
    }
   ],
   "source": [
    "brexit['leave'].mean(skipna=True)"
   ]
  },
  {
   "cell_type": "code",
   "execution_count": 14,
   "id": "47583211-f697-4c07-b990-e639d5924060",
   "metadata": {},
   "outputs": [
    {
     "data": {
      "text/plain": [
       "0.4431785078491665"
      ]
     },
     "execution_count": 14,
     "metadata": {},
     "output_type": "execute_result"
    }
   ],
   "source": [
    "brexit['leave'].sum (skipna=True)/brexit.shape[0]"
   ]
  },
  {
   "cell_type": "code",
   "execution_count": 15,
   "id": "9ff604a1-3270-4088-a9c3-fcd765475a52",
   "metadata": {},
   "outputs": [
    {
     "data": {
      "text/html": [
       "<div>\n",
       "<style scoped>\n",
       "    .dataframe tbody tr th:only-of-type {\n",
       "        vertical-align: middle;\n",
       "    }\n",
       "\n",
       "    .dataframe tbody tr th {\n",
       "        vertical-align: top;\n",
       "    }\n",
       "\n",
       "    .dataframe thead th {\n",
       "        text-align: right;\n",
       "    }\n",
       "</style>\n",
       "<table border=\"1\" class=\"dataframe\">\n",
       "  <thead>\n",
       "    <tr style=\"text-align: right;\">\n",
       "      <th>education</th>\n",
       "      <th>1.0</th>\n",
       "      <th>2.0</th>\n",
       "      <th>3.0</th>\n",
       "      <th>4.0</th>\n",
       "      <th>5.0</th>\n",
       "      <th>All</th>\n",
       "    </tr>\n",
       "    <tr>\n",
       "      <th>leave</th>\n",
       "      <th></th>\n",
       "      <th></th>\n",
       "      <th></th>\n",
       "      <th></th>\n",
       "      <th></th>\n",
       "      <th></th>\n",
       "    </tr>\n",
       "  </thead>\n",
       "  <tbody>\n",
       "    <tr>\n",
       "      <th>0.0</th>\n",
       "      <td>498</td>\n",
       "      <td>1763</td>\n",
       "      <td>3014</td>\n",
       "      <td>6081</td>\n",
       "      <td>1898</td>\n",
       "      <td>13254</td>\n",
       "    </tr>\n",
       "    <tr>\n",
       "      <th>1.0</th>\n",
       "      <td>1356</td>\n",
       "      <td>3388</td>\n",
       "      <td>2685</td>\n",
       "      <td>3783</td>\n",
       "      <td>631</td>\n",
       "      <td>11843</td>\n",
       "    </tr>\n",
       "    <tr>\n",
       "      <th>All</th>\n",
       "      <td>1854</td>\n",
       "      <td>5151</td>\n",
       "      <td>5699</td>\n",
       "      <td>9864</td>\n",
       "      <td>2529</td>\n",
       "      <td>25097</td>\n",
       "    </tr>\n",
       "  </tbody>\n",
       "</table>\n",
       "</div>"
      ],
      "text/plain": [
       "education   1.0   2.0   3.0   4.0   5.0    All\n",
       "leave                                         \n",
       "0.0         498  1763  3014  6081  1898  13254\n",
       "1.0        1356  3388  2685  3783   631  11843\n",
       "All        1854  5151  5699  9864  2529  25097"
      ]
     },
     "execution_count": 15,
     "metadata": {},
     "output_type": "execute_result"
    }
   ],
   "source": [
    "brexit.pivot_table(index=\"leave\", \n",
    "                   columns=\"education\", \n",
    "                   values='intended vote', \n",
    "                   aggfunc='count', \n",
    "                   dropna=True, \n",
    "                   margins=True)"
   ]
  },
  {
   "cell_type": "code",
   "execution_count": 16,
   "id": "c519cf7d-44cd-441c-af30-6c273670a84f",
   "metadata": {},
   "outputs": [
    {
     "data": {
      "text/html": [
       "<div>\n",
       "<style scoped>\n",
       "    .dataframe tbody tr th:only-of-type {\n",
       "        vertical-align: middle;\n",
       "    }\n",
       "\n",
       "    .dataframe tbody tr th {\n",
       "        vertical-align: top;\n",
       "    }\n",
       "\n",
       "    .dataframe thead th {\n",
       "        text-align: right;\n",
       "    }\n",
       "</style>\n",
       "<table border=\"1\" class=\"dataframe\">\n",
       "  <thead>\n",
       "    <tr style=\"text-align: right;\">\n",
       "      <th>education</th>\n",
       "      <th>1.0</th>\n",
       "      <th>2.0</th>\n",
       "      <th>3.0</th>\n",
       "      <th>4.0</th>\n",
       "      <th>5.0</th>\n",
       "      <th>NaN</th>\n",
       "      <th>All</th>\n",
       "    </tr>\n",
       "    <tr>\n",
       "      <th>leave</th>\n",
       "      <th></th>\n",
       "      <th></th>\n",
       "      <th></th>\n",
       "      <th></th>\n",
       "      <th></th>\n",
       "      <th></th>\n",
       "      <th></th>\n",
       "    </tr>\n",
       "  </thead>\n",
       "  <tbody>\n",
       "    <tr>\n",
       "      <th>0.0</th>\n",
       "      <td>498</td>\n",
       "      <td>1763</td>\n",
       "      <td>3014</td>\n",
       "      <td>6081</td>\n",
       "      <td>1898</td>\n",
       "      <td>1098.0</td>\n",
       "      <td>14352.0</td>\n",
       "    </tr>\n",
       "    <tr>\n",
       "      <th>1.0</th>\n",
       "      <td>1356</td>\n",
       "      <td>3388</td>\n",
       "      <td>2685</td>\n",
       "      <td>3783</td>\n",
       "      <td>631</td>\n",
       "      <td>1849.0</td>\n",
       "      <td>13692.0</td>\n",
       "    </tr>\n",
       "    <tr>\n",
       "      <th>NaN</th>\n",
       "      <td>191</td>\n",
       "      <td>630</td>\n",
       "      <td>573</td>\n",
       "      <td>812</td>\n",
       "      <td>167</td>\n",
       "      <td>478.0</td>\n",
       "      <td>NaN</td>\n",
       "    </tr>\n",
       "    <tr>\n",
       "      <th>All</th>\n",
       "      <td>2045</td>\n",
       "      <td>5781</td>\n",
       "      <td>6272</td>\n",
       "      <td>10676</td>\n",
       "      <td>2696</td>\n",
       "      <td>NaN</td>\n",
       "      <td>30895.0</td>\n",
       "    </tr>\n",
       "  </tbody>\n",
       "</table>\n",
       "</div>"
      ],
      "text/plain": [
       "education   1.0   2.0   3.0    4.0   5.0     NaN      All\n",
       "leave                                                    \n",
       "0.0         498  1763  3014   6081  1898  1098.0  14352.0\n",
       "1.0        1356  3388  2685   3783   631  1849.0  13692.0\n",
       "NaN         191   630   573    812   167   478.0      NaN\n",
       "All        2045  5781  6272  10676  2696     NaN  30895.0"
      ]
     },
     "execution_count": 16,
     "metadata": {},
     "output_type": "execute_result"
    }
   ],
   "source": [
    "brexit.pivot_table(index=\"leave\", \n",
    "                   columns=\"education\", \n",
    "                   values='age', \n",
    "                   aggfunc='count', \n",
    "                   dropna=False, \n",
    "                   margins=True)"
   ]
  },
  {
   "cell_type": "markdown",
   "id": "dd073449-01bd-436e-9d19-5d9d0139df75",
   "metadata": {},
   "source": [
    "## Contingency Tables\n",
    "\n",
    "A useful way to summarize two categorical variables is a contingency table -- a table of counts by category. We can also use the _pandas_ `cut` method to split the dataset into bins. There are a number of arguments for the cut method. The following code creates an age group for the BREXIT data set. The method `value_counts` returns a frequency table."
   ]
  },
  {
   "cell_type": "code",
   "execution_count": 17,
   "id": "27fa0a38-ce15-4074-8818-ff5c344b8c9b",
   "metadata": {},
   "outputs": [],
   "source": [
    "# num_bins = pd.cut(brexit['age'], 25)\n",
    "\n",
    "num_bins = pd.cut(brexit['age'], [0, 30, 55, 70, 80, 90, 100, 120])"
   ]
  },
  {
   "cell_type": "code",
   "execution_count": 18,
   "id": "dcbdbf86-bb2a-450f-b2c3-7a23db4d8e5e",
   "metadata": {},
   "outputs": [
    {
     "data": {
      "text/plain": [
       "0        (55, 70]\n",
       "1        (55, 70]\n",
       "2        (70, 80]\n",
       "3        (55, 70]\n",
       "4        (55, 70]\n",
       "           ...   \n",
       "30890     (0, 30]\n",
       "30891     (0, 30]\n",
       "30892    (55, 70]\n",
       "30893     (0, 30]\n",
       "30894     (0, 30]\n",
       "Name: age, Length: 30895, dtype: category\n",
       "Categories (7, interval[int64, right]): [(0, 30] < (30, 55] < (55, 70] < (70, 80] < (80, 90] < (90, 100] < (100, 120]]"
      ]
     },
     "execution_count": 18,
     "metadata": {},
     "output_type": "execute_result"
    }
   ],
   "source": [
    "num_bins"
   ]
  },
  {
   "cell_type": "code",
   "execution_count": 19,
   "id": "54f4fde2-eb2b-4908-bf9a-134e9790a221",
   "metadata": {},
   "outputs": [
    {
     "name": "stdout",
     "output_type": "stream",
     "text": [
      "age\n",
      "(0, 30]        4844\n",
      "(30, 55]      11933\n",
      "(55, 70]      11057\n",
      "(70, 80]       2762\n",
      "(80, 90]        295\n",
      "(90, 100]         4\n",
      "(100, 120]        0\n",
      "Name: count, dtype: int64\n"
     ]
    }
   ],
   "source": [
    "print(num_bins.value_counts().sort_index()) # This is a frequency table for the Series object num_bins"
   ]
  },
  {
   "cell_type": "code",
   "execution_count": 20,
   "id": "1567fabb-4745-4f32-a07a-f55ce101e2e4",
   "metadata": {},
   "outputs": [
    {
     "data": {
      "text/html": [
       "<div>\n",
       "<style scoped>\n",
       "    .dataframe tbody tr th:only-of-type {\n",
       "        vertical-align: middle;\n",
       "    }\n",
       "\n",
       "    .dataframe tbody tr th {\n",
       "        vertical-align: top;\n",
       "    }\n",
       "\n",
       "    .dataframe thead th {\n",
       "        text-align: right;\n",
       "    }\n",
       "</style>\n",
       "<table border=\"1\" class=\"dataframe\">\n",
       "  <thead>\n",
       "    <tr style=\"text-align: right;\">\n",
       "      <th></th>\n",
       "      <th>Unnamed: 0</th>\n",
       "      <th>intended vote</th>\n",
       "      <th>education</th>\n",
       "      <th>age</th>\n",
       "      <th>leave</th>\n",
       "      <th>AgeGroup</th>\n",
       "    </tr>\n",
       "  </thead>\n",
       "  <tbody>\n",
       "    <tr>\n",
       "      <th>29376</th>\n",
       "      <td>29376</td>\n",
       "      <td>leave</td>\n",
       "      <td>1.0</td>\n",
       "      <td>18</td>\n",
       "      <td>1.0</td>\n",
       "      <td>(0, 30]</td>\n",
       "    </tr>\n",
       "    <tr>\n",
       "      <th>27005</th>\n",
       "      <td>27005</td>\n",
       "      <td>stay</td>\n",
       "      <td>2.0</td>\n",
       "      <td>18</td>\n",
       "      <td>0.0</td>\n",
       "      <td>(0, 30]</td>\n",
       "    </tr>\n",
       "    <tr>\n",
       "      <th>28444</th>\n",
       "      <td>28444</td>\n",
       "      <td>stay</td>\n",
       "      <td>3.0</td>\n",
       "      <td>18</td>\n",
       "      <td>0.0</td>\n",
       "      <td>(0, 30]</td>\n",
       "    </tr>\n",
       "    <tr>\n",
       "      <th>28468</th>\n",
       "      <td>28468</td>\n",
       "      <td>leave</td>\n",
       "      <td>3.0</td>\n",
       "      <td>18</td>\n",
       "      <td>1.0</td>\n",
       "      <td>(0, 30]</td>\n",
       "    </tr>\n",
       "    <tr>\n",
       "      <th>13900</th>\n",
       "      <td>13900</td>\n",
       "      <td>stay</td>\n",
       "      <td>3.0</td>\n",
       "      <td>18</td>\n",
       "      <td>0.0</td>\n",
       "      <td>(0, 30]</td>\n",
       "    </tr>\n",
       "    <tr>\n",
       "      <th>...</th>\n",
       "      <td>...</td>\n",
       "      <td>...</td>\n",
       "      <td>...</td>\n",
       "      <td>...</td>\n",
       "      <td>...</td>\n",
       "      <td>...</td>\n",
       "    </tr>\n",
       "    <tr>\n",
       "      <th>29885</th>\n",
       "      <td>29885</td>\n",
       "      <td>leave</td>\n",
       "      <td>1.0</td>\n",
       "      <td>90</td>\n",
       "      <td>1.0</td>\n",
       "      <td>(80, 90]</td>\n",
       "    </tr>\n",
       "    <tr>\n",
       "      <th>18018</th>\n",
       "      <td>18018</td>\n",
       "      <td>don't know</td>\n",
       "      <td>1.0</td>\n",
       "      <td>91</td>\n",
       "      <td>NaN</td>\n",
       "      <td>(90, 100]</td>\n",
       "    </tr>\n",
       "    <tr>\n",
       "      <th>9395</th>\n",
       "      <td>9395</td>\n",
       "      <td>stay</td>\n",
       "      <td>3.0</td>\n",
       "      <td>91</td>\n",
       "      <td>0.0</td>\n",
       "      <td>(90, 100]</td>\n",
       "    </tr>\n",
       "    <tr>\n",
       "      <th>8616</th>\n",
       "      <td>8616</td>\n",
       "      <td>leave</td>\n",
       "      <td>3.0</td>\n",
       "      <td>95</td>\n",
       "      <td>1.0</td>\n",
       "      <td>(90, 100]</td>\n",
       "    </tr>\n",
       "    <tr>\n",
       "      <th>13145</th>\n",
       "      <td>13145</td>\n",
       "      <td>leave</td>\n",
       "      <td>4.0</td>\n",
       "      <td>97</td>\n",
       "      <td>1.0</td>\n",
       "      <td>(90, 100]</td>\n",
       "    </tr>\n",
       "  </tbody>\n",
       "</table>\n",
       "<p>30895 rows × 6 columns</p>\n",
       "</div>"
      ],
      "text/plain": [
       "       Unnamed: 0 intended vote  education  age  leave   AgeGroup\n",
       "29376       29376         leave        1.0   18    1.0    (0, 30]\n",
       "27005       27005          stay        2.0   18    0.0    (0, 30]\n",
       "28444       28444          stay        3.0   18    0.0    (0, 30]\n",
       "28468       28468         leave        3.0   18    1.0    (0, 30]\n",
       "13900       13900          stay        3.0   18    0.0    (0, 30]\n",
       "...           ...           ...        ...  ...    ...        ...\n",
       "29885       29885         leave        1.0   90    1.0   (80, 90]\n",
       "18018       18018    don't know        1.0   91    NaN  (90, 100]\n",
       "9395         9395          stay        3.0   91    0.0  (90, 100]\n",
       "8616         8616         leave        3.0   95    1.0  (90, 100]\n",
       "13145       13145         leave        4.0   97    1.0  (90, 100]\n",
       "\n",
       "[30895 rows x 6 columns]"
      ]
     },
     "execution_count": 20,
     "metadata": {},
     "output_type": "execute_result"
    }
   ],
   "source": [
    "num_bins.name = 'AgeGroup' # This line of code assigns a name to the values of a Series object\n",
    "df = pd.concat([brexit, num_bins], axis=1)\n",
    "df.sort_values(by='age', inplace=True)\n",
    "df"
   ]
  },
  {
   "cell_type": "code",
   "execution_count": 21,
   "id": "ba7054c4-cbd2-45e9-a8aa-7b9057036468",
   "metadata": {},
   "outputs": [
    {
     "data": {
      "text/html": [
       "<div>\n",
       "<style scoped>\n",
       "    .dataframe tbody tr th:only-of-type {\n",
       "        vertical-align: middle;\n",
       "    }\n",
       "\n",
       "    .dataframe tbody tr th {\n",
       "        vertical-align: top;\n",
       "    }\n",
       "\n",
       "    .dataframe thead th {\n",
       "        text-align: right;\n",
       "    }\n",
       "</style>\n",
       "<table border=\"1\" class=\"dataframe\">\n",
       "  <thead>\n",
       "    <tr style=\"text-align: right;\">\n",
       "      <th>AgeGroup</th>\n",
       "      <th>(0, 30]</th>\n",
       "      <th>(30, 55]</th>\n",
       "      <th>(55, 70]</th>\n",
       "      <th>(70, 80]</th>\n",
       "      <th>(80, 90]</th>\n",
       "      <th>(90, 100]</th>\n",
       "      <th>All</th>\n",
       "    </tr>\n",
       "    <tr>\n",
       "      <th>leave</th>\n",
       "      <th></th>\n",
       "      <th></th>\n",
       "      <th></th>\n",
       "      <th></th>\n",
       "      <th></th>\n",
       "      <th></th>\n",
       "      <th></th>\n",
       "    </tr>\n",
       "  </thead>\n",
       "  <tbody>\n",
       "    <tr>\n",
       "      <th>0.0</th>\n",
       "      <td>3250</td>\n",
       "      <td>5615</td>\n",
       "      <td>4382</td>\n",
       "      <td>989</td>\n",
       "      <td>115</td>\n",
       "      <td>1</td>\n",
       "      <td>14352</td>\n",
       "    </tr>\n",
       "    <tr>\n",
       "      <th>1.0</th>\n",
       "      <td>1086</td>\n",
       "      <td>4918</td>\n",
       "      <td>5877</td>\n",
       "      <td>1645</td>\n",
       "      <td>164</td>\n",
       "      <td>2</td>\n",
       "      <td>13692</td>\n",
       "    </tr>\n",
       "    <tr>\n",
       "      <th>All</th>\n",
       "      <td>4336</td>\n",
       "      <td>10533</td>\n",
       "      <td>10259</td>\n",
       "      <td>2634</td>\n",
       "      <td>279</td>\n",
       "      <td>3</td>\n",
       "      <td>28044</td>\n",
       "    </tr>\n",
       "  </tbody>\n",
       "</table>\n",
       "</div>"
      ],
      "text/plain": [
       "AgeGroup  (0, 30]  (30, 55]  (55, 70]  (70, 80]  (80, 90]  (90, 100]    All\n",
       "leave                                                                      \n",
       "0.0          3250      5615      4382       989       115          1  14352\n",
       "1.0          1086      4918      5877      1645       164          2  13692\n",
       "All          4336     10533     10259      2634       279          3  28044"
      ]
     },
     "execution_count": 21,
     "metadata": {},
     "output_type": "execute_result"
    }
   ],
   "source": [
    "pd.crosstab(df['leave'], df['AgeGroup'], dropna=True, margins=True)"
   ]
  },
  {
   "cell_type": "code",
   "execution_count": 22,
   "id": "6c04469c-dee4-4b00-b39a-44fcbfbcccbf",
   "metadata": {},
   "outputs": [
    {
     "data": {
      "text/html": [
       "<div>\n",
       "<style scoped>\n",
       "    .dataframe tbody tr th:only-of-type {\n",
       "        vertical-align: middle;\n",
       "    }\n",
       "\n",
       "    .dataframe tbody tr th {\n",
       "        vertical-align: top;\n",
       "    }\n",
       "\n",
       "    .dataframe thead th {\n",
       "        text-align: right;\n",
       "    }\n",
       "</style>\n",
       "<table border=\"1\" class=\"dataframe\">\n",
       "  <thead>\n",
       "    <tr style=\"text-align: right;\">\n",
       "      <th>AgeGroup</th>\n",
       "      <th>(0, 30]</th>\n",
       "      <th>(30, 55]</th>\n",
       "      <th>(55, 70]</th>\n",
       "      <th>(70, 80]</th>\n",
       "      <th>(80, 90]</th>\n",
       "      <th>(90, 100]</th>\n",
       "      <th>(100, 120]</th>\n",
       "      <th>All</th>\n",
       "    </tr>\n",
       "    <tr>\n",
       "      <th>leave</th>\n",
       "      <th></th>\n",
       "      <th></th>\n",
       "      <th></th>\n",
       "      <th></th>\n",
       "      <th></th>\n",
       "      <th></th>\n",
       "      <th></th>\n",
       "      <th></th>\n",
       "    </tr>\n",
       "  </thead>\n",
       "  <tbody>\n",
       "    <tr>\n",
       "      <th>NaN</th>\n",
       "      <td>508</td>\n",
       "      <td>1400</td>\n",
       "      <td>798</td>\n",
       "      <td>128</td>\n",
       "      <td>16</td>\n",
       "      <td>1</td>\n",
       "      <td>0</td>\n",
       "      <td>NaN</td>\n",
       "    </tr>\n",
       "    <tr>\n",
       "      <th>0.0</th>\n",
       "      <td>3250</td>\n",
       "      <td>5615</td>\n",
       "      <td>4382</td>\n",
       "      <td>989</td>\n",
       "      <td>115</td>\n",
       "      <td>1</td>\n",
       "      <td>0</td>\n",
       "      <td>14352.0</td>\n",
       "    </tr>\n",
       "    <tr>\n",
       "      <th>1.0</th>\n",
       "      <td>1086</td>\n",
       "      <td>4918</td>\n",
       "      <td>5877</td>\n",
       "      <td>1645</td>\n",
       "      <td>164</td>\n",
       "      <td>2</td>\n",
       "      <td>0</td>\n",
       "      <td>13692.0</td>\n",
       "    </tr>\n",
       "    <tr>\n",
       "      <th>All</th>\n",
       "      <td>4844</td>\n",
       "      <td>11933</td>\n",
       "      <td>11057</td>\n",
       "      <td>2762</td>\n",
       "      <td>295</td>\n",
       "      <td>4</td>\n",
       "      <td>0</td>\n",
       "      <td>30895.0</td>\n",
       "    </tr>\n",
       "  </tbody>\n",
       "</table>\n",
       "</div>"
      ],
      "text/plain": [
       "AgeGroup  (0, 30]  (30, 55]  (55, 70]  (70, 80]  (80, 90]  (90, 100]  \\\n",
       "leave                                                                  \n",
       "NaN           508      1400       798       128        16          1   \n",
       "0.0          3250      5615      4382       989       115          1   \n",
       "1.0          1086      4918      5877      1645       164          2   \n",
       "All          4844     11933     11057      2762       295          4   \n",
       "\n",
       "AgeGroup  (100, 120]      All  \n",
       "leave                          \n",
       "NaN                0      NaN  \n",
       "0.0                0  14352.0  \n",
       "1.0                0  13692.0  \n",
       "All                0  30895.0  "
      ]
     },
     "execution_count": 22,
     "metadata": {},
     "output_type": "execute_result"
    }
   ],
   "source": [
    "pd.crosstab(df['leave'], df['AgeGroup'], dropna=False, margins=True)"
   ]
  },
  {
   "cell_type": "code",
   "execution_count": 23,
   "id": "67aaa010-d0c2-4d8e-a376-2db69cecb6e7",
   "metadata": {},
   "outputs": [
    {
     "data": {
      "text/html": [
       "<div>\n",
       "<style scoped>\n",
       "    .dataframe tbody tr th:only-of-type {\n",
       "        vertical-align: middle;\n",
       "    }\n",
       "\n",
       "    .dataframe tbody tr th {\n",
       "        vertical-align: top;\n",
       "    }\n",
       "\n",
       "    .dataframe thead th {\n",
       "        text-align: right;\n",
       "    }\n",
       "</style>\n",
       "<table border=\"1\" class=\"dataframe\">\n",
       "  <thead>\n",
       "    <tr style=\"text-align: right;\">\n",
       "      <th>AgeGroup</th>\n",
       "      <th>(0, 30]</th>\n",
       "      <th>(30, 55]</th>\n",
       "      <th>(55, 70]</th>\n",
       "      <th>(70, 80]</th>\n",
       "      <th>(80, 90]</th>\n",
       "      <th>(90, 100]</th>\n",
       "      <th>All</th>\n",
       "    </tr>\n",
       "    <tr>\n",
       "      <th>leave</th>\n",
       "      <th></th>\n",
       "      <th></th>\n",
       "      <th></th>\n",
       "      <th></th>\n",
       "      <th></th>\n",
       "      <th></th>\n",
       "      <th></th>\n",
       "    </tr>\n",
       "  </thead>\n",
       "  <tbody>\n",
       "    <tr>\n",
       "      <th>0.0</th>\n",
       "      <td>0.115889</td>\n",
       "      <td>0.200221</td>\n",
       "      <td>0.156254</td>\n",
       "      <td>0.035266</td>\n",
       "      <td>0.004101</td>\n",
       "      <td>0.000036</td>\n",
       "      <td>0.511767</td>\n",
       "    </tr>\n",
       "    <tr>\n",
       "      <th>1.0</th>\n",
       "      <td>0.038725</td>\n",
       "      <td>0.175367</td>\n",
       "      <td>0.209564</td>\n",
       "      <td>0.058658</td>\n",
       "      <td>0.005848</td>\n",
       "      <td>0.000071</td>\n",
       "      <td>0.488233</td>\n",
       "    </tr>\n",
       "    <tr>\n",
       "      <th>All</th>\n",
       "      <td>0.154614</td>\n",
       "      <td>0.375588</td>\n",
       "      <td>0.365818</td>\n",
       "      <td>0.093924</td>\n",
       "      <td>0.009949</td>\n",
       "      <td>0.000107</td>\n",
       "      <td>1.000000</td>\n",
       "    </tr>\n",
       "  </tbody>\n",
       "</table>\n",
       "</div>"
      ],
      "text/plain": [
       "AgeGroup   (0, 30]  (30, 55]  (55, 70]  (70, 80]  (80, 90]  (90, 100]  \\\n",
       "leave                                                                   \n",
       "0.0       0.115889  0.200221  0.156254  0.035266  0.004101   0.000036   \n",
       "1.0       0.038725  0.175367  0.209564  0.058658  0.005848   0.000071   \n",
       "All       0.154614  0.375588  0.365818  0.093924  0.009949   0.000107   \n",
       "\n",
       "AgeGroup       All  \n",
       "leave               \n",
       "0.0       0.511767  \n",
       "1.0       0.488233  \n",
       "All       1.000000  "
      ]
     },
     "execution_count": 23,
     "metadata": {},
     "output_type": "execute_result"
    }
   ],
   "source": [
    "freq_drop = pd.crosstab(df['leave'], df['AgeGroup'], dropna=True, margins=True)\n",
    "rel_freq_drop = freq_drop/freq_drop.loc['All','All']\n",
    "rel_freq_drop"
   ]
  },
  {
   "cell_type": "code",
   "execution_count": 24,
   "id": "11671c03-689b-461e-9fdc-9682d4eda7c3",
   "metadata": {},
   "outputs": [
    {
     "data": {
      "text/html": [
       "<div>\n",
       "<style scoped>\n",
       "    .dataframe tbody tr th:only-of-type {\n",
       "        vertical-align: middle;\n",
       "    }\n",
       "\n",
       "    .dataframe tbody tr th {\n",
       "        vertical-align: top;\n",
       "    }\n",
       "\n",
       "    .dataframe thead th {\n",
       "        text-align: right;\n",
       "    }\n",
       "</style>\n",
       "<table border=\"1\" class=\"dataframe\">\n",
       "  <thead>\n",
       "    <tr style=\"text-align: right;\">\n",
       "      <th>AgeGroup</th>\n",
       "      <th>(0, 30]</th>\n",
       "      <th>(30, 55]</th>\n",
       "      <th>(55, 70]</th>\n",
       "      <th>(70, 80]</th>\n",
       "      <th>(80, 90]</th>\n",
       "      <th>(90, 100]</th>\n",
       "      <th>(100, 120]</th>\n",
       "      <th>All</th>\n",
       "    </tr>\n",
       "    <tr>\n",
       "      <th>leave</th>\n",
       "      <th></th>\n",
       "      <th></th>\n",
       "      <th></th>\n",
       "      <th></th>\n",
       "      <th></th>\n",
       "      <th></th>\n",
       "      <th></th>\n",
       "      <th></th>\n",
       "    </tr>\n",
       "  </thead>\n",
       "  <tbody>\n",
       "    <tr>\n",
       "      <th>NaN</th>\n",
       "      <td>0.016443</td>\n",
       "      <td>0.045315</td>\n",
       "      <td>0.025829</td>\n",
       "      <td>0.004143</td>\n",
       "      <td>0.000518</td>\n",
       "      <td>0.000032</td>\n",
       "      <td>0.0</td>\n",
       "      <td>NaN</td>\n",
       "    </tr>\n",
       "    <tr>\n",
       "      <th>0.0</th>\n",
       "      <td>0.105195</td>\n",
       "      <td>0.181745</td>\n",
       "      <td>0.141835</td>\n",
       "      <td>0.032012</td>\n",
       "      <td>0.003722</td>\n",
       "      <td>0.000032</td>\n",
       "      <td>0.0</td>\n",
       "      <td>0.464541</td>\n",
       "    </tr>\n",
       "    <tr>\n",
       "      <th>1.0</th>\n",
       "      <td>0.035151</td>\n",
       "      <td>0.159184</td>\n",
       "      <td>0.190225</td>\n",
       "      <td>0.053245</td>\n",
       "      <td>0.005308</td>\n",
       "      <td>0.000065</td>\n",
       "      <td>0.0</td>\n",
       "      <td>0.443179</td>\n",
       "    </tr>\n",
       "    <tr>\n",
       "      <th>All</th>\n",
       "      <td>0.156789</td>\n",
       "      <td>0.386244</td>\n",
       "      <td>0.357890</td>\n",
       "      <td>0.089400</td>\n",
       "      <td>0.009548</td>\n",
       "      <td>0.000129</td>\n",
       "      <td>0.0</td>\n",
       "      <td>1.000000</td>\n",
       "    </tr>\n",
       "  </tbody>\n",
       "</table>\n",
       "</div>"
      ],
      "text/plain": [
       "AgeGroup   (0, 30]  (30, 55]  (55, 70]  (70, 80]  (80, 90]  (90, 100]  \\\n",
       "leave                                                                   \n",
       "NaN       0.016443  0.045315  0.025829  0.004143  0.000518   0.000032   \n",
       "0.0       0.105195  0.181745  0.141835  0.032012  0.003722   0.000032   \n",
       "1.0       0.035151  0.159184  0.190225  0.053245  0.005308   0.000065   \n",
       "All       0.156789  0.386244  0.357890  0.089400  0.009548   0.000129   \n",
       "\n",
       "AgeGroup  (100, 120]       All  \n",
       "leave                           \n",
       "NaN              0.0       NaN  \n",
       "0.0              0.0  0.464541  \n",
       "1.0              0.0  0.443179  \n",
       "All              0.0  1.000000  "
      ]
     },
     "execution_count": 24,
     "metadata": {},
     "output_type": "execute_result"
    }
   ],
   "source": [
    "freq_nodrop = pd.crosstab(df['leave'], df['AgeGroup'], dropna=False, margins=True)\n",
    "rel_freq_nodrop = freq_nodrop/freq_nodrop.loc['All','All']\n",
    "rel_freq_nodrop"
   ]
  },
  {
   "cell_type": "code",
   "execution_count": 25,
   "id": "32fa4956-fb9f-4510-9a0d-177106f3f7ca",
   "metadata": {},
   "outputs": [
    {
     "data": {
      "text/html": [
       "<div>\n",
       "<style scoped>\n",
       "    .dataframe tbody tr th:only-of-type {\n",
       "        vertical-align: middle;\n",
       "    }\n",
       "\n",
       "    .dataframe tbody tr th {\n",
       "        vertical-align: top;\n",
       "    }\n",
       "\n",
       "    .dataframe thead th {\n",
       "        text-align: right;\n",
       "    }\n",
       "</style>\n",
       "<table border=\"1\" class=\"dataframe\">\n",
       "  <thead>\n",
       "    <tr style=\"text-align: right;\">\n",
       "      <th>AgeGroup</th>\n",
       "      <th>(0, 30]</th>\n",
       "      <th>(30, 55]</th>\n",
       "      <th>(55, 70]</th>\n",
       "      <th>(70, 80]</th>\n",
       "      <th>(80, 90]</th>\n",
       "      <th>(90, 100]</th>\n",
       "      <th>All</th>\n",
       "    </tr>\n",
       "    <tr>\n",
       "      <th>leave</th>\n",
       "      <th></th>\n",
       "      <th></th>\n",
       "      <th></th>\n",
       "      <th></th>\n",
       "      <th></th>\n",
       "      <th></th>\n",
       "      <th></th>\n",
       "    </tr>\n",
       "  </thead>\n",
       "  <tbody>\n",
       "    <tr>\n",
       "      <th>0.0</th>\n",
       "      <td>3250</td>\n",
       "      <td>5615</td>\n",
       "      <td>4382</td>\n",
       "      <td>989</td>\n",
       "      <td>115</td>\n",
       "      <td>1</td>\n",
       "      <td>14352</td>\n",
       "    </tr>\n",
       "    <tr>\n",
       "      <th>1.0</th>\n",
       "      <td>1086</td>\n",
       "      <td>4918</td>\n",
       "      <td>5877</td>\n",
       "      <td>1645</td>\n",
       "      <td>164</td>\n",
       "      <td>2</td>\n",
       "      <td>13692</td>\n",
       "    </tr>\n",
       "    <tr>\n",
       "      <th>All</th>\n",
       "      <td>4336</td>\n",
       "      <td>10533</td>\n",
       "      <td>10259</td>\n",
       "      <td>2634</td>\n",
       "      <td>279</td>\n",
       "      <td>3</td>\n",
       "      <td>28044</td>\n",
       "    </tr>\n",
       "  </tbody>\n",
       "</table>\n",
       "</div>"
      ],
      "text/plain": [
       "AgeGroup  (0, 30]  (30, 55]  (55, 70]  (70, 80]  (80, 90]  (90, 100]    All\n",
       "leave                                                                      \n",
       "0.0          3250      5615      4382       989       115          1  14352\n",
       "1.0          1086      4918      5877      1645       164          2  13692\n",
       "All          4336     10533     10259      2634       279          3  28044"
      ]
     },
     "execution_count": 25,
     "metadata": {},
     "output_type": "execute_result"
    }
   ],
   "source": [
    "pd.crosstab(df['leave'], df['AgeGroup'], dropna=True, margins=True)"
   ]
  },
  {
   "cell_type": "code",
   "execution_count": 26,
   "id": "2dfe3480-0569-4e5d-8dee-5387d1423f04",
   "metadata": {},
   "outputs": [
    {
     "data": {
      "text/html": [
       "<div>\n",
       "<style scoped>\n",
       "    .dataframe tbody tr th:only-of-type {\n",
       "        vertical-align: middle;\n",
       "    }\n",
       "\n",
       "    .dataframe tbody tr th {\n",
       "        vertical-align: top;\n",
       "    }\n",
       "\n",
       "    .dataframe thead th {\n",
       "        text-align: right;\n",
       "    }\n",
       "</style>\n",
       "<table border=\"1\" class=\"dataframe\">\n",
       "  <thead>\n",
       "    <tr style=\"text-align: right;\">\n",
       "      <th>education</th>\n",
       "      <th>1.0</th>\n",
       "      <th>2.0</th>\n",
       "      <th>3.0</th>\n",
       "      <th>4.0</th>\n",
       "      <th>5.0</th>\n",
       "      <th>NaN</th>\n",
       "      <th>All</th>\n",
       "    </tr>\n",
       "    <tr>\n",
       "      <th>leave</th>\n",
       "      <th></th>\n",
       "      <th></th>\n",
       "      <th></th>\n",
       "      <th></th>\n",
       "      <th></th>\n",
       "      <th></th>\n",
       "      <th></th>\n",
       "    </tr>\n",
       "  </thead>\n",
       "  <tbody>\n",
       "    <tr>\n",
       "      <th>0.0</th>\n",
       "      <td>0.016119</td>\n",
       "      <td>0.057064</td>\n",
       "      <td>0.097556</td>\n",
       "      <td>0.196828</td>\n",
       "      <td>0.061434</td>\n",
       "      <td>0.035540</td>\n",
       "      <td>0.464541</td>\n",
       "    </tr>\n",
       "    <tr>\n",
       "      <th>1.0</th>\n",
       "      <td>0.043891</td>\n",
       "      <td>0.109662</td>\n",
       "      <td>0.086907</td>\n",
       "      <td>0.122447</td>\n",
       "      <td>0.020424</td>\n",
       "      <td>0.059848</td>\n",
       "      <td>0.443179</td>\n",
       "    </tr>\n",
       "    <tr>\n",
       "      <th>NaN</th>\n",
       "      <td>0.006182</td>\n",
       "      <td>0.020392</td>\n",
       "      <td>0.018547</td>\n",
       "      <td>0.026283</td>\n",
       "      <td>0.005405</td>\n",
       "      <td>0.015472</td>\n",
       "      <td>NaN</td>\n",
       "    </tr>\n",
       "    <tr>\n",
       "      <th>All</th>\n",
       "      <td>0.066192</td>\n",
       "      <td>0.187118</td>\n",
       "      <td>0.203010</td>\n",
       "      <td>0.345558</td>\n",
       "      <td>0.087263</td>\n",
       "      <td>0.000000</td>\n",
       "      <td>1.000000</td>\n",
       "    </tr>\n",
       "  </tbody>\n",
       "</table>\n",
       "</div>"
      ],
      "text/plain": [
       "education       1.0       2.0       3.0       4.0       5.0       NaN  \\\n",
       "leave                                                                   \n",
       "0.0        0.016119  0.057064  0.097556  0.196828  0.061434  0.035540   \n",
       "1.0        0.043891  0.109662  0.086907  0.122447  0.020424  0.059848   \n",
       "NaN        0.006182  0.020392  0.018547  0.026283  0.005405  0.015472   \n",
       "All        0.066192  0.187118  0.203010  0.345558  0.087263  0.000000   \n",
       "\n",
       "education       All  \n",
       "leave                \n",
       "0.0        0.464541  \n",
       "1.0        0.443179  \n",
       "NaN             NaN  \n",
       "All        1.000000  "
      ]
     },
     "execution_count": 26,
     "metadata": {},
     "output_type": "execute_result"
    }
   ],
   "source": [
    "freq_table = pd.crosstab(brexit['leave'], brexit['education'], dropna=False, margins=True)\n",
    "freq_table = freq_table/freq_table.loc['All','All']\n",
    "freq_table"
   ]
  },
  {
   "cell_type": "code",
   "execution_count": null,
   "id": "0e6af544-394b-4756-9bef-e81f368a5dbb",
   "metadata": {},
   "outputs": [],
   "source": []
  }
 ],
 "metadata": {
  "kernelspec": {
   "display_name": "Python 3 (ipykernel)",
   "language": "python",
   "name": "python3"
  },
  "language_info": {
   "codemirror_mode": {
    "name": "ipython",
    "version": 3
   },
   "file_extension": ".py",
   "mimetype": "text/x-python",
   "name": "python",
   "nbconvert_exporter": "python",
   "pygments_lexer": "ipython3",
   "version": "3.11.6"
  }
 },
 "nbformat": 4,
 "nbformat_minor": 5
}
