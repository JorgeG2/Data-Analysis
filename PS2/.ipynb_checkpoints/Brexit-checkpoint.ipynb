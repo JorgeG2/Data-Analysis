{
 "cells": [
  {
   "cell_type": "markdown",
   "id": "9b1e6c29-5c4f-4bc9-b044-a7ff082566f2",
   "metadata": {},
   "source": [
    "# Brexit\n"
   ]
  },
  {
   "cell_type": "markdown",
   "id": "9aa92e72-7a58-4fe4-aa29-2ae3877830b1",
   "metadata": {},
   "source": [
    "## Tasks"
   ]
  },
  {
   "cell_type": "markdown",
   "id": "c59f07a6-a183-408b-beb1-6fdc03e69410",
   "metadata": {},
   "source": [
    "### 1. Load the dataset into a DataFrame and display the first five rows of data"
   ]
  },
  {
   "cell_type": "code",
   "execution_count": 1,
   "id": "88ee96fc-d216-4dd2-a950-cb61b8a8525d",
   "metadata": {},
   "outputs": [],
   "source": [
    "import pandas as pd\n",
    "import numpy as np\n",
    "import seaborn as sns\n",
    "import matplotlib.pyplot as plt\n"
   ]
  },
  {
   "cell_type": "code",
   "execution_count": 2,
   "id": "be34df41-393e-4db9-ac2c-78b5cf9c9594",
   "metadata": {},
   "outputs": [
    {
     "data": {
      "text/html": [
       "<div>\n",
       "<style scoped>\n",
       "    .dataframe tbody tr th:only-of-type {\n",
       "        vertical-align: middle;\n",
       "    }\n",
       "\n",
       "    .dataframe tbody tr th {\n",
       "        vertical-align: top;\n",
       "    }\n",
       "\n",
       "    .dataframe thead th {\n",
       "        text-align: right;\n",
       "    }\n",
       "</style>\n",
       "<table border=\"1\" class=\"dataframe\">\n",
       "  <thead>\n",
       "    <tr style=\"text-align: right;\">\n",
       "      <th></th>\n",
       "      <th>Unnamed: 0</th>\n",
       "      <th>intended vote</th>\n",
       "      <th>education</th>\n",
       "      <th>age</th>\n",
       "    </tr>\n",
       "  </thead>\n",
       "  <tbody>\n",
       "    <tr>\n",
       "      <th>0</th>\n",
       "      <td>0</td>\n",
       "      <td>leave</td>\n",
       "      <td>3.0</td>\n",
       "      <td>60</td>\n",
       "    </tr>\n",
       "    <tr>\n",
       "      <th>1</th>\n",
       "      <td>1</td>\n",
       "      <td>leave</td>\n",
       "      <td>NaN</td>\n",
       "      <td>56</td>\n",
       "    </tr>\n",
       "    <tr>\n",
       "      <th>2</th>\n",
       "      <td>2</td>\n",
       "      <td>stay</td>\n",
       "      <td>5.0</td>\n",
       "      <td>73</td>\n",
       "    </tr>\n",
       "    <tr>\n",
       "      <th>3</th>\n",
       "      <td>3</td>\n",
       "      <td>leave</td>\n",
       "      <td>4.0</td>\n",
       "      <td>64</td>\n",
       "    </tr>\n",
       "    <tr>\n",
       "      <th>4</th>\n",
       "      <td>4</td>\n",
       "      <td>don't know</td>\n",
       "      <td>2.0</td>\n",
       "      <td>68</td>\n",
       "    </tr>\n",
       "  </tbody>\n",
       "</table>\n",
       "</div>"
      ],
      "text/plain": [
       "   Unnamed: 0 intended vote  education  age\n",
       "0           0         leave        3.0   60\n",
       "1           1         leave        NaN   56\n",
       "2           2          stay        5.0   73\n",
       "3           3         leave        4.0   64\n",
       "4           4    don't know        2.0   68"
      ]
     },
     "execution_count": 2,
     "metadata": {},
     "output_type": "execute_result"
    }
   ],
   "source": [
    "myFile = 'BREXIT.csv'\n",
    "df = pd.read_csv(myFile)\n",
    "df.head()"
   ]
  },
  {
   "cell_type": "code",
   "execution_count": 3,
   "id": "8e752ad5-2c7d-484b-9033-2cc7679e4851",
   "metadata": {},
   "outputs": [
    {
     "data": {
      "text/html": [
       "<div>\n",
       "<style scoped>\n",
       "    .dataframe tbody tr th:only-of-type {\n",
       "        vertical-align: middle;\n",
       "    }\n",
       "\n",
       "    .dataframe tbody tr th {\n",
       "        vertical-align: top;\n",
       "    }\n",
       "\n",
       "    .dataframe thead th {\n",
       "        text-align: right;\n",
       "    }\n",
       "</style>\n",
       "<table border=\"1\" class=\"dataframe\">\n",
       "  <thead>\n",
       "    <tr style=\"text-align: right;\">\n",
       "      <th></th>\n",
       "      <th>Unnamed: 0</th>\n",
       "      <th>intended vote</th>\n",
       "      <th>education</th>\n",
       "      <th>age</th>\n",
       "    </tr>\n",
       "  </thead>\n",
       "  <tbody>\n",
       "    <tr>\n",
       "      <th>30890</th>\n",
       "      <td>30890</td>\n",
       "      <td>stay</td>\n",
       "      <td>4.0</td>\n",
       "      <td>21</td>\n",
       "    </tr>\n",
       "    <tr>\n",
       "      <th>30891</th>\n",
       "      <td>30891</td>\n",
       "      <td>leave</td>\n",
       "      <td>NaN</td>\n",
       "      <td>18</td>\n",
       "    </tr>\n",
       "    <tr>\n",
       "      <th>30892</th>\n",
       "      <td>30892</td>\n",
       "      <td>stay</td>\n",
       "      <td>NaN</td>\n",
       "      <td>61</td>\n",
       "    </tr>\n",
       "    <tr>\n",
       "      <th>30893</th>\n",
       "      <td>30893</td>\n",
       "      <td>stay</td>\n",
       "      <td>3.0</td>\n",
       "      <td>18</td>\n",
       "    </tr>\n",
       "    <tr>\n",
       "      <th>30894</th>\n",
       "      <td>30894</td>\n",
       "      <td>stay</td>\n",
       "      <td>3.0</td>\n",
       "      <td>23</td>\n",
       "    </tr>\n",
       "  </tbody>\n",
       "</table>\n",
       "</div>"
      ],
      "text/plain": [
       "       Unnamed: 0 intended vote  education  age\n",
       "30890       30890          stay        4.0   21\n",
       "30891       30891         leave        NaN   18\n",
       "30892       30892          stay        NaN   61\n",
       "30893       30893          stay        3.0   18\n",
       "30894       30894          stay        3.0   23"
      ]
     },
     "execution_count": 3,
     "metadata": {},
     "output_type": "execute_result"
    }
   ],
   "source": [
    "df.tail()"
   ]
  },
  {
   "cell_type": "markdown",
   "id": "6530d990-d6ea-4ce8-8670-b3d942c3772e",
   "metadata": {},
   "source": [
    "### 2. Create a new column (binary variable) “leave” that identifies the leave voters, i.e., assign 1 for intended vote = leave, assign 0 for intended vote = stay, and assign NA (missing) otherwise."
   ]
  },
  {
   "cell_type": "code",
   "execution_count": 21,
   "id": "8944df6c-80d2-42dd-85cf-c7c9c7014d34",
   "metadata": {},
   "outputs": [
    {
     "name": "stderr",
     "output_type": "stream",
     "text": [
      "/var/folders/7j/3tzjnd7j7mx5xghn6kgtm__00000gn/T/ipykernel_85456/3095724074.py:3: FutureWarning: Downcasting behavior in `replace` is deprecated and will be removed in a future version. To retain the old behavior, explicitly call `result.infer_objects(copy=False)`. To opt-in to the future behavior, set `pd.set_option('future.no_silent_downcasting', True)`\n",
      "  df[\"leave\"] = df[\"intended vote\"].replace({\"leave\": 1, \"stay\": 0, \"don\\'t know\": np.nan, \"won\\'t vote\": np.nan})\n"
     ]
    },
    {
     "data": {
      "text/html": [
       "<div>\n",
       "<style scoped>\n",
       "    .dataframe tbody tr th:only-of-type {\n",
       "        vertical-align: middle;\n",
       "    }\n",
       "\n",
       "    .dataframe tbody tr th {\n",
       "        vertical-align: top;\n",
       "    }\n",
       "\n",
       "    .dataframe thead th {\n",
       "        text-align: right;\n",
       "    }\n",
       "</style>\n",
       "<table border=\"1\" class=\"dataframe\">\n",
       "  <thead>\n",
       "    <tr style=\"text-align: right;\">\n",
       "      <th></th>\n",
       "      <th>Unnamed: 0</th>\n",
       "      <th>intended vote</th>\n",
       "      <th>education</th>\n",
       "      <th>age</th>\n",
       "      <th>leave</th>\n",
       "    </tr>\n",
       "  </thead>\n",
       "  <tbody>\n",
       "    <tr>\n",
       "      <th>0</th>\n",
       "      <td>0</td>\n",
       "      <td>leave</td>\n",
       "      <td>3.0</td>\n",
       "      <td>60</td>\n",
       "      <td>1.0</td>\n",
       "    </tr>\n",
       "    <tr>\n",
       "      <th>1</th>\n",
       "      <td>1</td>\n",
       "      <td>leave</td>\n",
       "      <td>NaN</td>\n",
       "      <td>56</td>\n",
       "      <td>1.0</td>\n",
       "    </tr>\n",
       "    <tr>\n",
       "      <th>2</th>\n",
       "      <td>2</td>\n",
       "      <td>stay</td>\n",
       "      <td>5.0</td>\n",
       "      <td>73</td>\n",
       "      <td>0.0</td>\n",
       "    </tr>\n",
       "    <tr>\n",
       "      <th>3</th>\n",
       "      <td>3</td>\n",
       "      <td>leave</td>\n",
       "      <td>4.0</td>\n",
       "      <td>64</td>\n",
       "      <td>1.0</td>\n",
       "    </tr>\n",
       "    <tr>\n",
       "      <th>4</th>\n",
       "      <td>4</td>\n",
       "      <td>don't know</td>\n",
       "      <td>2.0</td>\n",
       "      <td>68</td>\n",
       "      <td>NaN</td>\n",
       "    </tr>\n",
       "  </tbody>\n",
       "</table>\n",
       "</div>"
      ],
      "text/plain": [
       "   Unnamed: 0 intended vote  education  age  leave\n",
       "0           0         leave        3.0   60    1.0\n",
       "1           1         leave        NaN   56    1.0\n",
       "2           2          stay        5.0   73    0.0\n",
       "3           3         leave        4.0   64    1.0\n",
       "4           4    don't know        2.0   68    NaN"
      ]
     },
     "execution_count": 21,
     "metadata": {},
     "output_type": "execute_result"
    }
   ],
   "source": [
    "# Create the 'leave' column\n",
    "df[\"leave\"] = df[\"intended vote\"].replace({\"leave\": 1, \"stay\": 0, \"don\\'t know\": np.nan, \"won\\'t vote\": np.nan})\n",
    "df.head()"
   ]
  },
  {
   "cell_type": "markdown",
   "id": "3ee95f2b-0113-44dc-95f1-31166d793bd7",
   "metadata": {},
   "source": [
    "### 3. Identify the number of observations, i.e., dimensions of the DataFrame"
   ]
  },
  {
   "cell_type": "code",
   "execution_count": 5,
   "id": "757f2839-b986-4803-b105-0a1ee777a47f",
   "metadata": {},
   "outputs": [
    {
     "data": {
      "text/plain": [
       "(30895, 5)"
      ]
     },
     "execution_count": 5,
     "metadata": {},
     "output_type": "execute_result"
    }
   ],
   "source": [
    "df.shape"
   ]
  },
  {
   "cell_type": "markdown",
   "id": "53660c3f-5d44-402d-8f53-161fabd64c92",
   "metadata": {},
   "source": [
    "### 4. Create a frequency table of for the “intended vote” column"
   ]
  },
  {
   "cell_type": "code",
   "execution_count": 6,
   "id": "8da9bb29-0b22-4473-bd73-d9cee3735547",
   "metadata": {},
   "outputs": [
    {
     "data": {
      "text/plain": [
       "intended vote\n",
       "stay          14352\n",
       "leave         13692\n",
       "don't know     2314\n",
       "won't vote      537\n",
       "Name: count, dtype: int64"
      ]
     },
     "execution_count": 6,
     "metadata": {},
     "output_type": "execute_result"
    }
   ],
   "source": [
    "frequency_table = df['intended vote'].value_counts()\n",
    "frequency_table"
   ]
  },
  {
   "cell_type": "markdown",
   "id": "5492621c-7e31-4adf-8bc3-20996ab03fa4",
   "metadata": {},
   "source": [
    "### 5. Create a relative frequency table of for the newly created binary variable “leave” including missing values"
   ]
  },
  {
   "cell_type": "code",
   "execution_count": 20,
   "id": "323d8214-5d75-4d99-803b-a826a8338989",
   "metadata": {},
   "outputs": [
    {
     "data": {
      "text/plain": [
       "leave\n",
       "0.0    0.464541\n",
       "1.0    0.443179\n",
       "NaN    0.092280\n",
       "Name: proportion, dtype: float64"
      ]
     },
     "execution_count": 20,
     "metadata": {},
     "output_type": "execute_result"
    }
   ],
   "source": [
    " df['leave'].value_counts(normalize=True,dropna=False)\n"
   ]
  },
  {
   "cell_type": "markdown",
   "id": "25b55c25-a30a-451b-b217-d22a1761cd99",
   "metadata": {},
   "source": [
    "### 6. By chaining the “isna” , “sum”, and “value counts” methods, display the number of missing values for each column"
   ]
  },
  {
   "cell_type": "code",
   "execution_count": 14,
   "id": "d597f45e-747d-4a02-9099-2e77e4a13fe4",
   "metadata": {},
   "outputs": [
    {
     "data": {
      "text/plain": [
       "0       3\n",
       "3425    1\n",
       "2851    1\n",
       "Name: count, dtype: int64"
      ]
     },
     "execution_count": 14,
     "metadata": {},
     "output_type": "execute_result"
    }
   ],
   "source": [
    "df.isna().sum().value_counts() "
   ]
  },
  {
   "cell_type": "markdown",
   "id": "cb27ab8b-35e8-4df7-a0a9-832fcda15274",
   "metadata": {},
   "source": [
    "### 7. Calculate the mean of ”education” without removing missing values"
   ]
  },
  {
   "cell_type": "code",
   "execution_count": 18,
   "id": "e458a811-ce97-4880-a59b-b23a7ce96bb3",
   "metadata": {},
   "outputs": [
    {
     "data": {
      "text/plain": [
       "3.2255915544230067"
      ]
     },
     "execution_count": 18,
     "metadata": {},
     "output_type": "execute_result"
    }
   ],
   "source": [
    "df.education.mean()"
   ]
  },
  {
   "cell_type": "markdown",
   "id": "a5626a8f-48ec-4dbf-9c2b-c46b788bf91f",
   "metadata": {},
   "source": [
    "### 8. Calculate the mean of ”education” after removing missing values"
   ]
  },
  {
   "cell_type": "code",
   "execution_count": 30,
   "id": "81fcc1b0-9349-47d8-bef7-c0f211ace84b",
   "metadata": {},
   "outputs": [
    {
     "data": {
      "text/plain": [
       "2.8680045314775855"
      ]
     },
     "execution_count": 30,
     "metadata": {},
     "output_type": "execute_result"
    }
   ],
   "source": [
    "education = df['education'].dropna().mean()\n",
    "education"
   ]
  },
  {
   "cell_type": "markdown",
   "id": "2f8439fb-6ed6-46c4-8e83-272d571ca9a2",
   "metadata": {},
   "source": [
    "### 9. Remove all missing values from the DataFrame and assign it to a new DataFrame by giving it appropriate name"
   ]
  },
  {
   "cell_type": "code",
   "execution_count": 32,
   "id": "a9edc9db-9fc2-41c6-8749-1779a77f1f1e",
   "metadata": {},
   "outputs": [
    {
     "data": {
      "text/html": [
       "<div>\n",
       "<style scoped>\n",
       "    .dataframe tbody tr th:only-of-type {\n",
       "        vertical-align: middle;\n",
       "    }\n",
       "\n",
       "    .dataframe tbody tr th {\n",
       "        vertical-align: top;\n",
       "    }\n",
       "\n",
       "    .dataframe thead th {\n",
       "        text-align: right;\n",
       "    }\n",
       "</style>\n",
       "<table border=\"1\" class=\"dataframe\">\n",
       "  <thead>\n",
       "    <tr style=\"text-align: right;\">\n",
       "      <th></th>\n",
       "      <th>Unnamed: 0</th>\n",
       "      <th>intended vote</th>\n",
       "      <th>education</th>\n",
       "      <th>age</th>\n",
       "      <th>leave</th>\n",
       "    </tr>\n",
       "  </thead>\n",
       "  <tbody>\n",
       "    <tr>\n",
       "      <th>0</th>\n",
       "      <td>0</td>\n",
       "      <td>leave</td>\n",
       "      <td>3.0</td>\n",
       "      <td>60</td>\n",
       "      <td>1.0</td>\n",
       "    </tr>\n",
       "    <tr>\n",
       "      <th>1</th>\n",
       "      <td>1</td>\n",
       "      <td>leave</td>\n",
       "      <td>0.0</td>\n",
       "      <td>56</td>\n",
       "      <td>1.0</td>\n",
       "    </tr>\n",
       "    <tr>\n",
       "      <th>2</th>\n",
       "      <td>2</td>\n",
       "      <td>stay</td>\n",
       "      <td>5.0</td>\n",
       "      <td>73</td>\n",
       "      <td>0.0</td>\n",
       "    </tr>\n",
       "    <tr>\n",
       "      <th>3</th>\n",
       "      <td>3</td>\n",
       "      <td>leave</td>\n",
       "      <td>4.0</td>\n",
       "      <td>64</td>\n",
       "      <td>1.0</td>\n",
       "    </tr>\n",
       "    <tr>\n",
       "      <th>5</th>\n",
       "      <td>5</td>\n",
       "      <td>stay</td>\n",
       "      <td>4.0</td>\n",
       "      <td>85</td>\n",
       "      <td>0.0</td>\n",
       "    </tr>\n",
       "    <tr>\n",
       "      <th>...</th>\n",
       "      <td>...</td>\n",
       "      <td>...</td>\n",
       "      <td>...</td>\n",
       "      <td>...</td>\n",
       "      <td>...</td>\n",
       "    </tr>\n",
       "    <tr>\n",
       "      <th>30890</th>\n",
       "      <td>30890</td>\n",
       "      <td>stay</td>\n",
       "      <td>4.0</td>\n",
       "      <td>21</td>\n",
       "      <td>0.0</td>\n",
       "    </tr>\n",
       "    <tr>\n",
       "      <th>30891</th>\n",
       "      <td>30891</td>\n",
       "      <td>leave</td>\n",
       "      <td>0.0</td>\n",
       "      <td>18</td>\n",
       "      <td>1.0</td>\n",
       "    </tr>\n",
       "    <tr>\n",
       "      <th>30892</th>\n",
       "      <td>30892</td>\n",
       "      <td>stay</td>\n",
       "      <td>0.0</td>\n",
       "      <td>61</td>\n",
       "      <td>0.0</td>\n",
       "    </tr>\n",
       "    <tr>\n",
       "      <th>30893</th>\n",
       "      <td>30893</td>\n",
       "      <td>stay</td>\n",
       "      <td>3.0</td>\n",
       "      <td>18</td>\n",
       "      <td>0.0</td>\n",
       "    </tr>\n",
       "    <tr>\n",
       "      <th>30894</th>\n",
       "      <td>30894</td>\n",
       "      <td>stay</td>\n",
       "      <td>3.0</td>\n",
       "      <td>23</td>\n",
       "      <td>0.0</td>\n",
       "    </tr>\n",
       "  </tbody>\n",
       "</table>\n",
       "<p>28044 rows × 5 columns</p>\n",
       "</div>"
      ],
      "text/plain": [
       "       Unnamed: 0 intended vote  education  age  leave\n",
       "0               0         leave        3.0   60    1.0\n",
       "1               1         leave        0.0   56    1.0\n",
       "2               2          stay        5.0   73    0.0\n",
       "3               3         leave        4.0   64    1.0\n",
       "5               5          stay        4.0   85    0.0\n",
       "...           ...           ...        ...  ...    ...\n",
       "30890       30890          stay        4.0   21    0.0\n",
       "30891       30891         leave        0.0   18    1.0\n",
       "30892       30892          stay        0.0   61    0.0\n",
       "30893       30893          stay        3.0   18    0.0\n",
       "30894       30894          stay        3.0   23    0.0\n",
       "\n",
       "[28044 rows x 5 columns]"
      ]
     },
     "execution_count": 32,
     "metadata": {},
     "output_type": "execute_result"
    }
   ],
   "source": [
    "# Remove all rows with missing values from the DataFrame\n",
    "df_no_missing = df.dropna()\n",
    "df_no_missing\n",
    "# 'df_no_missing' is now the DataFrame with all missing values removed\n"
   ]
  },
  {
   "cell_type": "markdown",
   "id": "a77e4b08-1c0b-4790-b13e-f79459bdca80",
   "metadata": {},
   "source": [
    "### 10. Create a contingency table (or cross–tabulation) using ”leave” as row and ”education” as column from the DataFrame without missing valves"
   ]
  },
  {
   "cell_type": "code",
   "execution_count": 35,
   "id": "d465c902-ac23-46f0-ac02-f7f1a47d22a5",
   "metadata": {},
   "outputs": [
    {
     "data": {
      "text/html": [
       "<div>\n",
       "<style scoped>\n",
       "    .dataframe tbody tr th:only-of-type {\n",
       "        vertical-align: middle;\n",
       "    }\n",
       "\n",
       "    .dataframe tbody tr th {\n",
       "        vertical-align: top;\n",
       "    }\n",
       "\n",
       "    .dataframe thead th {\n",
       "        text-align: right;\n",
       "    }\n",
       "</style>\n",
       "<table border=\"1\" class=\"dataframe\">\n",
       "  <thead>\n",
       "    <tr style=\"text-align: right;\">\n",
       "      <th>education</th>\n",
       "      <th>0.0</th>\n",
       "      <th>1.0</th>\n",
       "      <th>2.0</th>\n",
       "      <th>3.0</th>\n",
       "      <th>4.0</th>\n",
       "      <th>5.0</th>\n",
       "    </tr>\n",
       "    <tr>\n",
       "      <th>intended vote</th>\n",
       "      <th></th>\n",
       "      <th></th>\n",
       "      <th></th>\n",
       "      <th></th>\n",
       "      <th></th>\n",
       "      <th></th>\n",
       "    </tr>\n",
       "  </thead>\n",
       "  <tbody>\n",
       "    <tr>\n",
       "      <th>leave</th>\n",
       "      <td>1849</td>\n",
       "      <td>1356</td>\n",
       "      <td>3388</td>\n",
       "      <td>2685</td>\n",
       "      <td>3783</td>\n",
       "      <td>631</td>\n",
       "    </tr>\n",
       "  </tbody>\n",
       "</table>\n",
       "</div>"
      ],
      "text/plain": [
       "education       0.0   1.0   2.0   3.0   4.0  5.0\n",
       "intended vote                                   \n",
       "leave          1849  1356  3388  2685  3783  631"
      ]
     },
     "execution_count": 35,
     "metadata": {},
     "output_type": "execute_result"
    }
   ],
   "source": [
    "# Create a contingency table with \"leave\" as rows and \"education\" as columns\n",
    "contingency_table = pd.crosstab(df_no_missing[df_no_missing['intended vote'] == 'leave']['intended vote'], \n",
    "                                df_no_missing['education'])\n",
    "\n",
    "# Display the contingency table\n",
    "contingency_table\n"
   ]
  },
  {
   "cell_type": "markdown",
   "id": "5e3608d5-e960-438b-a49e-b359fe89e671",
   "metadata": {},
   "source": [
    "### 11. Create a relative frequency contingency table (or cross–tabulation) using ”leave” as row and ”education” as column from the DataFrame without missing valves"
   ]
  },
  {
   "cell_type": "code",
   "execution_count": 37,
   "id": "cc47cf4c-e68c-48f3-be45-e7ab8fc07693",
   "metadata": {},
   "outputs": [
    {
     "data": {
      "text/html": [
       "<div>\n",
       "<style scoped>\n",
       "    .dataframe tbody tr th:only-of-type {\n",
       "        vertical-align: middle;\n",
       "    }\n",
       "\n",
       "    .dataframe tbody tr th {\n",
       "        vertical-align: top;\n",
       "    }\n",
       "\n",
       "    .dataframe thead th {\n",
       "        text-align: right;\n",
       "    }\n",
       "</style>\n",
       "<table border=\"1\" class=\"dataframe\">\n",
       "  <thead>\n",
       "    <tr style=\"text-align: right;\">\n",
       "      <th>education</th>\n",
       "      <th>0.0</th>\n",
       "      <th>1.0</th>\n",
       "      <th>2.0</th>\n",
       "      <th>3.0</th>\n",
       "      <th>4.0</th>\n",
       "      <th>5.0</th>\n",
       "    </tr>\n",
       "    <tr>\n",
       "      <th>intended vote</th>\n",
       "      <th></th>\n",
       "      <th></th>\n",
       "      <th></th>\n",
       "      <th></th>\n",
       "      <th></th>\n",
       "      <th></th>\n",
       "    </tr>\n",
       "  </thead>\n",
       "  <tbody>\n",
       "    <tr>\n",
       "      <th>leave</th>\n",
       "      <td>0.135042</td>\n",
       "      <td>0.099036</td>\n",
       "      <td>0.247444</td>\n",
       "      <td>0.1961</td>\n",
       "      <td>0.276293</td>\n",
       "      <td>0.046085</td>\n",
       "    </tr>\n",
       "  </tbody>\n",
       "</table>\n",
       "</div>"
      ],
      "text/plain": [
       "education           0.0       1.0       2.0     3.0       4.0       5.0\n",
       "intended vote                                                          \n",
       "leave          0.135042  0.099036  0.247444  0.1961  0.276293  0.046085"
      ]
     },
     "execution_count": 37,
     "metadata": {},
     "output_type": "execute_result"
    }
   ],
   "source": [
    "relative_frequency_table_leave = pd.crosstab(df_no_missing[df_no_missing['intended vote'] == 'leave']['intended vote'], \n",
    "                                             df_no_missing['education'],\n",
    "                                             normalize='index')\n",
    "relative_frequency_table_leave"
   ]
  },
  {
   "cell_type": "code",
   "execution_count": null,
   "id": "08f7b150-2224-4a93-81dc-25bc84bb0386",
   "metadata": {},
   "outputs": [],
   "source": []
  }
 ],
 "metadata": {
  "kernelspec": {
   "display_name": "Python 3 (ipykernel)",
   "language": "python",
   "name": "python3"
  },
  "language_info": {
   "codemirror_mode": {
    "name": "ipython",
    "version": 3
   },
   "file_extension": ".py",
   "mimetype": "text/x-python",
   "name": "python",
   "nbconvert_exporter": "python",
   "pygments_lexer": "ipython3",
   "version": "3.11.6"
  }
 },
 "nbformat": 4,
 "nbformat_minor": 5
}
