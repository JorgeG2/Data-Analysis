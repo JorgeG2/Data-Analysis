{
 "cells": [
  {
   "cell_type": "code",
   "execution_count": null,
   "id": "07e7e880-b91c-4dd1-8145-fe6211297b40",
   "metadata": {
    "tags": []
   },
   "outputs": [],
   "source": [
    "import pandas as pd\n",
    "import numpy as np\n",
    "import seaborn as sns\n",
    "import matplotlib.pylab as plt\n",
    "import warnings"
   ]
  },
  {
   "cell_type": "code",
   "execution_count": null,
   "id": "efb2bfb8-8dbd-49b5-b8cb-1a51f11ce6cf",
   "metadata": {
    "tags": []
   },
   "outputs": [],
   "source": [
    "warnings.filterwarnings(\"ignore\")"
   ]
  },
  {
   "cell_type": "markdown",
   "id": "1cf668cd-f57e-46b1-83f7-15c01159da08",
   "metadata": {},
   "source": [
    "# Import and Prepare Data\n",
    "The finch dataset is stored in a .csv file named \"finchData.csv\". In this activity, you will read the data into a pandas data frame, do a little processing, and extract the data for the scandens and fortis finch species.\n",
    "\n",
    "You can use the read_csv function to read the data from a file into a pandas data frame.\n",
    "\n",
    "df = pd.read_csv(fileName)"
   ]
  },
  {
   "cell_type": "code",
   "execution_count": null,
   "id": "2a515717-1fd4-4980-995d-620709e96e7f",
   "metadata": {
    "tags": []
   },
   "outputs": [],
   "source": [
    "finches = pd.read_csv(\"/Volumes/TOLG/2024_spring/1206_data_sets/finchData.csv\")\n",
    "\n",
    "finches.head()"
   ]
  },
  {
   "cell_type": "code",
   "execution_count": null,
   "id": "122bd9ca-52e1-4227-919a-7abfcc525a07",
   "metadata": {
    "tags": []
   },
   "outputs": [],
   "source": [
    "finches.isna().sum().sort_values()"
   ]
  },
  {
   "cell_type": "code",
   "execution_count": null,
   "id": "148507ec-3ff0-45f2-863e-0a74c0ae5ff8",
   "metadata": {
    "tags": []
   },
   "outputs": [],
   "source": [
    "finches.info()"
   ]
  },
  {
   "cell_type": "code",
   "execution_count": null,
   "id": "7ad350b4-fe9c-47df-9ae2-400d6c1c0440",
   "metadata": {
    "tags": []
   },
   "outputs": [],
   "source": [
    "finches.shape"
   ]
  },
  {
   "cell_type": "code",
   "execution_count": null,
   "id": "a854bd85-49ed-478f-a248-5f9c5ff786c8",
   "metadata": {
    "tags": []
   },
   "outputs": [],
   "source": [
    "finches.shape[1]"
   ]
  },
  {
   "cell_type": "code",
   "execution_count": null,
   "id": "29d32101-d098-42d5-bc2a-cc561aeb2913",
   "metadata": {
    "tags": []
   },
   "outputs": [],
   "source": [
    "finches.size"
   ]
  },
  {
   "cell_type": "code",
   "execution_count": null,
   "id": "b7cd734a-0c58-419f-9cab-1c46a103b2cc",
   "metadata": {
    "tags": []
   },
   "outputs": [],
   "source": [
    "finches.nunique()"
   ]
  },
  {
   "cell_type": "markdown",
   "id": "5c74a378-aa23-4326-980d-9907a213e64d",
   "metadata": {},
   "source": [
    "# Changing Dtypes\n",
    "\n",
    "Convert 'Species' to categorical variable, and and 'Band'and 'Year' to type str."
   ]
  },
  {
   "cell_type": "code",
   "execution_count": null,
   "id": "ae8a86fe-bf81-40ac-9188-9b158f58268f",
   "metadata": {
    "tags": []
   },
   "outputs": [],
   "source": [
    "finches['Species'] = finches['Species'].astype('category')\n",
    "\n",
    "finches['Band'] = finches['Band'].astype('str')\n",
    "\n",
    "finches['Year'] = finches['Year'].astype('category')"
   ]
  },
  {
   "cell_type": "code",
   "execution_count": null,
   "id": "fbd518fd-0589-4ae2-87db-215bcd512abd",
   "metadata": {
    "tags": []
   },
   "outputs": [],
   "source": [
    "finches.info()"
   ]
  },
  {
   "cell_type": "code",
   "execution_count": null,
   "id": "fd9aff2b-464a-4b54-9643-281cac970fb6",
   "metadata": {
    "tags": []
   },
   "outputs": [],
   "source": [
    "finches.describe(include='all').T"
   ]
  },
  {
   "cell_type": "code",
   "execution_count": null,
   "id": "c4841d9d-3a3d-4d65-a092-c9e6eac11481",
   "metadata": {
    "tags": []
   },
   "outputs": [],
   "source": [
    "finches.describe().T"
   ]
  },
  {
   "cell_type": "code",
   "execution_count": null,
   "id": "eb07326e-03d3-44e0-930d-0a1902569653",
   "metadata": {
    "tags": []
   },
   "outputs": [],
   "source": [
    "finches.groupby(\"Species\").size()"
   ]
  },
  {
   "cell_type": "code",
   "execution_count": null,
   "id": "5528b588-af15-4cd9-b2ab-a81aa8a770d7",
   "metadata": {
    "tags": []
   },
   "outputs": [],
   "source": [
    "finches.groupby(\"Year\").size()"
   ]
  },
  {
   "cell_type": "markdown",
   "id": "e53c9216-64d0-41f1-a5d0-87338317b7b0",
   "metadata": {},
   "source": [
    "# Different data extracting methods\n",
    "\n",
    "There are about half as many finches in 2012 than in 1975. Does this occur for both finch species?\n",
    "\n",
    "To investigate, create a separate table for the scandens finch species. You can select data according to a condition using relational operators such as == and the query method of data frames."
   ]
  },
  {
   "cell_type": "code",
   "execution_count": null,
   "id": "811d6d69-51f7-48ab-9e17-12731be92a64",
   "metadata": {
    "tags": []
   },
   "outputs": [],
   "source": [
    "finches['Species'] == 'scandens'"
   ]
  },
  {
   "cell_type": "code",
   "execution_count": null,
   "id": "3568fd0f-9a37-41e6-8383-e12231e04a96",
   "metadata": {
    "tags": []
   },
   "outputs": [],
   "source": [
    "scandens = finches.loc[finches['Species'] == 'scandens']\n",
    "scandens"
   ]
  },
  {
   "cell_type": "code",
   "execution_count": null,
   "id": "1a6f49b1-02c3-442e-824c-3230cad017b5",
   "metadata": {
    "tags": []
   },
   "outputs": [],
   "source": [
    "fortis = finches.loc[finches['Species'] == 'fortis']# df.loc[list of row labels, list of column labels]\n",
    "fortis"
   ]
  },
  {
   "cell_type": "code",
   "execution_count": null,
   "id": "bb064033-ebd9-498c-b70f-8e59aee8258c",
   "metadata": {
    "tags": []
   },
   "outputs": [],
   "source": [
    "scandens.describe().T"
   ]
  },
  {
   "cell_type": "code",
   "execution_count": null,
   "id": "edf2baa7-3087-4954-b414-ddc022408404",
   "metadata": {
    "tags": []
   },
   "outputs": [],
   "source": [
    "scandens.groupby(\"Year\").size()"
   ]
  },
  {
   "cell_type": "code",
   "execution_count": null,
   "id": "d70246ca-113a-41fe-b328-713cc98b5718",
   "metadata": {
    "tags": []
   },
   "outputs": [],
   "source": [
    "fortis = finches.query('Species == \"fortis\"')"
   ]
  },
  {
   "cell_type": "code",
   "execution_count": null,
   "id": "46f22ed7-4e59-4185-8042-6bcd7a8a0bf1",
   "metadata": {
    "tags": []
   },
   "outputs": [],
   "source": [
    "fortis.describe().T"
   ]
  },
  {
   "cell_type": "code",
   "execution_count": null,
   "id": "2df54c64-fe85-45ec-a567-f9aff923afc6",
   "metadata": {
    "tags": []
   },
   "outputs": [],
   "source": [
    "fortis.groupby(\"Year\").size()"
   ]
  },
  {
   "cell_type": "code",
   "execution_count": null,
   "id": "1fb2b2b1-ca65-4ba5-b7b0-e71bcd01bf59",
   "metadata": {
    "tags": []
   },
   "outputs": [],
   "source": [
    "# A scatter plot explores how two variables are related to each other.\n",
    "# You can use seaborn's scatterplot method to create a scatter plot.\n",
    "\n",
    "sns.set(style=\"ticks\")\n",
    "\n",
    "sns.scatterplot(x='BeakLength', y='BeakDepth', data=finches)\n",
    "\n",
    "plt.xlabel('Beak Length')\n",
    "plt.ylabel('Beak Depth')\n",
    "plt.title(\"Scatter Plot\");"
   ]
  },
  {
   "cell_type": "markdown",
   "id": "df7b15e1-5544-4845-96a2-e1489200da52",
   "metadata": {},
   "source": [
    "Notice that there appear to be two \"groups\" in the plot. You can visualize different groups in a scatter plot by assigning each group a different color."
   ]
  },
  {
   "cell_type": "code",
   "execution_count": null,
   "id": "39172120-c293-46bd-bc13-14c5ce94a6bf",
   "metadata": {
    "tags": []
   },
   "outputs": [],
   "source": [
    "sns.set(style=\"ticks\")\n",
    "\n",
    "sns.scatterplot(x='BeakLength', y='BeakDepth', hue='Species', data=finches)\n",
    "\n",
    "plt.xlabel('Beak Length')\n",
    "plt.ylabel('Beak Depth');\n"
   ]
  },
  {
   "cell_type": "code",
   "execution_count": null,
   "id": "3eceffcb-6058-4583-89f1-2210e124fb1d",
   "metadata": {
    "tags": []
   },
   "outputs": [],
   "source": [
    "sns.set(style=\"ticks\")\n",
    "\n",
    "sns.scatterplot(x='BeakLength', y='BeakDepth', hue='Species', style = 'Year', data=finches)\n",
    "\n",
    "plt.xlabel('Beak Length')\n",
    "plt.ylabel('Beak Depth');\n",
    "\n",
    "#plt.legend(loc=\"upper left\");\n"
   ]
  },
  {
   "cell_type": "markdown",
   "id": "d2d33588-6d0a-44f0-aafc-9698e6d0bbd6",
   "metadata": {},
   "source": [
    "# Histogram\n",
    "\n",
    "In the previous activity, you saw the relationship between the finches' beak length and depth measurements in a scatter plot. Let's now look at the distribution of the beak length measurements with a histogram. A histogram provides a quick visual insight into how a data set is distributed. The range of possible values is divided into intervals, or bins, and each bar shows how many observations fall within that interval."
   ]
  },
  {
   "cell_type": "code",
   "execution_count": null,
   "id": "5ddc5819-910d-4a0c-a010-3a70b7862e0e",
   "metadata": {
    "tags": []
   },
   "outputs": [],
   "source": [
    "# Create a histogram of the beak length measurements in data using the seaborn's histplot method\n",
    "\n",
    "# styles to choose from: 'darkgrid', 'whitegrid', 'dark', 'white', 'ticks'\n",
    "\n",
    "sns.set(style=\"ticks\")\n",
    "\n",
    "binwidth = .75\n",
    "\n",
    "lower = min(finches['BeakLength'])\n",
    "upper = max(finches['BeakLength'])\n",
    "\n",
    "bins_finches = np.arange(lower, upper+1, binwidth)\n",
    "\n",
    "sns.histplot(finches[\"BeakLength\"], \n",
    "             bins= bins_finches, \n",
    "             kde=False, \n",
    "             color='skyblue')\n",
    "\n",
    "xtick_labels = [f'{label:.2f}' for label in bins_finches]\n",
    "plt.xticks(bins_finches, xtick_labels)\n",
    "plt.xticks(rotation=30)\n",
    "plt.xlabel(\"Beak Length\")\n",
    "plt.ylabel(\"Frequency\")\n",
    "plt.title(\"Histogram\");"
   ]
  },
  {
   "cell_type": "markdown",
   "id": "b0a92d5e-1c32-46b6-964f-04e278b2b14f",
   "metadata": {},
   "source": [
    "This histogram appears to have two peaks, so we can say this data is bimodal. The data plotted is for the two species. Is that why there are two peaks in the graph?"
   ]
  },
  {
   "cell_type": "markdown",
   "id": "cc03a66c-6e67-4797-9144-bfb4fcf7b0ce",
   "metadata": {},
   "source": [
    "# Creating histograms side by side\n",
    "\n",
    "Create a plot with two histograms in the same axes, one for the scandens beak length measurements and one for the fortis beak length measurements."
   ]
  },
  {
   "cell_type": "code",
   "execution_count": null,
   "id": "3aa72a1d-d832-4597-b431-76c5392a499d",
   "metadata": {
    "tags": []
   },
   "outputs": [],
   "source": [
    "sns.set(style=\"ticks\")\n",
    "\n",
    "binwidth = .75\n",
    "\n",
    "lower = min(finches['BeakLength'])\n",
    "upper = max(finches['BeakLength'])\n",
    "\n",
    "bins_finches = np.arange(lower, upper+1, binwidth)\n",
    "\n",
    "sns.histplot(scandens['BeakLength'], bins=bins_finches, kde=False, label='scandens', color='blue')\n",
    "\n",
    "sns.histplot(fortis['BeakLength'], bins=bins_finches, kde=False, label='fortis', color='orange')\n",
    "\n",
    "xtick_labels = [f'{label:.2f}' for label in bins_finches]\n",
    "plt.xticks(bins_finches, xtick_labels)\n",
    "plt.xticks(rotation=90)\n",
    "plt.xlabel('Beak Length')\n",
    "plt.ylabel('Frequency')\n",
    "plt.title('Histogram of Beak Lengths for scandens and fortis')\n",
    "plt.legend();"
   ]
  },
  {
   "cell_type": "markdown",
   "id": "5d24f3fb-b0c1-48f0-95f7-542509ceb6b8",
   "metadata": {},
   "source": [
    "It's no surprise that beak length measurements are different for the two species. Specifically, they are larger for the scandens species than for the fortis species. The scandens, or cactus finch, primarily feeds on cactus flowers, fruits and seeds, which require a longer beak to reach. In contrast, the fortis, or ground finch, feeds on seeds, which require a shorter but wider beak to break them open."
   ]
  },
  {
   "cell_type": "markdown",
   "id": "d364cf27-8580-453b-809e-cd2ef9b782b8",
   "metadata": {
    "tags": []
   },
   "source": [
    "# Normalizing Data Sets\n",
    "\n",
    "There are more fortis than scandens observations, which makes it seem like the fortis data is more significant than the scandens data. You can remove this bias by normalizing your data so that instead of looking at the total number of observations, you look at the relative number of observations within each bin."
   ]
  },
  {
   "cell_type": "code",
   "execution_count": null,
   "id": "52a95cc6-ff26-4f90-aec0-266243676d0e",
   "metadata": {
    "tags": []
   },
   "outputs": [],
   "source": [
    "binwidth = .75\n",
    "\n",
    "lower = min(finches['BeakLength'])\n",
    "upper = max(finches['BeakLength'])\n",
    "\n",
    "bins_finches = np.arange(lower, upper+1, binwidth)\n",
    "\n",
    "sns.histplot(scandens['BeakLength'], \n",
    "             bins=bins_finches, \n",
    "             kde=False, \n",
    "             label='scandens', \n",
    "             color='blue', \n",
    "             stat='density')\n",
    "\n",
    "sns.histplot(fortis['BeakLength'], \n",
    "             bins=bins_finches, \n",
    "             kde=False, \n",
    "             label='fortis', \n",
    "             color='orange',  \n",
    "             stat='density')\n",
    "\n",
    "xtick_labels = [f'{label:.2f}' for label in bins_finches]\n",
    "plt.xticks(bins_finches, xtick_labels)\n",
    "plt.xticks(rotation=30)\n",
    "plt.xlabel('Beak Length')\n",
    "plt.ylabel('Relative Frequency')\n",
    "plt.title('Histogram of Beak Lengths for scandens and fortis')\n",
    "plt.legend();"
   ]
  },
  {
   "cell_type": "markdown",
   "id": "7d1daba4-3999-4b4c-ac9c-641fa5e59455",
   "metadata": {},
   "source": [
    "# It's clear that the scandens and fortis have different beak lengths.\n",
    "\n",
    "### Question: Is the scandens beak length changed(evolved) between 1975 and 2012? If there is a change, is it statistically significant?\n",
    "\n",
    "Try creating two histograms for the scandens' beak length measurements, one for 1975 and another for 2012."
   ]
  },
  {
   "cell_type": "code",
   "execution_count": null,
   "id": "da80b785-74d4-49d3-82eb-84e18360080d",
   "metadata": {
    "tags": []
   },
   "outputs": [],
   "source": [
    "binwidth = 0.50\n",
    "\n",
    "sc1975 = scandens.query('Year == \"1975\"')['BeakLength']\n",
    "\n",
    "sc2012 = scandens.query('Year == \"2012\"')['BeakLength']\n",
    "\n",
    "bins_sc = np.arange(min(scandens['BeakLength']),max(scandens['BeakLength'])+1, binwidth)\n",
    "\n",
    "xtick_labels = [f'{label:.2f}' for label in bins_sc]\n",
    "\n",
    "plt.xticks(bins_sc, xtick_labels)\n",
    "\n",
    "plt.xticks(rotation=90)\n",
    "\n",
    "sns.histplot(sc1975, bins=bins_sc, kde=False, label ='scandens-1975', color='blue', stat='density')\n",
    "\n",
    "sns.histplot(sc2012, bins=bins_sc, kde=False, label='scandens-2012', color='orange', stat='density')\n",
    "\n",
    "plt.xlabel('Beak Length')\n",
    "plt.ylabel('Relative Frequency')\n",
    "plt.title('BeakLength comparison of scandens in 1975 and scandens in 2012')\n",
    "plt.legend();"
   ]
  },
  {
   "cell_type": "markdown",
   "id": "0e3ae1cb-2efd-402a-be2a-3c9437cc7872",
   "metadata": {},
   "source": [
    "From the histograms of the scandens' beak length measurements, it appears that the length in 1975 is centered on approximately 14.12 mm, whereas the length in 2012 is centered on approximately 13.42 mm. Is this difference statisticaly significant?"
   ]
  },
  {
   "cell_type": "code",
   "execution_count": null,
   "id": "f8fbcc94-9c48-42f4-8224-97dc686113ff",
   "metadata": {
    "tags": []
   },
   "outputs": [],
   "source": [
    "print(f\"Mean beak lengthe of scandens in 1975 = {sc1975.mean()}\\n\")\n",
    "print(f\"Mean beak lengthe of scandens in 2012 = {sc2012.mean()}\")"
   ]
  },
  {
   "cell_type": "markdown",
   "id": "37c80d07-c573-436e-b4c8-fec0cf8f2a2d",
   "metadata": {},
   "source": [
    "# Boxplot\n",
    "\n",
    "Use seaborn to make a boxplot of the finches data set"
   ]
  },
  {
   "cell_type": "code",
   "execution_count": null,
   "id": "2b01934e-119d-44d3-a391-10d1de9fadf0",
   "metadata": {
    "tags": []
   },
   "outputs": [],
   "source": [
    "ax = sns.boxplot(data=finches, \n",
    "                 x='Species', \n",
    "                 y='BeakLength', \n",
    "                 hue='Year')"
   ]
  },
  {
   "cell_type": "code",
   "execution_count": null,
   "id": "e9d4ef01-2835-4d99-b6d5-2ee1ceb006df",
   "metadata": {
    "tags": []
   },
   "outputs": [],
   "source": [
    "g = sns.catplot(data=finches, \n",
    "                kind='box', \n",
    "                x='Species', \n",
    "                y='BeakLength', \n",
    "                hue='Year')"
   ]
  },
  {
   "cell_type": "markdown",
   "id": "e0f42032-c2cc-44fd-8b6e-242d5df09b45",
   "metadata": {},
   "source": [
    "## Making a horizontal/vertical boxplots for all numerical variables with no label(category)\n",
    "\n",
    "orient = \"v\" -- vertical boxplot(default),  \n",
    "\n",
    "orient = \"h\" -- horizontal boxplot"
   ]
  },
  {
   "cell_type": "code",
   "execution_count": null,
   "id": "a719af51-467d-4608-a7bf-bca660b86181",
   "metadata": {
    "tags": []
   },
   "outputs": [],
   "source": [
    "sns.boxplot(np.random.normal(39,2,1000));"
   ]
  },
  {
   "cell_type": "code",
   "execution_count": null,
   "id": "eaefa72b-dca5-48d9-832a-290e500f46eb",
   "metadata": {
    "tags": []
   },
   "outputs": [],
   "source": [
    "sns.boxplot(np.random.normal(39,2,1000), orient=\"h\");"
   ]
  },
  {
   "cell_type": "code",
   "execution_count": null,
   "id": "da3a58f2-b1da-4b4a-a55e-037232ed21ef",
   "metadata": {
    "tags": []
   },
   "outputs": [],
   "source": [
    "n=1000\n",
    "\n",
    "rand_dict = {\"age\":list(np.random.binomial(100, 0.25, n)),\n",
    "             \"weight\":list(np.around(np.random.uniform(low=100 , high=200, size=n),2)),\n",
    "             \"height\":list(np.around(np.random.normal(70, 12.0, size=n),2))}"
   ]
  },
  {
   "cell_type": "code",
   "execution_count": null,
   "id": "7039cf21-bf9f-4718-a185-df1e4c320556",
   "metadata": {
    "tags": []
   },
   "outputs": [],
   "source": [
    "rand_data = pd.DataFrame(rand_dict)\n",
    "rand_data"
   ]
  },
  {
   "cell_type": "code",
   "execution_count": null,
   "id": "f9343b75-f2bd-451b-a8e6-511ed8c9fdef",
   "metadata": {
    "tags": []
   },
   "outputs": [],
   "source": [
    "sns.boxplot(data=rand_data, orient=\"h\");"
   ]
  },
  {
   "cell_type": "code",
   "execution_count": null,
   "id": "46786d64-e058-4101-babb-d498585e48db",
   "metadata": {
    "tags": []
   },
   "outputs": [],
   "source": [
    "sns.boxplot(data=rand_data, orient=\"v\");"
   ]
  },
  {
   "cell_type": "code",
   "execution_count": null,
   "id": "e146b794-f3f6-42d0-9943-709ff6497305",
   "metadata": {
    "tags": []
   },
   "outputs": [],
   "source": [
    "sns.boxplot(data=rand_data[['age', 'height']]);"
   ]
  },
  {
   "cell_type": "code",
   "execution_count": null,
   "id": "1d275d94-0961-4e8a-9f10-d1bab31f7b3f",
   "metadata": {
    "tags": []
   },
   "outputs": [],
   "source": [
    "# You can also specify x=var_name, orient=\"h\" or y=var_name with orient = \"v\"\n",
    "\n",
    "sns.boxplot(data=rand_data, y='weight', orient=\"v\");"
   ]
  },
  {
   "cell_type": "code",
   "execution_count": null,
   "id": "3f60e990-17eb-4b6f-be30-367f66cbaf82",
   "metadata": {},
   "outputs": [],
   "source": [
    "brexit = pd.read_csv(\"BREXIT.csv\")"
   ]
  },
  {
   "cell_type": "code",
   "execution_count": null,
   "id": "5dbf6e93-aa47-4726-a158-e5fbfcf1ebaa",
   "metadata": {
    "tags": []
   },
   "outputs": [],
   "source": [
    "brexit"
   ]
  },
  {
   "cell_type": "code",
   "execution_count": null,
   "id": "0322b4c9-03b6-478e-a20a-776f0f5e70d5",
   "metadata": {
    "tags": []
   },
   "outputs": [],
   "source": [
    "brexit[\"intended vote\"].value_counts()"
   ]
  },
  {
   "cell_type": "code",
   "execution_count": null,
   "id": "464e1130-1362-4d34-9a0a-7af20496b577",
   "metadata": {
    "tags": []
   },
   "outputs": [],
   "source": [
    "brexit.isna().sum().sort_values()"
   ]
  },
  {
   "cell_type": "code",
   "execution_count": null,
   "id": "fcc7e120-9435-4654-bccf-5b33229519a5",
   "metadata": {
    "tags": []
   },
   "outputs": [],
   "source": [
    "brexit[\"leave\"] = brexit[\"intended vote\"].replace({\"leave\": 1, \"stay\": 0, \"don\\'t know\": np.nan, \"won\\'t vote\": np.nan})"
   ]
  },
  {
   "cell_type": "code",
   "execution_count": null,
   "id": "0d71ff28-e07f-4634-b489-026fea11f54a",
   "metadata": {
    "tags": []
   },
   "outputs": [],
   "source": [
    "brexit"
   ]
  },
  {
   "cell_type": "code",
   "execution_count": null,
   "id": "1176dce1-148c-4392-b9cb-a14109a4a07d",
   "metadata": {
    "tags": []
   },
   "outputs": [],
   "source": [
    "brexit.groupby(\"leave\", dropna=False)[\"age\"].mean()"
   ]
  },
  {
   "cell_type": "code",
   "execution_count": null,
   "id": "18722434-114c-4a37-a709-70268b87e694",
   "metadata": {
    "tags": []
   },
   "outputs": [],
   "source": [
    "brexit.isna().sum().sort_values()"
   ]
  },
  {
   "cell_type": "code",
   "execution_count": null,
   "id": "d2a7eec7-ebcd-4381-b042-e00ff1b00439",
   "metadata": {
    "tags": []
   },
   "outputs": [],
   "source": [
    "brexit.pivot_table(index=\"leave\", \n",
    "                   columns=\"education\", \n",
    "                   values=\"age\", \n",
    "                   dropna=False,\n",
    "                   aggfunc=\"mean\", \n",
    "                   margins=\"True\")"
   ]
  },
  {
   "cell_type": "code",
   "execution_count": null,
   "id": "7db7ba22-1782-421f-b573-e2a36998e9a8",
   "metadata": {},
   "outputs": [],
   "source": [
    "brexit['leave'].mean(skipna=True)"
   ]
  },
  {
   "cell_type": "code",
   "execution_count": null,
   "id": "47583211-f697-4c07-b990-e639d5924060",
   "metadata": {},
   "outputs": [],
   "source": [
    "brexit['leave'].sum (skipna=True)/brexit.shape[0]"
   ]
  },
  {
   "cell_type": "code",
   "execution_count": null,
   "id": "9ff604a1-3270-4088-a9c3-fcd765475a52",
   "metadata": {},
   "outputs": [],
   "source": [
    "brexit.pivot_table(index=\"leave\", \n",
    "                   columns=\"education\", \n",
    "                   values='intended vote', \n",
    "                   aggfunc='count', \n",
    "                   dropna=True, \n",
    "                   margins=True)"
   ]
  },
  {
   "cell_type": "code",
   "execution_count": null,
   "id": "c519cf7d-44cd-441c-af30-6c273670a84f",
   "metadata": {},
   "outputs": [],
   "source": [
    "brexit.pivot_table(index=\"leave\", \n",
    "                   columns=\"education\", \n",
    "                   values='age', \n",
    "                   aggfunc='count', \n",
    "                   dropna=False, \n",
    "                   margins=True)"
   ]
  },
  {
   "cell_type": "markdown",
   "id": "dd073449-01bd-436e-9d19-5d9d0139df75",
   "metadata": {},
   "source": [
    "## Contingency Tables\n",
    "\n",
    "A useful way to summarize two categorical variables is a contingency table -- a table of counts by category. We can also use the _pandas_ `cut` method to split the dataset into bins. There are a number of arguments for the cut method. The following code creates an age group for the BREXIT data set. The method `value_counts` returns a frequency table."
   ]
  },
  {
   "cell_type": "code",
   "execution_count": null,
   "id": "27fa0a38-ce15-4074-8818-ff5c344b8c9b",
   "metadata": {},
   "outputs": [],
   "source": [
    "# num_bins = pd.cut(brexit['age'], 25)\n",
    "\n",
    "num_bins = pd.cut(brexit['age'], [0, 30, 55, 70, 80, 90, 100, 120])"
   ]
  },
  {
   "cell_type": "code",
   "execution_count": null,
   "id": "dcbdbf86-bb2a-450f-b2c3-7a23db4d8e5e",
   "metadata": {},
   "outputs": [],
   "source": [
    "num_bins"
   ]
  },
  {
   "cell_type": "code",
   "execution_count": null,
   "id": "54f4fde2-eb2b-4908-bf9a-134e9790a221",
   "metadata": {},
   "outputs": [],
   "source": [
    "print(num_bins.value_counts().sort_index()) # This is a frequency table for the Series object num_bins"
   ]
  },
  {
   "cell_type": "code",
   "execution_count": null,
   "id": "1567fabb-4745-4f32-a07a-f55ce101e2e4",
   "metadata": {},
   "outputs": [],
   "source": [
    "num_bins.name = 'AgeGroup' # This line of code assigns a name to the values of a Series object\n",
    "df = pd.concat([brexit, num_bins], axis=1)\n",
    "df.sort_values(by='age', inplace=True)\n",
    "df"
   ]
  },
  {
   "cell_type": "code",
   "execution_count": null,
   "id": "ba7054c4-cbd2-45e9-a8aa-7b9057036468",
   "metadata": {},
   "outputs": [],
   "source": [
    "pd.crosstab(df['leave'], df['AgeGroup'], dropna=True, margins=True)"
   ]
  },
  {
   "cell_type": "code",
   "execution_count": null,
   "id": "6c04469c-dee4-4b00-b39a-44fcbfbcccbf",
   "metadata": {},
   "outputs": [],
   "source": [
    "pd.crosstab(df['leave'], df['AgeGroup'], dropna=False, margins=True)"
   ]
  },
  {
   "cell_type": "code",
   "execution_count": null,
   "id": "67aaa010-d0c2-4d8e-a376-2db69cecb6e7",
   "metadata": {},
   "outputs": [],
   "source": [
    "freq_drop = pd.crosstab(df['leave'], df['AgeGroup'], dropna=True, margins=True)\n",
    "rel_freq_drop = freq_drop/freq_drop.loc['All','All']\n",
    "rel_freq_drop"
   ]
  },
  {
   "cell_type": "code",
   "execution_count": null,
   "id": "11671c03-689b-461e-9fdc-9682d4eda7c3",
   "metadata": {},
   "outputs": [],
   "source": [
    "freq_nodrop = pd.crosstab(df['leave'], df['AgeGroup'], dropna=False, margins=True)\n",
    "rel_freq_nodrop = freq_nodrop/freq_nodrop.loc['All','All']\n",
    "rel_freq_nodrop"
   ]
  },
  {
   "cell_type": "code",
   "execution_count": null,
   "id": "32fa4956-fb9f-4510-9a0d-177106f3f7ca",
   "metadata": {},
   "outputs": [],
   "source": [
    "freq_table = pd.crosstab(brexit['leave'], brexit['education'], dropna=True, margins=True)\n",
    "freq_table = freq_table/freq_table.loc['All','All']\n",
    "freq_table"
   ]
  },
  {
   "cell_type": "code",
   "execution_count": null,
   "id": "2dfe3480-0569-4e5d-8dee-5387d1423f04",
   "metadata": {},
   "outputs": [],
   "source": [
    "freq_table = pd.crosstab(brexit['leave'], brexit['education'], dropna=False, margins=True)\n",
    "freq_table = freq_table/freq_table.loc['All','All']\n",
    "freq_table"
   ]
  },
  {
   "cell_type": "code",
   "execution_count": null,
   "id": "0e6af544-394b-4756-9bef-e81f368a5dbb",
   "metadata": {},
   "outputs": [],
   "source": []
  }
 ],
 "metadata": {
  "kernelspec": {
   "display_name": "Python 3 (ipykernel)",
   "language": "python",
   "name": "python3"
  },
  "language_info": {
   "codemirror_mode": {
    "name": "ipython",
    "version": 3
   },
   "file_extension": ".py",
   "mimetype": "text/x-python",
   "name": "python",
   "nbconvert_exporter": "python",
   "pygments_lexer": "ipython3",
   "version": "3.9.18"
  }
 },
 "nbformat": 4,
 "nbformat_minor": 5
}
