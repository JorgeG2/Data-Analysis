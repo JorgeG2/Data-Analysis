{
 "cells": [
  {
   "cell_type": "markdown",
   "id": "17a6d8e7-995a-4498-ad3e-4246f84f40b3",
   "metadata": {},
   "source": [
    "# Airport"
   ]
  },
  {
   "cell_type": "code",
   "execution_count": 1,
   "id": "2b647c36-f35e-4a1d-86c2-dab343996fde",
   "metadata": {},
   "outputs": [
    {
     "name": "stderr",
     "output_type": "stream",
     "text": [
      "/var/folders/bb/q1_d_djj4rz129pq4pvmzcx80000gn/T/ipykernel_36236/299627890.py:1: DeprecationWarning: \n",
      "Pyarrow will become a required dependency of pandas in the next major release of pandas (pandas 3.0),\n",
      "(to allow more performant data types, such as the Arrow string type, and better interoperability with other libraries)\n",
      "but was not found to be installed on your system.\n",
      "If this would cause problems for you,\n",
      "please provide us feedback at https://github.com/pandas-dev/pandas/issues/54466\n",
      "        \n",
      "  import pandas as pd\n"
     ]
    }
   ],
   "source": [
    "import pandas as pd\n",
    "import numpy as np\n",
    "import seaborn as sns\n",
    "import matplotlib.pyplot as plt\n",
    "import warnings\n",
    "warnings.filterwarnings('ignore', message='.*Pyarrow.*')"
   ]
  },
  {
   "cell_type": "markdown",
   "id": "dbc2ee95-eee6-4c2d-bc0c-f0c039736789",
   "metadata": {},
   "source": [
    "## Scenario \n",
    "You are an analyst employed by the U.S. Transportation Security Administration (TSA). Your\n",
    "boss has asked you to produce a report that answers the following questions about insurance\n",
    "claims against airports in the U.S."
   ]
  },
  {
   "cell_type": "code",
   "execution_count": 2,
   "id": "4b21ae21-9047-44ac-8aee-7290c9518b15",
   "metadata": {},
   "outputs": [],
   "source": [
    "my_file = 'tsa_claims1.csv'\n",
    "df = pd.read_csv(my_file, low_memory=False)\n"
   ]
  },
  {
   "cell_type": "code",
   "execution_count": 3,
   "id": "d0abf3c0-5453-4215-a92b-725b8f0e32c2",
   "metadata": {},
   "outputs": [],
   "source": [
    "# ensures the columns are of string type\n",
    "df['Claim Amount'] = df['Claim Amount'].astype(str)\n",
    "df['Close Amount'] = df['Close Amount'].astype(str)\n",
    "\n",
    "# replaces any non-digit and non-decimal point characters with an empty string\n",
    "df['Claim Amount'] = df['Claim Amount'].str.replace('[^\\d.]', '', regex=True)\n",
    "df['Close Amount'] = df['Close Amount'].str.replace('[^\\d.]', '', regex=True)\n",
    "\n",
    "# converts these columns to numeric type, coercing any non-convertible values to NaN\n",
    "df['Claim Amount'] = pd.to_numeric(df['Claim Amount'], errors='coerce')\n",
    "df['Close Amount'] = pd.to_numeric(df['Close Amount'], errors='coerce')\n",
    "\n",
    "# If NaN values were introduced due to non-numeric data, you can decide how to handle them\n",
    "# For example, you might fill them with 0 or some other appropriate value\n",
    "df['Claim Amount'] = df['Claim Amount'].fillna(0)\n",
    "df['Close Amount'] = df['Close Amount'].fillna(0)"
   ]
  },
  {
   "cell_type": "markdown",
   "id": "ea525d16-ff19-4d3d-8cf4-69172e3c5f33",
   "metadata": {},
   "source": [
    "# Data Cleaning"
   ]
  },
  {
   "cell_type": "code",
   "execution_count": 18,
   "id": "a7beb7ee-1b0c-4f10-8fe0-3b4d049b3b89",
   "metadata": {},
   "outputs": [
    {
     "ename": "AttributeError",
     "evalue": "module 'pandas' has no attribute 'dropna'",
     "output_type": "error",
     "traceback": [
      "\u001b[0;31m---------------------------------------------------------------------------\u001b[0m",
      "\u001b[0;31mAttributeError\u001b[0m                            Traceback (most recent call last)",
      "Cell \u001b[0;32mIn[18], line 3\u001b[0m\n\u001b[1;32m      1\u001b[0m df[\u001b[38;5;124m'\u001b[39m\u001b[38;5;124mDate Received\u001b[39m\u001b[38;5;124m'\u001b[39m] \u001b[38;5;241m=\u001b[39m pd\u001b[38;5;241m.\u001b[39mto_datetime(df[\u001b[38;5;124m'\u001b[39m\u001b[38;5;124mDate Received\u001b[39m\u001b[38;5;124m'\u001b[39m], errors\u001b[38;5;241m=\u001b[39m\u001b[38;5;124m'\u001b[39m\u001b[38;5;124mcoerce\u001b[39m\u001b[38;5;124m'\u001b[39m, \u001b[38;5;28mformat\u001b[39m\u001b[38;5;241m=\u001b[39m\u001b[38;5;124m'\u001b[39m\u001b[38;5;132;01m%d\u001b[39;00m\u001b[38;5;124m-\u001b[39m\u001b[38;5;124m%\u001b[39m\u001b[38;5;124mb-\u001b[39m\u001b[38;5;124m%\u001b[39m\u001b[38;5;124my\u001b[39m\u001b[38;5;124m'\u001b[39m)\n\u001b[1;32m      2\u001b[0m df[\u001b[38;5;124m'\u001b[39m\u001b[38;5;124mIncident Date\u001b[39m\u001b[38;5;124m'\u001b[39m] \u001b[38;5;241m=\u001b[39m pd\u001b[38;5;241m.\u001b[39mto_datetime(df[\u001b[38;5;124m'\u001b[39m\u001b[38;5;124mIncident Date\u001b[39m\u001b[38;5;124m'\u001b[39m], errors\u001b[38;5;241m=\u001b[39m\u001b[38;5;124m'\u001b[39m\u001b[38;5;124mcoerce\u001b[39m\u001b[38;5;124m'\u001b[39m, \u001b[38;5;28mformat\u001b[39m\u001b[38;5;241m=\u001b[39m\u001b[38;5;124m'\u001b[39m\u001b[38;5;132;01m%d\u001b[39;00m\u001b[38;5;124m-\u001b[39m\u001b[38;5;124m%\u001b[39m\u001b[38;5;124mb-\u001b[39m\u001b[38;5;124m%\u001b[39m\u001b[38;5;124my\u001b[39m\u001b[38;5;124m'\u001b[39m)\n\u001b[0;32m----> 3\u001b[0m df[\u001b[38;5;124m'\u001b[39m\u001b[38;5;124mIncident Date\u001b[39m\u001b[38;5;124m'\u001b[39m] \u001b[38;5;241m=\u001b[39m \u001b[43mpd\u001b[49m\u001b[38;5;241;43m.\u001b[39;49m\u001b[43mdropna\u001b[49m()\n\u001b[1;32m      6\u001b[0m \u001b[38;5;66;03m# Ensure the 'Claim Amount' and 'Close Amount' are treated as strings and clean them\u001b[39;00m\n\u001b[1;32m      7\u001b[0m df[\u001b[38;5;124m'\u001b[39m\u001b[38;5;124mClaim Amount\u001b[39m\u001b[38;5;124m'\u001b[39m] \u001b[38;5;241m=\u001b[39m df[\u001b[38;5;124m'\u001b[39m\u001b[38;5;124mClaim Amount\u001b[39m\u001b[38;5;124m'\u001b[39m]\u001b[38;5;241m.\u001b[39mastype(\u001b[38;5;28mstr\u001b[39m)\u001b[38;5;241m.\u001b[39mstr\u001b[38;5;241m.\u001b[39mreplace(\u001b[38;5;124m'\u001b[39m\u001b[38;5;124m[^\u001b[39m\u001b[38;5;124m\\\u001b[39m\u001b[38;5;124md.]\u001b[39m\u001b[38;5;124m'\u001b[39m, \u001b[38;5;124m'\u001b[39m\u001b[38;5;124m'\u001b[39m, regex\u001b[38;5;241m=\u001b[39m\u001b[38;5;28;01mTrue\u001b[39;00m)\n",
      "\u001b[0;31mAttributeError\u001b[0m: module 'pandas' has no attribute 'dropna'"
     ]
    }
   ],
   "source": [
    "df['Date Received'] = pd.to_datetime(df['Date Received'], errors='coerce', format='%d-%b-%y')\n",
    "df['Incident Date'] = pd.to_datetime(df['Incident Date'], errors='coerce', format='%d-%b-%y')\n",
    "\n",
    "# Drop rows where 'Incident Date' is NaN\n",
    "df.dropna(subset=['Incident Date'], inplace=True)\n",
    "\n",
    "# Ensure the 'Claim Amount' and 'Close Amount' are treated as strings and clean them\n",
    "df['Claim Amount'] = df['Claim Amount'].astype(str).str.replace('[^\\d.]', '', regex=True)\n",
    "df['Close Amount'] = df['Close Amount'].astype(str).str.replace('[^\\d.]', '', regex=True)\n",
    "\n",
    "# Convert cleaned string columns to numeric\n",
    "df['Claim Amount'] = pd.to_numeric(df['Claim Amount'], errors='coerce')\n",
    "df['Close Amount'] = pd.to_numeric(df['Close Amount'], errors='coerce')\n",
    "\n",
    "# Fill NaN values resulted from the conversion with 0\n",
    "df['Claim Amount'] = df['Claim Amount'].fillna(0)\n",
    "df['Close Amount'] = df['Close Amount'].fillna(0)\n",
    "\n",
    "df.dropna()\n",
    "\n",
    "# Remove duplicates based on 'Claim Number'\n",
    "df = df.drop_duplicates(subset=['Claim Number'])"
   ]
  },
  {
   "cell_type": "markdown",
   "id": "4a968026-ef86-4c14-8b7e-e9c99970482f",
   "metadata": {},
   "source": [
    "now we finished making an extensive cleaning of the data so that we can use  "
   ]
  },
  {
   "cell_type": "code",
   "execution_count": 17,
   "id": "1b562e6c-b355-4d84-ae0e-c4ca6934c253",
   "metadata": {},
   "outputs": [
    {
     "data": {
      "text/plain": [
       "Claim Number         0\n",
       "Date Received        0\n",
       "Incident Date    94848\n",
       "Airport Code         0\n",
       "Airport Name         0\n",
       "Airline Name         0\n",
       "Claim Type           0\n",
       "Claim Site           0\n",
       "Item                 0\n",
       "Claim Amount         0\n",
       "Status               0\n",
       "Close Amount         0\n",
       "Disposition          0\n",
       "dtype: int64"
      ]
     },
     "execution_count": 17,
     "metadata": {},
     "output_type": "execute_result"
    }
   ],
   "source": [
    "df.isnull().sum()"
   ]
  },
  {
   "cell_type": "markdown",
   "id": "944e8f95-fff3-4639-be07-f58e5fc07789",
   "metadata": {},
   "source": [
    "## Questions "
   ]
  },
  {
   "cell_type": "markdown",
   "id": "dcf54625-01e3-4a94-ab94-1e3bc471b1e6",
   "metadata": {},
   "source": [
    "### 1. What is the most common type of insurance claim?"
   ]
  },
  {
   "cell_type": "code",
   "execution_count": 5,
   "id": "d1a1f796-8634-4572-8568-cd404014190d",
   "metadata": {},
   "outputs": [
    {
     "data": {
      "text/html": [
       "<div>\n",
       "<style scoped>\n",
       "    .dataframe tbody tr th:only-of-type {\n",
       "        vertical-align: middle;\n",
       "    }\n",
       "\n",
       "    .dataframe tbody tr th {\n",
       "        vertical-align: top;\n",
       "    }\n",
       "\n",
       "    .dataframe thead th {\n",
       "        text-align: right;\n",
       "    }\n",
       "</style>\n",
       "<table border=\"1\" class=\"dataframe\">\n",
       "  <thead>\n",
       "    <tr style=\"text-align: right;\">\n",
       "      <th></th>\n",
       "      <th>Claim Type</th>\n",
       "      <th>Count</th>\n",
       "    </tr>\n",
       "  </thead>\n",
       "  <tbody>\n",
       "    <tr>\n",
       "      <th>0</th>\n",
       "      <td>Passenger Property Loss</td>\n",
       "      <td>60265</td>\n",
       "    </tr>\n",
       "    <tr>\n",
       "      <th>1</th>\n",
       "      <td>Property Damage</td>\n",
       "      <td>33730</td>\n",
       "    </tr>\n",
       "    <tr>\n",
       "      <th>2</th>\n",
       "      <td>Passenger Theft</td>\n",
       "      <td>331</td>\n",
       "    </tr>\n",
       "    <tr>\n",
       "      <th>3</th>\n",
       "      <td>Employee Loss (MPCECA)</td>\n",
       "      <td>308</td>\n",
       "    </tr>\n",
       "    <tr>\n",
       "      <th>4</th>\n",
       "      <td>Personal Injury</td>\n",
       "      <td>208</td>\n",
       "    </tr>\n",
       "    <tr>\n",
       "      <th>5</th>\n",
       "      <td>Motor Vehicle</td>\n",
       "      <td>6</td>\n",
       "    </tr>\n",
       "  </tbody>\n",
       "</table>\n",
       "</div>"
      ],
      "text/plain": [
       "                Claim Type  Count\n",
       "0  Passenger Property Loss  60265\n",
       "1          Property Damage  33730\n",
       "2          Passenger Theft    331\n",
       "3   Employee Loss (MPCECA)    308\n",
       "4          Personal Injury    208\n",
       "5            Motor Vehicle      6"
      ]
     },
     "execution_count": 5,
     "metadata": {},
     "output_type": "execute_result"
    }
   ],
   "source": [
    "claim_type_counts = df['Claim Type'].value_counts().reset_index()\n",
    "claim_type_counts.columns = ['Claim Type', 'Count']\n",
    "\n",
    "claim_type_counts\n"
   ]
  },
  {
   "cell_type": "markdown",
   "id": "ee8350e8-694a-4d7c-8f9e-b294c1bbd820",
   "metadata": {},
   "source": [
    "From what we can see the most common type of insurance claim is 'Passenger Property Loss' with 60,265 claims"
   ]
  },
  {
   "cell_type": "markdown",
   "id": "9d2cdbbb-d389-4aa9-992a-9af51a8f29d6",
   "metadata": {},
   "source": [
    "## 2. Which claim site within the airport are claims most commonly filed for?"
   ]
  },
  {
   "cell_type": "code",
   "execution_count": 6,
   "id": "edc633bb-e44f-476a-ae74-893edc026175",
   "metadata": {},
   "outputs": [
    {
     "data": {
      "text/html": [
       "<div>\n",
       "<style scoped>\n",
       "    .dataframe tbody tr th:only-of-type {\n",
       "        vertical-align: middle;\n",
       "    }\n",
       "\n",
       "    .dataframe tbody tr th {\n",
       "        vertical-align: top;\n",
       "    }\n",
       "\n",
       "    .dataframe thead th {\n",
       "        text-align: right;\n",
       "    }\n",
       "</style>\n",
       "<table border=\"1\" class=\"dataframe\">\n",
       "  <thead>\n",
       "    <tr style=\"text-align: right;\">\n",
       "      <th></th>\n",
       "      <th>Claim Site</th>\n",
       "      <th>Count</th>\n",
       "    </tr>\n",
       "  </thead>\n",
       "  <tbody>\n",
       "    <tr>\n",
       "      <th>0</th>\n",
       "      <td>Checked Baggage</td>\n",
       "      <td>80553</td>\n",
       "    </tr>\n",
       "    <tr>\n",
       "      <th>1</th>\n",
       "      <td>Checkpoint</td>\n",
       "      <td>14013</td>\n",
       "    </tr>\n",
       "    <tr>\n",
       "      <th>2</th>\n",
       "      <td>Other</td>\n",
       "      <td>280</td>\n",
       "    </tr>\n",
       "    <tr>\n",
       "      <th>3</th>\n",
       "      <td>Motor Vehicle</td>\n",
       "      <td>2</td>\n",
       "    </tr>\n",
       "  </tbody>\n",
       "</table>\n",
       "</div>"
      ],
      "text/plain": [
       "        Claim Site  Count\n",
       "0  Checked Baggage  80553\n",
       "1       Checkpoint  14013\n",
       "2            Other    280\n",
       "3    Motor Vehicle      2"
      ]
     },
     "execution_count": 6,
     "metadata": {},
     "output_type": "execute_result"
    }
   ],
   "source": [
    "claim_site_counts = df['Claim Site'].value_counts().reset_index()\n",
    "claim_site_counts.columns = ['Claim Site', 'Count']\n",
    "\n",
    "claim_site_counts\n"
   ]
  },
  {
   "cell_type": "markdown",
   "id": "44b2e163-6323-4a29-8770-04ef71b94dea",
   "metadata": {},
   "source": [
    "the claim site most commonly filed for are in the Checked Baggage site with 80,553 followed by Checkpoint"
   ]
  },
  {
   "cell_type": "markdown",
   "id": "25c3b24c-4d3b-4bab-83d8-242745aabf63",
   "metadata": {},
   "source": [
    "## 3. What type of claim is made most at each claim site?"
   ]
  },
  {
   "cell_type": "code",
   "execution_count": 7,
   "id": "a2d13a8b-6c6f-4150-8b17-c29f85503625",
   "metadata": {},
   "outputs": [
    {
     "name": "stdout",
     "output_type": "stream",
     "text": [
      "                              Claim Type\n",
      "Claim Site                              \n",
      "Checked Baggage  Passenger Property Loss\n",
      "Checkpoint               Property Damage\n",
      "Motor Vehicle    Passenger Property Loss\n",
      "Other            Passenger Property Loss\n"
     ]
    }
   ],
   "source": [
    "most_common_claims_by_site_alternative = df.groupby('Claim Site')['Claim Type'].agg(pd.Series.mode).to_frame()\n",
    "\n",
    "\n",
    "# Display the most common claim types by site\n",
    "print(most_common_claims_by_site_alternative)"
   ]
  },
  {
   "cell_type": "markdown",
   "id": "3d07b794-aba8-4ea0-9ae8-17950eb6ce17",
   "metadata": {},
   "source": [
    "most common claim at checked baggage is Passenger Property Loss, for checkpoint its Property Damage, for Motor Vehicle its Passenger Property Loss and for other its Passenger Property Loss"
   ]
  },
  {
   "cell_type": "markdown",
   "id": "221c8ea2-dd2e-4f88-a9e7-210be3441c77",
   "metadata": {},
   "source": [
    "## 4. What is the typical claim amount?"
   ]
  },
  {
   "cell_type": "code",
   "execution_count": 13,
   "id": "9476368f-162a-4b3e-a228-7210ae9ca573",
   "metadata": {},
   "outputs": [
    {
     "name": "stdout",
     "output_type": "stream",
     "text": [
      "Statistic  Claim Amount\n",
      "     Mean       3634.83\n"
     ]
    }
   ],
   "source": [
    "# Calculate additional statistics for comparison\n",
    "mean_claim_amount = df['Claim Amount'].mean()\n",
    "\n",
    "# Round the calculated values to two decimal places\n",
    "mean_claim_amount = round(mean_claim_amount, 2)\n",
    "\n",
    "# Creates a DataFrame to display the calculated statistics as a table\n",
    "claim_amount_statistics_table = pd.DataFrame({\n",
    "    \"Statistic\": [\"Mean\"],\n",
    "    \"Claim Amount\": [mean_claim_amount]\n",
    "})\n",
    "table_string = claim_amount_statistics_table.to_string(index=False)\n",
    "\n",
    "print(table_string)\n"
   ]
  },
  {
   "cell_type": "markdown",
   "id": "410d1460-81b4-40de-8ec1-1af0e0a9992d",
   "metadata": {},
   "source": [
    "as we can see the typical or mean is $3634.83"
   ]
  },
  {
   "cell_type": "markdown",
   "id": "d26088b0-db28-4f06-a5a1-065b4b2c9bc8",
   "metadata": {},
   "source": [
    "### 5. What is the overall claim approval rate for the entire U.S.?"
   ]
  },
  {
   "cell_type": "code",
   "execution_count": 12,
   "id": "79ecee42-f650-4d44-b95e-96c7c1e884b5",
   "metadata": {},
   "outputs": [
    {
     "name": "stdout",
     "output_type": "stream",
     "text": [
      "       Status  Number of Claims  Approval Rate (%)\n",
      "0    Approved             23167              24.43\n",
      "1  Unapproved             71681              75.57\n"
     ]
    }
   ],
   "source": [
    "\n",
    "# Calculate the number of approved and unapproved claims\n",
    "approved_claims = len(df[df['Status'] == 'Approved'])\n",
    "unapproved_claims = len(df[df['Status'] != 'Approved'])\n",
    "\n",
    "# Calculate the total number of claims\n",
    "total_claims = len(df)\n",
    "\n",
    "# Calculate the approval rate\n",
    "approval_rate = round((approved_claims / total_claims) * 100, 2)\n",
    "\n",
    "approval_table = pd.DataFrame({\n",
    "    \"Status\": [\"Approved\", \"Unapproved\"],\n",
    "    \"Number of Claims\": [approved_claims, unapproved_claims],\n",
    "    \"Approval Rate (%)\": [approval_rate, 100 - approval_rate]\n",
    "})\n",
    "\n",
    "print(approval_table)\n"
   ]
  },
  {
   "cell_type": "markdown",
   "id": "387de4fe-b8fc-4fcb-b588-33d4a9cb0d45",
   "metadata": {},
   "source": [
    "overall approval rate is 24.43% this is after data cleaning for "
   ]
  }
 ],
 "metadata": {
  "kernelspec": {
   "display_name": "Python 3 (ipykernel)",
   "language": "python",
   "name": "python3"
  },
  "language_info": {
   "codemirror_mode": {
    "name": "ipython",
    "version": 3
   },
   "file_extension": ".py",
   "mimetype": "text/x-python",
   "name": "python",
   "nbconvert_exporter": "python",
   "pygments_lexer": "ipython3",
   "version": "3.11.5"
  }
 },
 "nbformat": 4,
 "nbformat_minor": 5
}
