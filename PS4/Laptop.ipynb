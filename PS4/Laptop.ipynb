{
 "cells": [
  {
   "cell_type": "code",
   "execution_count": 1,
   "id": "b3c8fcc4-d58c-4429-9ed6-ec991b3db3cc",
   "metadata": {},
   "outputs": [
    {
     "name": "stderr",
     "output_type": "stream",
     "text": [
      "/var/folders/bb/q1_d_djj4rz129pq4pvmzcx80000gn/T/ipykernel_36005/299627890.py:1: DeprecationWarning: \n",
      "Pyarrow will become a required dependency of pandas in the next major release of pandas (pandas 3.0),\n",
      "(to allow more performant data types, such as the Arrow string type, and better interoperability with other libraries)\n",
      "but was not found to be installed on your system.\n",
      "If this would cause problems for you,\n",
      "please provide us feedback at https://github.com/pandas-dev/pandas/issues/54466\n",
      "        \n",
      "  import pandas as pd\n"
     ]
    }
   ],
   "source": [
    "import pandas as pd\n",
    "import numpy as np\n",
    "import seaborn as sns\n",
    "import matplotlib.pyplot as plt\n",
    "import warnings\n",
    "warnings.filterwarnings('ignore', message='.*Pyarrow.*')"
   ]
  },
  {
   "cell_type": "markdown",
   "id": "2dd6ba4b-b4e5-485c-9145-ff8f5c8f1864",
   "metadata": {},
   "source": [
    "## Questions"
   ]
  },
  {
   "cell_type": "code",
   "execution_count": 2,
   "id": "c1a392d0-70de-4351-a0b5-726b5f7d8402",
   "metadata": {},
   "outputs": [],
   "source": [
    "my_file = 'laptop.csv'\n",
    "df = pd.read_csv(my_file, low_memory=False)"
   ]
  },
  {
   "cell_type": "code",
   "execution_count": 3,
   "id": "72bd6ac6-7dd9-4053-b136-12cea16c79c3",
   "metadata": {},
   "outputs": [],
   "source": [
    "# Clean 'discount_price' and 'old_price' by removing non-numeric characters\n",
    "df['discount_price'] = df['discount_price'].astype(str).str.replace('[^\\d.]', '', regex=True)\n",
    "df['old_price'] = df['old_price'].astype(str).str.replace('[^\\d.]', '', regex=True)\n",
    "\n",
    "# Convert the cleaned string columns to numeric, handling non-convertible values by setting them to NaN\n",
    "df['discount_price'] = pd.to_numeric(df['discount_price'], errors='coerce')\n",
    "df['old_price'] = pd.to_numeric(df['old_price'], errors='coerce')\n",
    "\n",
    "df['discount_price'] = df['discount_price'].fillna(0)\n",
    "df['old_price'] = df['old_price'].fillna(0)\n",
    "\n",
    "\n",
    "# Remove duplicates based on 'laptop_name' or another unique identifier\n",
    "df = df.drop_duplicates(subset=['laptop_name'])\n",
    "\n",
    "# Saves the cleaned dataset to a new file \n",
    "cleaned_file_path = 'laptop.csv'  \n",
    "df.to_csv(cleaned_file_path, index=False)"
   ]
  },
  {
   "cell_type": "markdown",
   "id": "05e568b3-526e-430d-bd18-2c6ac670140b",
   "metadata": {},
   "source": [
    "### 1. How many different laptop brands are there?"
   ]
  },
  {
   "cell_type": "code",
   "execution_count": 4,
   "id": "35c98c9e-d1d6-44d6-bd71-70dace2054de",
   "metadata": {},
   "outputs": [
    {
     "data": {
      "text/html": [
       "<div>\n",
       "<style scoped>\n",
       "    .dataframe tbody tr th:only-of-type {\n",
       "        vertical-align: middle;\n",
       "    }\n",
       "\n",
       "    .dataframe tbody tr th {\n",
       "        vertical-align: top;\n",
       "    }\n",
       "\n",
       "    .dataframe thead th {\n",
       "        text-align: right;\n",
       "    }\n",
       "</style>\n",
       "<table border=\"1\" class=\"dataframe\">\n",
       "  <thead>\n",
       "    <tr style=\"text-align: right;\">\n",
       "      <th></th>\n",
       "      <th>Unique Laptop Brands</th>\n",
       "    </tr>\n",
       "  </thead>\n",
       "  <tbody>\n",
       "    <tr>\n",
       "      <th>0</th>\n",
       "      <td>HP</td>\n",
       "    </tr>\n",
       "    <tr>\n",
       "      <th>1</th>\n",
       "      <td>Lenovo</td>\n",
       "    </tr>\n",
       "    <tr>\n",
       "      <th>2</th>\n",
       "      <td>Huawei</td>\n",
       "    </tr>\n",
       "    <tr>\n",
       "      <th>3</th>\n",
       "      <td>Dell</td>\n",
       "    </tr>\n",
       "    <tr>\n",
       "      <th>4</th>\n",
       "      <td>Asus</td>\n",
       "    </tr>\n",
       "    <tr>\n",
       "      <th>5</th>\n",
       "      <td>Apple</td>\n",
       "    </tr>\n",
       "    <tr>\n",
       "      <th>6</th>\n",
       "      <td>Acer</td>\n",
       "    </tr>\n",
       "    <tr>\n",
       "      <th>7</th>\n",
       "      <td>Microsoft</td>\n",
       "    </tr>\n",
       "    <tr>\n",
       "      <th>8</th>\n",
       "      <td>MSI</td>\n",
       "    </tr>\n",
       "  </tbody>\n",
       "</table>\n",
       "</div>"
      ],
      "text/plain": [
       "  Unique Laptop Brands\n",
       "0                   HP\n",
       "1               Lenovo\n",
       "2               Huawei\n",
       "3                 Dell\n",
       "4                 Asus\n",
       "5                Apple\n",
       "6                 Acer\n",
       "7            Microsoft\n",
       "8                  MSI"
      ]
     },
     "execution_count": 4,
     "metadata": {},
     "output_type": "execute_result"
    }
   ],
   "source": [
    "unique_brands = df['brand'].unique()\n",
    "unique_brands_df = pd.DataFrame(unique_brands, columns=['Unique Laptop Brands'])\n",
    "unique_brands_df"
   ]
  },
  {
   "cell_type": "markdown",
   "id": "281ce57e-5a76-442f-8e57-6ec67efdc43f",
   "metadata": {},
   "source": [
    "0-8 are all of the unique laptop brands "
   ]
  },
  {
   "cell_type": "markdown",
   "id": "3fc77b31-0df3-4209-8807-8b0fd37e17f3",
   "metadata": {},
   "source": [
    "### 2. What are the names and prices of the most and least expensive laptops?"
   ]
  },
  {
   "cell_type": "code",
   "execution_count": 5,
   "id": "ea0514d3-df8e-4dc6-a015-fd4a7b4ba747",
   "metadata": {},
   "outputs": [
    {
     "data": {
      "text/html": [
       "<div>\n",
       "<style scoped>\n",
       "    .dataframe tbody tr th:only-of-type {\n",
       "        vertical-align: middle;\n",
       "    }\n",
       "\n",
       "    .dataframe tbody tr th {\n",
       "        vertical-align: top;\n",
       "    }\n",
       "\n",
       "    .dataframe thead th {\n",
       "        text-align: right;\n",
       "    }\n",
       "</style>\n",
       "<table border=\"1\" class=\"dataframe\">\n",
       "  <thead>\n",
       "    <tr style=\"text-align: right;\">\n",
       "      <th></th>\n",
       "      <th>Category</th>\n",
       "      <th>Laptop Name</th>\n",
       "      <th>Price</th>\n",
       "    </tr>\n",
       "  </thead>\n",
       "  <tbody>\n",
       "    <tr>\n",
       "      <th>0</th>\n",
       "      <td>Most Expensive (Discount Price)</td>\n",
       "      <td>MacBook Pro (Retina + Touch Bar)</td>\n",
       "      <td>9099.0</td>\n",
       "    </tr>\n",
       "    <tr>\n",
       "      <th>1</th>\n",
       "      <td>Most Expensive (Old Price)</td>\n",
       "      <td>MacBook Pro (Retina + Touch Bar)</td>\n",
       "      <td>10199.0</td>\n",
       "    </tr>\n",
       "    <tr>\n",
       "      <th>2</th>\n",
       "      <td>Least Expensive (Discount Price)</td>\n",
       "      <td>IdeaPad S130-14IGM</td>\n",
       "      <td>899.0</td>\n",
       "    </tr>\n",
       "    <tr>\n",
       "      <th>3</th>\n",
       "      <td>Least Expensive (Old Price)</td>\n",
       "      <td>Aspire 1 A114-31-C6WP</td>\n",
       "      <td>999.0</td>\n",
       "    </tr>\n",
       "  </tbody>\n",
       "</table>\n",
       "</div>"
      ],
      "text/plain": [
       "                           Category                       Laptop Name    Price\n",
       "0   Most Expensive (Discount Price)  MacBook Pro (Retina + Touch Bar)   9099.0\n",
       "1        Most Expensive (Old Price)  MacBook Pro (Retina + Touch Bar)  10199.0\n",
       "2  Least Expensive (Discount Price)                IdeaPad S130-14IGM    899.0\n",
       "3       Least Expensive (Old Price)             Aspire 1 A114-31-C6WP    999.0"
      ]
     },
     "execution_count": 5,
     "metadata": {},
     "output_type": "execute_result"
    }
   ],
   "source": [
    "# Most expensive based on discount price\n",
    "most_expensive_discount = df.loc[df['discount_price'].idxmax(), ['laptop_name', 'discount_price']]\n",
    "\n",
    "# Most expensive based on old price\n",
    "most_expensive_old = df.loc[df['old_price'].idxmax(), ['laptop_name', 'old_price']]\n",
    "\n",
    "# Least expensive based on discount price\n",
    "least_expensive_discount = df.loc[df['discount_price'].idxmin(), ['laptop_name', 'discount_price']]\n",
    "\n",
    "# Least expensive based on old price\n",
    "least_expensive_old = df.loc[df['old_price'].idxmin(), ['laptop_name', 'old_price']]\n",
    "\n",
    "\n",
    "summary_df = pd.DataFrame({\n",
    "    'Category': ['Most Expensive (Discount Price)', 'Most Expensive (Old Price)', \n",
    "                 'Least Expensive (Discount Price)', 'Least Expensive (Old Price)'],\n",
    "    'Laptop Name': [most_expensive_discount.laptop_name, most_expensive_old.laptop_name, \n",
    "                    least_expensive_discount.laptop_name, least_expensive_old.laptop_name],\n",
    "    'Price': [most_expensive_discount.discount_price, most_expensive_old.old_price, \n",
    "              least_expensive_discount.discount_price, least_expensive_old.old_price]\n",
    "})\n",
    "summary_df"
   ]
  },
  {
   "cell_type": "markdown",
   "id": "7bfee478-90d5-418b-a1f5-2892877339db",
   "metadata": {},
   "source": [
    "i found least expensive and most expensive for both discounted prince and old price "
   ]
  },
  {
   "cell_type": "markdown",
   "id": "6febc89f-b33d-474e-b316-4445ac5f5f26",
   "metadata": {},
   "source": [
    "### 3. How are laptop prices distributed?\n"
   ]
  },
  {
   "cell_type": "code",
   "execution_count": 9,
   "id": "f7394f1c-346f-46c6-99a3-f08f7e84f543",
   "metadata": {},
   "outputs": [
    {
     "data": {
      "text/html": [
       "<div>\n",
       "<style scoped>\n",
       "    .dataframe tbody tr th:only-of-type {\n",
       "        vertical-align: middle;\n",
       "    }\n",
       "\n",
       "    .dataframe tbody tr th {\n",
       "        vertical-align: top;\n",
       "    }\n",
       "\n",
       "    .dataframe thead th {\n",
       "        text-align: right;\n",
       "    }\n",
       "</style>\n",
       "<table border=\"1\" class=\"dataframe\">\n",
       "  <thead>\n",
       "    <tr style=\"text-align: right;\">\n",
       "      <th></th>\n",
       "      <th>discount_price</th>\n",
       "    </tr>\n",
       "  </thead>\n",
       "  <tbody>\n",
       "    <tr>\n",
       "      <th>count</th>\n",
       "      <td>135.00</td>\n",
       "    </tr>\n",
       "    <tr>\n",
       "      <th>mean</th>\n",
       "      <td>3244.95</td>\n",
       "    </tr>\n",
       "    <tr>\n",
       "      <th>std</th>\n",
       "      <td>1770.02</td>\n",
       "    </tr>\n",
       "    <tr>\n",
       "      <th>min</th>\n",
       "      <td>899.00</td>\n",
       "    </tr>\n",
       "    <tr>\n",
       "      <th>25%</th>\n",
       "      <td>1964.00</td>\n",
       "    </tr>\n",
       "    <tr>\n",
       "      <th>50%</th>\n",
       "      <td>2799.00</td>\n",
       "    </tr>\n",
       "    <tr>\n",
       "      <th>75%</th>\n",
       "      <td>3894.00</td>\n",
       "    </tr>\n",
       "    <tr>\n",
       "      <th>max</th>\n",
       "      <td>9099.00</td>\n",
       "    </tr>\n",
       "  </tbody>\n",
       "</table>\n",
       "</div>"
      ],
      "text/plain": [
       "       discount_price\n",
       "count          135.00\n",
       "mean          3244.95\n",
       "std           1770.02\n",
       "min            899.00\n",
       "25%           1964.00\n",
       "50%           2799.00\n",
       "75%           3894.00\n",
       "max           9099.00"
      ]
     },
     "execution_count": 9,
     "metadata": {},
     "output_type": "execute_result"
    }
   ],
   "source": [
    "price_stats = df['discount_price'].describe().round(2).to_frame()\n",
    "price_stats"
   ]
  },
  {
   "cell_type": "markdown",
   "id": "b0d6d6ab-70eb-46aa-9b9d-1f195de313a0",
   "metadata": {},
   "source": [
    "### 4. What are the min, max, and mean display sizes?"
   ]
  },
  {
   "cell_type": "code",
   "execution_count": 10,
   "id": "20d8e762-aec7-40bb-81ab-2085881c61c0",
   "metadata": {},
   "outputs": [
    {
     "data": {
      "text/html": [
       "<div>\n",
       "<style scoped>\n",
       "    .dataframe tbody tr th:only-of-type {\n",
       "        vertical-align: middle;\n",
       "    }\n",
       "\n",
       "    .dataframe tbody tr th {\n",
       "        vertical-align: top;\n",
       "    }\n",
       "\n",
       "    .dataframe thead th {\n",
       "        text-align: right;\n",
       "    }\n",
       "</style>\n",
       "<table border=\"1\" class=\"dataframe\">\n",
       "  <thead>\n",
       "    <tr style=\"text-align: right;\">\n",
       "      <th></th>\n",
       "      <th>display_size</th>\n",
       "    </tr>\n",
       "  </thead>\n",
       "  <tbody>\n",
       "    <tr>\n",
       "      <th>min</th>\n",
       "      <td>12.00</td>\n",
       "    </tr>\n",
       "    <tr>\n",
       "      <th>max</th>\n",
       "      <td>18.40</td>\n",
       "    </tr>\n",
       "    <tr>\n",
       "      <th>mean</th>\n",
       "      <td>14.77</td>\n",
       "    </tr>\n",
       "  </tbody>\n",
       "</table>\n",
       "</div>"
      ],
      "text/plain": [
       "      display_size\n",
       "min          12.00\n",
       "max          18.40\n",
       "mean         14.77"
      ]
     },
     "execution_count": 10,
     "metadata": {},
     "output_type": "execute_result"
    }
   ],
   "source": [
    "display_size_stats = df['display_size'].agg(['min', 'max', 'mean']).round(2).to_frame()\n",
    "display_size_stats"
   ]
  },
  {
   "cell_type": "markdown",
   "id": "bc4add5b-80ca-468b-8c5a-46f9b834e350",
   "metadata": {},
   "source": [
    "This is what the min,max and mean were after rounding for display size "
   ]
  },
  {
   "cell_type": "markdown",
   "id": "4c23198d-b564-44c7-975f-a417c0f3875c",
   "metadata": {},
   "source": [
    "### 5. What is the average price for each brand?"
   ]
  },
  {
   "cell_type": "code",
   "execution_count": 11,
   "id": "46edc3a1-0c03-4c86-8d32-03a0ef167117",
   "metadata": {},
   "outputs": [
    {
     "data": {
      "text/html": [
       "<div>\n",
       "<style scoped>\n",
       "    .dataframe tbody tr th:only-of-type {\n",
       "        vertical-align: middle;\n",
       "    }\n",
       "\n",
       "    .dataframe tbody tr th {\n",
       "        vertical-align: top;\n",
       "    }\n",
       "\n",
       "    .dataframe thead th {\n",
       "        text-align: right;\n",
       "    }\n",
       "</style>\n",
       "<table border=\"1\" class=\"dataframe\">\n",
       "  <thead>\n",
       "    <tr style=\"text-align: right;\">\n",
       "      <th></th>\n",
       "      <th>Brand</th>\n",
       "      <th>Average Price</th>\n",
       "    </tr>\n",
       "  </thead>\n",
       "  <tbody>\n",
       "    <tr>\n",
       "      <th>0</th>\n",
       "      <td>Acer</td>\n",
       "      <td>2608.43</td>\n",
       "    </tr>\n",
       "    <tr>\n",
       "      <th>1</th>\n",
       "      <td>Apple</td>\n",
       "      <td>5617.00</td>\n",
       "    </tr>\n",
       "    <tr>\n",
       "      <th>2</th>\n",
       "      <td>Asus</td>\n",
       "      <td>3028.52</td>\n",
       "    </tr>\n",
       "    <tr>\n",
       "      <th>3</th>\n",
       "      <td>Dell</td>\n",
       "      <td>3688.65</td>\n",
       "    </tr>\n",
       "    <tr>\n",
       "      <th>4</th>\n",
       "      <td>HP</td>\n",
       "      <td>3226.92</td>\n",
       "    </tr>\n",
       "    <tr>\n",
       "      <th>5</th>\n",
       "      <td>Huawei</td>\n",
       "      <td>3861.50</td>\n",
       "    </tr>\n",
       "    <tr>\n",
       "      <th>6</th>\n",
       "      <td>Lenovo</td>\n",
       "      <td>2186.69</td>\n",
       "    </tr>\n",
       "    <tr>\n",
       "      <th>7</th>\n",
       "      <td>MSI</td>\n",
       "      <td>9071.00</td>\n",
       "    </tr>\n",
       "    <tr>\n",
       "      <th>8</th>\n",
       "      <td>Microsoft</td>\n",
       "      <td>4999.00</td>\n",
       "    </tr>\n",
       "  </tbody>\n",
       "</table>\n",
       "</div>"
      ],
      "text/plain": [
       "       Brand  Average Price\n",
       "0       Acer        2608.43\n",
       "1      Apple        5617.00\n",
       "2       Asus        3028.52\n",
       "3       Dell        3688.65\n",
       "4         HP        3226.92\n",
       "5     Huawei        3861.50\n",
       "6     Lenovo        2186.69\n",
       "7        MSI        9071.00\n",
       "8  Microsoft        4999.00"
      ]
     },
     "execution_count": 11,
     "metadata": {},
     "output_type": "execute_result"
    }
   ],
   "source": [
    "#in this data frame we will use discounted price for the average price \n",
    "average_price_per_brand = df.groupby('brand')['discount_price'].mean().round(2).reset_index()\n",
    "average_price_per_brand.columns = ['Brand', 'Average Price']\n",
    "average_price_per_brand\n",
    "df['display_size'] = df['display_size'].round(2)\n",
    "average_price_per_brand\n"
   ]
  }
 ],
 "metadata": {
  "kernelspec": {
   "display_name": "Python 3 (ipykernel)",
   "language": "python",
   "name": "python3"
  },
  "language_info": {
   "codemirror_mode": {
    "name": "ipython",
    "version": 3
   },
   "file_extension": ".py",
   "mimetype": "text/x-python",
   "name": "python",
   "nbconvert_exporter": "python",
   "pygments_lexer": "ipython3",
   "version": "3.11.5"
  }
 },
 "nbformat": 4,
 "nbformat_minor": 5
}
