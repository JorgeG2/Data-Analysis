{
 "cells": [
  {
   "cell_type": "markdown",
   "id": "5fc2af72-526b-4486-a2d9-177a53dfa7bb",
   "metadata": {},
   "source": [
    "# Ramen"
   ]
  },
  {
   "cell_type": "markdown",
   "id": "173ded0a-d8e8-4634-8f79-ccf580cae5c6",
   "metadata": {},
   "source": [
    "## Tasks"
   ]
  },
  {
   "cell_type": "markdown",
   "id": "4d51f509-4920-44dc-aa82-7543792efb21",
   "metadata": {},
   "source": [
    "### 1. Read the data from the CSV file into a DataFrame."
   ]
  },
  {
   "cell_type": "code",
   "execution_count": 1,
   "id": "55d39b40-ff71-44b3-984e-29d40f880081",
   "metadata": {},
   "outputs": [],
   "source": [
    "import pandas as pd\n",
    "ramen_file = 'ramen-ratings.csv'\n",
    "df = pd.read_csv(ramen_file)"
   ]
  },
  {
   "cell_type": "markdown",
   "id": "6e7c9a3a-f676-4e5c-9672-ee54b0d4bb85",
   "metadata": {},
   "source": [
    "### 2. Display the first five rows of data."
   ]
  },
  {
   "cell_type": "code",
   "execution_count": 2,
   "id": "d35809e4-754b-493e-9745-048cebc6ed8f",
   "metadata": {},
   "outputs": [
    {
     "data": {
      "text/html": [
       "<div>\n",
       "<style scoped>\n",
       "    .dataframe tbody tr th:only-of-type {\n",
       "        vertical-align: middle;\n",
       "    }\n",
       "\n",
       "    .dataframe tbody tr th {\n",
       "        vertical-align: top;\n",
       "    }\n",
       "\n",
       "    .dataframe thead th {\n",
       "        text-align: right;\n",
       "    }\n",
       "</style>\n",
       "<table border=\"1\" class=\"dataframe\">\n",
       "  <thead>\n",
       "    <tr style=\"text-align: right;\">\n",
       "      <th></th>\n",
       "      <th>Brand</th>\n",
       "      <th>Variety</th>\n",
       "      <th>Style</th>\n",
       "      <th>Country</th>\n",
       "      <th>Stars</th>\n",
       "    </tr>\n",
       "  </thead>\n",
       "  <tbody>\n",
       "    <tr>\n",
       "      <th>0</th>\n",
       "      <td>New Touch</td>\n",
       "      <td>T's Restaurant Tantanmen</td>\n",
       "      <td>Cup</td>\n",
       "      <td>Japan</td>\n",
       "      <td>3.75</td>\n",
       "    </tr>\n",
       "    <tr>\n",
       "      <th>1</th>\n",
       "      <td>Just Way</td>\n",
       "      <td>Noodles Spicy Hot Sesame Spicy Hot Sesame Guan...</td>\n",
       "      <td>Pack</td>\n",
       "      <td>Taiwan</td>\n",
       "      <td>1.00</td>\n",
       "    </tr>\n",
       "    <tr>\n",
       "      <th>2</th>\n",
       "      <td>Nissin</td>\n",
       "      <td>Cup Noodles Chicken Vegetable</td>\n",
       "      <td>Cup</td>\n",
       "      <td>USA</td>\n",
       "      <td>2.25</td>\n",
       "    </tr>\n",
       "    <tr>\n",
       "      <th>3</th>\n",
       "      <td>Wei Lih</td>\n",
       "      <td>GGE Ramen Snack Tomato Flavor</td>\n",
       "      <td>Pack</td>\n",
       "      <td>Taiwan</td>\n",
       "      <td>2.75</td>\n",
       "    </tr>\n",
       "    <tr>\n",
       "      <th>4</th>\n",
       "      <td>Ching's Secret</td>\n",
       "      <td>Singapore Curry</td>\n",
       "      <td>Pack</td>\n",
       "      <td>India</td>\n",
       "      <td>3.75</td>\n",
       "    </tr>\n",
       "  </tbody>\n",
       "</table>\n",
       "</div>"
      ],
      "text/plain": [
       "            Brand                                            Variety Style  \\\n",
       "0       New Touch                          T's Restaurant Tantanmen    Cup   \n",
       "1        Just Way  Noodles Spicy Hot Sesame Spicy Hot Sesame Guan...  Pack   \n",
       "2          Nissin                      Cup Noodles Chicken Vegetable   Cup   \n",
       "3         Wei Lih                      GGE Ramen Snack Tomato Flavor  Pack   \n",
       "4  Ching's Secret                                    Singapore Curry  Pack   \n",
       "\n",
       "  Country  Stars  \n",
       "0   Japan   3.75  \n",
       "1  Taiwan   1.00  \n",
       "2     USA   2.25  \n",
       "3  Taiwan   2.75  \n",
       "4   India   3.75  "
      ]
     },
     "execution_count": 2,
     "metadata": {},
     "output_type": "execute_result"
    }
   ],
   "source": [
    "df.head()"
   ]
  },
  {
   "cell_type": "markdown",
   "id": "ac636c0f-26ae-4c5e-b7f1-a3cccadd501f",
   "metadata": {},
   "source": [
    "### 3. Display the last five rows of data."
   ]
  },
  {
   "cell_type": "code",
   "execution_count": 3,
   "id": "4f792c31-91e2-4147-aaaa-8edbe12bf860",
   "metadata": {},
   "outputs": [
    {
     "data": {
      "text/html": [
       "<div>\n",
       "<style scoped>\n",
       "    .dataframe tbody tr th:only-of-type {\n",
       "        vertical-align: middle;\n",
       "    }\n",
       "\n",
       "    .dataframe tbody tr th {\n",
       "        vertical-align: top;\n",
       "    }\n",
       "\n",
       "    .dataframe thead th {\n",
       "        text-align: right;\n",
       "    }\n",
       "</style>\n",
       "<table border=\"1\" class=\"dataframe\">\n",
       "  <thead>\n",
       "    <tr style=\"text-align: right;\">\n",
       "      <th></th>\n",
       "      <th>Brand</th>\n",
       "      <th>Variety</th>\n",
       "      <th>Style</th>\n",
       "      <th>Country</th>\n",
       "      <th>Stars</th>\n",
       "    </tr>\n",
       "  </thead>\n",
       "  <tbody>\n",
       "    <tr>\n",
       "      <th>2572</th>\n",
       "      <td>Vifon</td>\n",
       "      <td>Hu Tiu Nam Vang [\"Phnom Penh\" style] Asian Sty...</td>\n",
       "      <td>Bowl</td>\n",
       "      <td>Vietnam</td>\n",
       "      <td>3.5</td>\n",
       "    </tr>\n",
       "    <tr>\n",
       "      <th>2573</th>\n",
       "      <td>Wai Wai</td>\n",
       "      <td>Oriental Style Instant Noodles</td>\n",
       "      <td>Pack</td>\n",
       "      <td>Thailand</td>\n",
       "      <td>1.0</td>\n",
       "    </tr>\n",
       "    <tr>\n",
       "      <th>2574</th>\n",
       "      <td>Wai Wai</td>\n",
       "      <td>Tom Yum Shrimp</td>\n",
       "      <td>Pack</td>\n",
       "      <td>Thailand</td>\n",
       "      <td>2.0</td>\n",
       "    </tr>\n",
       "    <tr>\n",
       "      <th>2575</th>\n",
       "      <td>Wai Wai</td>\n",
       "      <td>Tom Yum Chili Flavor</td>\n",
       "      <td>Pack</td>\n",
       "      <td>Thailand</td>\n",
       "      <td>2.0</td>\n",
       "    </tr>\n",
       "    <tr>\n",
       "      <th>2576</th>\n",
       "      <td>Westbrae</td>\n",
       "      <td>Miso Ramen</td>\n",
       "      <td>Pack</td>\n",
       "      <td>USA</td>\n",
       "      <td>0.5</td>\n",
       "    </tr>\n",
       "  </tbody>\n",
       "</table>\n",
       "</div>"
      ],
      "text/plain": [
       "         Brand                                            Variety Style  \\\n",
       "2572     Vifon  Hu Tiu Nam Vang [\"Phnom Penh\" style] Asian Sty...  Bowl   \n",
       "2573   Wai Wai                     Oriental Style Instant Noodles  Pack   \n",
       "2574   Wai Wai                                     Tom Yum Shrimp  Pack   \n",
       "2575   Wai Wai                               Tom Yum Chili Flavor  Pack   \n",
       "2576  Westbrae                                         Miso Ramen  Pack   \n",
       "\n",
       "       Country  Stars  \n",
       "2572   Vietnam    3.5  \n",
       "2573  Thailand    1.0  \n",
       "2574  Thailand    2.0  \n",
       "2575  Thailand    2.0  \n",
       "2576       USA    0.5  "
      ]
     },
     "execution_count": 3,
     "metadata": {},
     "output_type": "execute_result"
    }
   ],
   "source": [
    "df.tail()"
   ]
  },
  {
   "cell_type": "markdown",
   "id": "4956cb98-a3a1-46d8-91ac-daf099258613",
   "metadata": {},
   "source": [
    "### 4. Display statistical information for the numeric columns using the describe() method."
   ]
  },
  {
   "cell_type": "code",
   "execution_count": 4,
   "id": "684310f1-ac42-497e-b7ca-2d070250c3be",
   "metadata": {},
   "outputs": [
    {
     "data": {
      "text/html": [
       "<div>\n",
       "<style scoped>\n",
       "    .dataframe tbody tr th:only-of-type {\n",
       "        vertical-align: middle;\n",
       "    }\n",
       "\n",
       "    .dataframe tbody tr th {\n",
       "        vertical-align: top;\n",
       "    }\n",
       "\n",
       "    .dataframe thead th {\n",
       "        text-align: right;\n",
       "    }\n",
       "</style>\n",
       "<table border=\"1\" class=\"dataframe\">\n",
       "  <thead>\n",
       "    <tr style=\"text-align: right;\">\n",
       "      <th></th>\n",
       "      <th>Stars</th>\n",
       "    </tr>\n",
       "  </thead>\n",
       "  <tbody>\n",
       "    <tr>\n",
       "      <th>count</th>\n",
       "      <td>2577.000000</td>\n",
       "    </tr>\n",
       "    <tr>\n",
       "      <th>mean</th>\n",
       "      <td>3.654676</td>\n",
       "    </tr>\n",
       "    <tr>\n",
       "      <th>std</th>\n",
       "      <td>1.015331</td>\n",
       "    </tr>\n",
       "    <tr>\n",
       "      <th>min</th>\n",
       "      <td>0.000000</td>\n",
       "    </tr>\n",
       "    <tr>\n",
       "      <th>25%</th>\n",
       "      <td>3.250000</td>\n",
       "    </tr>\n",
       "    <tr>\n",
       "      <th>50%</th>\n",
       "      <td>3.750000</td>\n",
       "    </tr>\n",
       "    <tr>\n",
       "      <th>75%</th>\n",
       "      <td>4.250000</td>\n",
       "    </tr>\n",
       "    <tr>\n",
       "      <th>max</th>\n",
       "      <td>5.000000</td>\n",
       "    </tr>\n",
       "  </tbody>\n",
       "</table>\n",
       "</div>"
      ],
      "text/plain": [
       "             Stars\n",
       "count  2577.000000\n",
       "mean      3.654676\n",
       "std       1.015331\n",
       "min       0.000000\n",
       "25%       3.250000\n",
       "50%       3.750000\n",
       "75%       4.250000\n",
       "max       5.000000"
      ]
     },
     "execution_count": 4,
     "metadata": {},
     "output_type": "execute_result"
    }
   ],
   "source": [
    "df.describe()"
   ]
  },
  {
   "cell_type": "markdown",
   "id": "7f360f1b-2eec-4a35-ad81-5bbd32370343",
   "metadata": {},
   "source": [
    "### 5. Display the number of unique values for each column."
   ]
  },
  {
   "cell_type": "code",
   "execution_count": 5,
   "id": "71905802-0b54-4387-ad7a-9de84c82452b",
   "metadata": {},
   "outputs": [
    {
     "data": {
      "text/plain": [
       "Brand       355\n",
       "Variety    2410\n",
       "Style         7\n",
       "Country      38\n",
       "Stars        42\n",
       "dtype: int64"
      ]
     },
     "execution_count": 5,
     "metadata": {},
     "output_type": "execute_result"
    }
   ],
   "source": [
    "df.nunique()"
   ]
  },
  {
   "cell_type": "markdown",
   "id": "90b02325-b7cc-4474-8d00-7a9ce015bbe3",
   "metadata": {},
   "source": [
    "### 6. Display only rows where the country is Vietnam."
   ]
  },
  {
   "cell_type": "code",
   "execution_count": 6,
   "id": "52aa8a71-5d37-464f-9284-f8525d906c8e",
   "metadata": {},
   "outputs": [
    {
     "data": {
      "text/html": [
       "<div>\n",
       "<style scoped>\n",
       "    .dataframe tbody tr th:only-of-type {\n",
       "        vertical-align: middle;\n",
       "    }\n",
       "\n",
       "    .dataframe tbody tr th {\n",
       "        vertical-align: top;\n",
       "    }\n",
       "\n",
       "    .dataframe thead th {\n",
       "        text-align: right;\n",
       "    }\n",
       "</style>\n",
       "<table border=\"1\" class=\"dataframe\">\n",
       "  <thead>\n",
       "    <tr style=\"text-align: right;\">\n",
       "      <th></th>\n",
       "      <th>Brand</th>\n",
       "      <th>Variety</th>\n",
       "      <th>Style</th>\n",
       "      <th>Country</th>\n",
       "      <th>Stars</th>\n",
       "    </tr>\n",
       "  </thead>\n",
       "  <tbody>\n",
       "    <tr>\n",
       "      <th>18</th>\n",
       "      <td>Binh Tay</td>\n",
       "      <td>Mi Hai Cua</td>\n",
       "      <td>Pack</td>\n",
       "      <td>Vietnam</td>\n",
       "      <td>4.00</td>\n",
       "    </tr>\n",
       "    <tr>\n",
       "      <th>52</th>\n",
       "      <td>Uni-President</td>\n",
       "      <td>Mushroom Flavor</td>\n",
       "      <td>Pack</td>\n",
       "      <td>Vietnam</td>\n",
       "      <td>0.00</td>\n",
       "    </tr>\n",
       "    <tr>\n",
       "      <th>143</th>\n",
       "      <td>Mum Ngon</td>\n",
       "      <td>Lau Tom Chua Cay</td>\n",
       "      <td>Pack</td>\n",
       "      <td>Vietnam</td>\n",
       "      <td>3.50</td>\n",
       "    </tr>\n",
       "    <tr>\n",
       "      <th>224</th>\n",
       "      <td>Vifon</td>\n",
       "      <td>Viet Cuisine Bun Rieu Cua Sour Crab Soup Insta...</td>\n",
       "      <td>Bowl</td>\n",
       "      <td>Vietnam</td>\n",
       "      <td>5.00</td>\n",
       "    </tr>\n",
       "    <tr>\n",
       "      <th>365</th>\n",
       "      <td>Acecook</td>\n",
       "      <td>Oh! Ricey Pork Flavour</td>\n",
       "      <td>Pack</td>\n",
       "      <td>Vietnam</td>\n",
       "      <td>4.00</td>\n",
       "    </tr>\n",
       "    <tr>\n",
       "      <th>...</th>\n",
       "      <td>...</td>\n",
       "      <td>...</td>\n",
       "      <td>...</td>\n",
       "      <td>...</td>\n",
       "      <td>...</td>\n",
       "    </tr>\n",
       "    <tr>\n",
       "      <th>2486</th>\n",
       "      <td>Binh Tay</td>\n",
       "      <td>Mi Chay Mushroom</td>\n",
       "      <td>Pack</td>\n",
       "      <td>Vietnam</td>\n",
       "      <td>2.75</td>\n",
       "    </tr>\n",
       "    <tr>\n",
       "      <th>2535</th>\n",
       "      <td>Ve Wong</td>\n",
       "      <td>Kung-Fu Chicken Flavor</td>\n",
       "      <td>Pack</td>\n",
       "      <td>Vietnam</td>\n",
       "      <td>2.75</td>\n",
       "    </tr>\n",
       "    <tr>\n",
       "      <th>2570</th>\n",
       "      <td>Ve Wong</td>\n",
       "      <td>Mushroom Pork</td>\n",
       "      <td>Pack</td>\n",
       "      <td>Vietnam</td>\n",
       "      <td>1.00</td>\n",
       "    </tr>\n",
       "    <tr>\n",
       "      <th>2571</th>\n",
       "      <td>Vifon</td>\n",
       "      <td>Nam Vang</td>\n",
       "      <td>Pack</td>\n",
       "      <td>Vietnam</td>\n",
       "      <td>2.50</td>\n",
       "    </tr>\n",
       "    <tr>\n",
       "      <th>2572</th>\n",
       "      <td>Vifon</td>\n",
       "      <td>Hu Tiu Nam Vang [\"Phnom Penh\" style] Asian Sty...</td>\n",
       "      <td>Bowl</td>\n",
       "      <td>Vietnam</td>\n",
       "      <td>3.50</td>\n",
       "    </tr>\n",
       "  </tbody>\n",
       "</table>\n",
       "<p>108 rows × 5 columns</p>\n",
       "</div>"
      ],
      "text/plain": [
       "              Brand                                            Variety Style  \\\n",
       "18         Binh Tay                                         Mi Hai Cua  Pack   \n",
       "52    Uni-President                                    Mushroom Flavor  Pack   \n",
       "143        Mum Ngon                                   Lau Tom Chua Cay  Pack   \n",
       "224           Vifon  Viet Cuisine Bun Rieu Cua Sour Crab Soup Insta...  Bowl   \n",
       "365         Acecook                             Oh! Ricey Pork Flavour  Pack   \n",
       "...             ...                                                ...   ...   \n",
       "2486       Binh Tay                                   Mi Chay Mushroom  Pack   \n",
       "2535        Ve Wong                             Kung-Fu Chicken Flavor  Pack   \n",
       "2570        Ve Wong                                      Mushroom Pork  Pack   \n",
       "2571          Vifon                                           Nam Vang  Pack   \n",
       "2572          Vifon  Hu Tiu Nam Vang [\"Phnom Penh\" style] Asian Sty...  Bowl   \n",
       "\n",
       "      Country  Stars  \n",
       "18    Vietnam   4.00  \n",
       "52    Vietnam   0.00  \n",
       "143   Vietnam   3.50  \n",
       "224   Vietnam   5.00  \n",
       "365   Vietnam   4.00  \n",
       "...       ...    ...  \n",
       "2486  Vietnam   2.75  \n",
       "2535  Vietnam   2.75  \n",
       "2570  Vietnam   1.00  \n",
       "2571  Vietnam   2.50  \n",
       "2572  Vietnam   3.50  \n",
       "\n",
       "[108 rows x 5 columns]"
      ]
     },
     "execution_count": 6,
     "metadata": {},
     "output_type": "execute_result"
    }
   ],
   "source": [
    "df.query('Country == \"Vietnam\"')"
   ]
  },
  {
   "cell_type": "markdown",
   "id": "98c966e0-6ede-48d5-a4e5-80d7a28ea439",
   "metadata": {},
   "source": [
    "### 7. Display only the Brand and Style columns."
   ]
  },
  {
   "cell_type": "code",
   "execution_count": 7,
   "id": "985b5552-0a27-4ecc-a750-729af20464a2",
   "metadata": {},
   "outputs": [
    {
     "data": {
      "text/html": [
       "<div>\n",
       "<style scoped>\n",
       "    .dataframe tbody tr th:only-of-type {\n",
       "        vertical-align: middle;\n",
       "    }\n",
       "\n",
       "    .dataframe tbody tr th {\n",
       "        vertical-align: top;\n",
       "    }\n",
       "\n",
       "    .dataframe thead th {\n",
       "        text-align: right;\n",
       "    }\n",
       "</style>\n",
       "<table border=\"1\" class=\"dataframe\">\n",
       "  <thead>\n",
       "    <tr style=\"text-align: right;\">\n",
       "      <th></th>\n",
       "      <th>Brand</th>\n",
       "      <th>Style</th>\n",
       "    </tr>\n",
       "  </thead>\n",
       "  <tbody>\n",
       "    <tr>\n",
       "      <th>0</th>\n",
       "      <td>New Touch</td>\n",
       "      <td>Cup</td>\n",
       "    </tr>\n",
       "    <tr>\n",
       "      <th>1</th>\n",
       "      <td>Just Way</td>\n",
       "      <td>Pack</td>\n",
       "    </tr>\n",
       "    <tr>\n",
       "      <th>2</th>\n",
       "      <td>Nissin</td>\n",
       "      <td>Cup</td>\n",
       "    </tr>\n",
       "    <tr>\n",
       "      <th>3</th>\n",
       "      <td>Wei Lih</td>\n",
       "      <td>Pack</td>\n",
       "    </tr>\n",
       "    <tr>\n",
       "      <th>4</th>\n",
       "      <td>Ching's Secret</td>\n",
       "      <td>Pack</td>\n",
       "    </tr>\n",
       "    <tr>\n",
       "      <th>...</th>\n",
       "      <td>...</td>\n",
       "      <td>...</td>\n",
       "    </tr>\n",
       "    <tr>\n",
       "      <th>2572</th>\n",
       "      <td>Vifon</td>\n",
       "      <td>Bowl</td>\n",
       "    </tr>\n",
       "    <tr>\n",
       "      <th>2573</th>\n",
       "      <td>Wai Wai</td>\n",
       "      <td>Pack</td>\n",
       "    </tr>\n",
       "    <tr>\n",
       "      <th>2574</th>\n",
       "      <td>Wai Wai</td>\n",
       "      <td>Pack</td>\n",
       "    </tr>\n",
       "    <tr>\n",
       "      <th>2575</th>\n",
       "      <td>Wai Wai</td>\n",
       "      <td>Pack</td>\n",
       "    </tr>\n",
       "    <tr>\n",
       "      <th>2576</th>\n",
       "      <td>Westbrae</td>\n",
       "      <td>Pack</td>\n",
       "    </tr>\n",
       "  </tbody>\n",
       "</table>\n",
       "<p>2577 rows × 2 columns</p>\n",
       "</div>"
      ],
      "text/plain": [
       "               Brand Style\n",
       "0          New Touch   Cup\n",
       "1           Just Way  Pack\n",
       "2             Nissin   Cup\n",
       "3            Wei Lih  Pack\n",
       "4     Ching's Secret  Pack\n",
       "...              ...   ...\n",
       "2572           Vifon  Bowl\n",
       "2573         Wai Wai  Pack\n",
       "2574         Wai Wai  Pack\n",
       "2575         Wai Wai  Pack\n",
       "2576        Westbrae  Pack\n",
       "\n",
       "[2577 rows x 2 columns]"
      ]
     },
     "execution_count": 7,
     "metadata": {},
     "output_type": "execute_result"
    }
   ],
   "source": [
    "df[['Brand', 'Style']]"
   ]
  },
  {
   "cell_type": "markdown",
   "id": "31fbfc59-7641-4f99-8175-c07b2880d720",
   "metadata": {},
   "source": [
    "### 8. Display only the Country column."
   ]
  },
  {
   "cell_type": "code",
   "execution_count": 8,
   "id": "180713dc-9c0b-497f-82a7-8d8f61cb2a6b",
   "metadata": {},
   "outputs": [
    {
     "data": {
      "text/plain": [
       "0          Japan\n",
       "1         Taiwan\n",
       "2            USA\n",
       "3         Taiwan\n",
       "4          India\n",
       "          ...   \n",
       "2572     Vietnam\n",
       "2573    Thailand\n",
       "2574    Thailand\n",
       "2575    Thailand\n",
       "2576         USA\n",
       "Name: Country, Length: 2577, dtype: object"
      ]
     },
     "execution_count": 8,
     "metadata": {},
     "output_type": "execute_result"
    }
   ],
   "source": [
    "df.Country # or df[['Country']]"
   ]
  },
  {
   "cell_type": "markdown",
   "id": "6f8a15aa-c6f6-4e51-82b8-69cab36826ce",
   "metadata": {},
   "source": [
    "### 9. Display the data after it has been sorted by the Stars column from high values to low values."
   ]
  },
  {
   "cell_type": "code",
   "execution_count": 12,
   "id": "c1e18a7f-c3dc-4b02-9ac4-fce159c4d3e3",
   "metadata": {},
   "outputs": [
    {
     "data": {
      "text/html": [
       "<div>\n",
       "<style scoped>\n",
       "    .dataframe tbody tr th:only-of-type {\n",
       "        vertical-align: middle;\n",
       "    }\n",
       "\n",
       "    .dataframe tbody tr th {\n",
       "        vertical-align: top;\n",
       "    }\n",
       "\n",
       "    .dataframe thead th {\n",
       "        text-align: right;\n",
       "    }\n",
       "</style>\n",
       "<table border=\"1\" class=\"dataframe\">\n",
       "  <thead>\n",
       "    <tr style=\"text-align: right;\">\n",
       "      <th></th>\n",
       "      <th>Stars</th>\n",
       "    </tr>\n",
       "  </thead>\n",
       "  <tbody>\n",
       "    <tr>\n",
       "      <th>1585</th>\n",
       "      <td>5.0</td>\n",
       "    </tr>\n",
       "    <tr>\n",
       "      <th>446</th>\n",
       "      <td>5.0</td>\n",
       "    </tr>\n",
       "    <tr>\n",
       "      <th>484</th>\n",
       "      <td>5.0</td>\n",
       "    </tr>\n",
       "    <tr>\n",
       "      <th>483</th>\n",
       "      <td>5.0</td>\n",
       "    </tr>\n",
       "    <tr>\n",
       "      <th>1613</th>\n",
       "      <td>5.0</td>\n",
       "    </tr>\n",
       "    <tr>\n",
       "      <th>...</th>\n",
       "      <td>...</td>\n",
       "    </tr>\n",
       "    <tr>\n",
       "      <th>522</th>\n",
       "      <td>0.0</td>\n",
       "    </tr>\n",
       "    <tr>\n",
       "      <th>561</th>\n",
       "      <td>0.0</td>\n",
       "    </tr>\n",
       "    <tr>\n",
       "      <th>950</th>\n",
       "      <td>0.0</td>\n",
       "    </tr>\n",
       "    <tr>\n",
       "      <th>2079</th>\n",
       "      <td>0.0</td>\n",
       "    </tr>\n",
       "    <tr>\n",
       "      <th>52</th>\n",
       "      <td>0.0</td>\n",
       "    </tr>\n",
       "  </tbody>\n",
       "</table>\n",
       "<p>2577 rows × 1 columns</p>\n",
       "</div>"
      ],
      "text/plain": [
       "      Stars\n",
       "1585    5.0\n",
       "446     5.0\n",
       "484     5.0\n",
       "483     5.0\n",
       "1613    5.0\n",
       "...     ...\n",
       "522     0.0\n",
       "561     0.0\n",
       "950     0.0\n",
       "2079    0.0\n",
       "52      0.0\n",
       "\n",
       "[2577 rows x 1 columns]"
      ]
     },
     "execution_count": 12,
     "metadata": {},
     "output_type": "execute_result"
    }
   ],
   "source": [
    "Stars = df[['Stars']].sort_values(by='Stars', ascending=False)\n",
    "Stars"
   ]
  },
  {
   "cell_type": "markdown",
   "id": "6fb4d6e5-cc36-43b2-8af7-799e49f880ce",
   "metadata": {},
   "source": [
    "### 10. In the Country column, replace “USA” with “United States”. Make sure this change is saved in the DataFrame, and then display the first five rows to be sure the change was made correctly"
   ]
  },
  {
   "cell_type": "code",
   "execution_count": 13,
   "id": "eba6b175-b2d1-405f-9398-b300a726b298",
   "metadata": {},
   "outputs": [
    {
     "data": {
      "text/plain": [
       "0            Japan\n",
       "1           Taiwan\n",
       "2    United States\n",
       "3           Taiwan\n",
       "4            India\n",
       "Name: Country, dtype: object"
      ]
     },
     "execution_count": 13,
     "metadata": {},
     "output_type": "execute_result"
    }
   ],
   "source": [
    "df.Country.replace('USA', 'United States').head()\n"
   ]
  },
  {
   "cell_type": "markdown",
   "id": "5d45e7c5-8fcc-441e-8174-6b75ec4bcc8f",
   "metadata": {},
   "source": [
    "## Questions"
   ]
  },
  {
   "cell_type": "markdown",
   "id": "e6bcc0d7-ef88-4ce0-8603-8f55048c9abe",
   "metadata": {},
   "source": [
    "### 1. How many countries are represented in the data?"
   ]
  },
  {
   "cell_type": "code",
   "execution_count": 14,
   "id": "64e1be16-d4a7-48aa-bcbb-5b97ce2e9fcc",
   "metadata": {},
   "outputs": [
    {
     "data": {
      "text/plain": [
       "38"
      ]
     },
     "execution_count": 14,
     "metadata": {},
     "output_type": "execute_result"
    }
   ],
   "source": [
    "num_countries = df['Country'].nunique()\n",
    "num_countries\n"
   ]
  },
  {
   "cell_type": "markdown",
   "id": "d4469e5a-0200-48b0-a7f4-ee0005dcb298",
   "metadata": {},
   "source": [
    "### 2. Which three countries have the highest average rating?"
   ]
  },
  {
   "cell_type": "code",
   "execution_count": 15,
   "id": "6fa4c52e-fcef-4002-a992-7684111f8d71",
   "metadata": {},
   "outputs": [
    {
     "data": {
      "text/plain": [
       "Country\n",
       "Brazil      4.350000\n",
       "Sarawak     4.333333\n",
       "Cambodia    4.200000\n",
       "Name: Stars, dtype: float64"
      ]
     },
     "execution_count": 15,
     "metadata": {},
     "output_type": "execute_result"
    }
   ],
   "source": [
    "top_countries = df.groupby('Country')['Stars'].mean().sort_values(ascending=False).head(3)\n",
    "top_countries"
   ]
  },
  {
   "cell_type": "markdown",
   "id": "00d3def9-8d98-4967-a312-329561bef49b",
   "metadata": {},
   "source": [
    "### 3. Which three countries have the lowest average rating?"
   ]
  },
  {
   "cell_type": "code",
   "execution_count": 16,
   "id": "a4f9d0b8-c6f3-4e58-bee0-f5c4581fb003",
   "metadata": {},
   "outputs": [
    {
     "data": {
      "text/plain": [
       "Country\n",
       "Nigeria        1.500000\n",
       "Canada         2.243902\n",
       "Netherlands    2.483333\n",
       "Name: Stars, dtype: float64"
      ]
     },
     "execution_count": 16,
     "metadata": {},
     "output_type": "execute_result"
    }
   ],
   "source": [
    "b_countries = df.groupby('Country')['Stars'].mean().sort_values().head(3)\n",
    "b_countries"
   ]
  },
  {
   "cell_type": "markdown",
   "id": "af4a4c4a-3a83-4a9b-9f7e-7b08d56c60b1",
   "metadata": {},
   "source": [
    "### 4. Which three countries have the most brands, and how many brands does each of these countries have?"
   ]
  },
  {
   "cell_type": "code",
   "execution_count": 17,
   "id": "124f38ed-bacb-4879-92ce-33fbb245a6c8",
   "metadata": {},
   "outputs": [
    {
     "data": {
      "text/plain": [
       "Country\n",
       "Japan     58\n",
       "USA       49\n",
       "Taiwan    47\n",
       "Name: Brand, dtype: int64"
      ]
     },
     "execution_count": 17,
     "metadata": {},
     "output_type": "execute_result"
    }
   ],
   "source": [
    "brand_counts = df.groupby('Country')['Brand'].nunique().sort_values(ascending=False)\n",
    "top_three_countries = brand_counts.head(3)\n",
    "top_three_countries"
   ]
  },
  {
   "cell_type": "code",
   "execution_count": null,
   "id": "e8ddb78b-7c59-42a3-8f42-052a614476c5",
   "metadata": {},
   "outputs": [],
   "source": []
  }
 ],
 "metadata": {
  "kernelspec": {
   "display_name": "Python 3 (ipykernel)",
   "language": "python",
   "name": "python3"
  },
  "language_info": {
   "codemirror_mode": {
    "name": "ipython",
    "version": 3
   },
   "file_extension": ".py",
   "mimetype": "text/x-python",
   "name": "python",
   "nbconvert_exporter": "python",
   "pygments_lexer": "ipython3",
   "version": "3.11.6"
  }
 },
 "nbformat": 4,
 "nbformat_minor": 5
}
